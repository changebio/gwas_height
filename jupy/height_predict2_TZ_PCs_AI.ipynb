{
 "cells": [
  {
   "cell_type": "markdown",
   "metadata": {},
   "source": [
    "## Classification Model with Linear Model"
   ]
  },
  {
   "cell_type": "code",
   "execution_count": 168,
   "metadata": {},
   "outputs": [],
   "source": [
    "%matplotlib inline\n",
    "%reload_ext autoreload\n",
    "%autoreload 2"
   ]
  },
  {
   "cell_type": "code",
   "execution_count": 2,
   "metadata": {},
   "outputs": [],
   "source": [
    "import matplotlib.pyplot as plt"
   ]
  },
  {
   "cell_type": "code",
   "execution_count": 3,
   "metadata": {},
   "outputs": [],
   "source": [
    "from fastai import *\n",
    "from fastai.text import *"
   ]
  },
  {
   "cell_type": "code",
   "execution_count": 4,
   "metadata": {},
   "outputs": [
    {
     "data": {
      "text/plain": [
       "3"
      ]
     },
     "execution_count": 4,
     "metadata": {},
     "output_type": "execute_result"
    }
   ],
   "source": [
    "torch.cuda.set_device(3)\n",
    "torch.cuda.current_device()"
   ]
  },
  {
   "cell_type": "code",
   "execution_count": 5,
   "metadata": {},
   "outputs": [],
   "source": [
    "import parse_inputs\n",
    "\n",
    "from pathlib import Path\n",
    "\n",
    "import numpy as np\n",
    "import pandas as pd\n",
    "from pandas_plink import read_plink\n",
    "\n",
    "from sklearn import linear_model\n",
    "from sklearn.svm import SVR\n",
    "from sklearn import metrics\n",
    "\n",
    "#from ggplot import *\n",
    "PATH=Path('ddat/crowdAI/')\n",
    "TMP_PATH = PATH/'tmp'\n",
    "TMP_PATH.mkdir(exist_ok=True)"
   ]
  },
  {
   "cell_type": "code",
   "execution_count": 6,
   "metadata": {},
   "outputs": [],
   "source": [
    "from sklearn.decomposition import PCA"
   ]
  },
  {
   "cell_type": "code",
   "execution_count": 7,
   "metadata": {},
   "outputs": [],
   "source": [
    "from sklearn import linear_model\n",
    "#import crowdai"
   ]
  },
  {
   "cell_type": "code",
   "execution_count": 8,
   "metadata": {},
   "outputs": [],
   "source": [
    "import random"
   ]
  },
  {
   "cell_type": "code",
   "execution_count": 9,
   "metadata": {},
   "outputs": [
    {
     "name": "stderr",
     "output_type": "stream",
     "text": [
      "/home/ahmadA/anaconda3/envs/dereck/lib/python3.6/site-packages/sklearn/externals/joblib/__init__.py:15: DeprecationWarning: sklearn.externals.joblib is deprecated in 0.21 and will be removed in 0.23. Please import this functionality directly from joblib, which can be installed with: pip install joblib. If this warning is raised when loading pickled models, you may need to re-serialize those models with scikit-learn 0.21+.\n",
      "  warnings.warn(msg, category=DeprecationWarning)\n"
     ]
    }
   ],
   "source": [
    "from snp2h import *"
   ]
  },
  {
   "cell_type": "markdown",
   "metadata": {},
   "source": [
    "# Loading Genotype and Phenotype"
   ]
  },
  {
   "cell_type": "code",
   "execution_count": 160,
   "metadata": {},
   "outputs": [],
   "source": [
    "?read_plink"
   ]
  },
  {
   "cell_type": "code",
   "execution_count": 169,
   "metadata": {},
   "outputs": [],
   "source": [
    "import vcf"
   ]
  },
  {
   "cell_type": "code",
   "execution_count": 170,
   "metadata": {},
   "outputs": [],
   "source": [
    "vcf_reader = vcf.Reader(filename='ddat/crowdAI/alltaizhou.vcf.gz')"
   ]
  },
  {
   "cell_type": "code",
   "execution_count": 172,
   "metadata": {},
   "outputs": [],
   "source": [
    "import pysam"
   ]
  },
  {
   "cell_type": "code",
   "execution_count": 175,
   "metadata": {},
   "outputs": [
    {
     "ename": "OSError",
     "evalue": "index `ddat/crowdAI/alltaizhou.vcf.gz.tbi` not found",
     "output_type": "error",
     "traceback": [
      "\u001b[0;31m---------------------------------------------------------------------------\u001b[0m",
      "\u001b[0;31mOSError\u001b[0m                                   Traceback (most recent call last)",
      "\u001b[0;32m<ipython-input-175-44d4180d6169>\u001b[0m in \u001b[0;36m<module>\u001b[0;34m()\u001b[0m\n\u001b[1;32m      2\u001b[0m \u001b[0;34m\u001b[0m\u001b[0m\n\u001b[1;32m      3\u001b[0m \u001b[0mvcf\u001b[0m \u001b[0;34m=\u001b[0m \u001b[0mVCF\u001b[0m\u001b[0;34m(\u001b[0m\u001b[0;34m)\u001b[0m\u001b[0;34m\u001b[0m\u001b[0;34m\u001b[0m\u001b[0m\n\u001b[0;32m----> 4\u001b[0;31m \u001b[0mvcf\u001b[0m\u001b[0;34m.\u001b[0m\u001b[0mconnect\u001b[0m\u001b[0;34m(\u001b[0m\u001b[0;34m'ddat/crowdAI/alltaizhou.vcf.gz'\u001b[0m\u001b[0;34m)\u001b[0m\u001b[0;34m\u001b[0m\u001b[0;34m\u001b[0m\u001b[0m\n\u001b[0m\u001b[1;32m      5\u001b[0m \u001b[0;34m\u001b[0m\u001b[0m\n\u001b[1;32m      6\u001b[0m \u001b[0;32mfor\u001b[0m \u001b[0mrecord\u001b[0m \u001b[0;32min\u001b[0m \u001b[0mvcf\u001b[0m\u001b[0;34m.\u001b[0m\u001b[0mfetch\u001b[0m\u001b[0;34m(\u001b[0m\u001b[0;34m'5'\u001b[0m\u001b[0;34m)\u001b[0m\u001b[0;34m:\u001b[0m\u001b[0;34m\u001b[0m\u001b[0;34m\u001b[0m\u001b[0m\n",
      "\u001b[0;32mpysam/libcvcf.pyx\u001b[0m in \u001b[0;36mpysam.libcvcf.VCF.connect\u001b[0;34m()\u001b[0m\n",
      "\u001b[0;32mpysam/libctabix.pyx\u001b[0m in \u001b[0;36mpysam.libctabix.TabixFile.__cinit__\u001b[0;34m()\u001b[0m\n",
      "\u001b[0;32mpysam/libctabix.pyx\u001b[0m in \u001b[0;36mpysam.libctabix.TabixFile._open\u001b[0;34m()\u001b[0m\n",
      "\u001b[0;31mOSError\u001b[0m: index `ddat/crowdAI/alltaizhou.vcf.gz.tbi` not found"
     ]
    }
   ],
   "source": [
    "from pysam import VCF\n",
    "\n",
    "vcf = VCF()\n",
    "vcf.connect('ddat/crowdAI/alltaizhou.vcf.gz')\n",
    "\n",
    "for record in vcf.fetch('5'):\n",
    "    print(record)"
   ]
  },
  {
   "cell_type": "code",
   "execution_count": 173,
   "metadata": {},
   "outputs": [
    {
     "ename": "Exception",
     "evalue": "pysam not available, try \"pip install pysam\"?",
     "output_type": "error",
     "traceback": [
      "\u001b[0;31m---------------------------------------------------------------------------\u001b[0m",
      "\u001b[0;31mException\u001b[0m                                 Traceback (most recent call last)",
      "\u001b[0;32m<ipython-input-173-6e62cfb671eb>\u001b[0m in \u001b[0;36m<module>\u001b[0;34m()\u001b[0m\n\u001b[0;32m----> 1\u001b[0;31m \u001b[0;32mfor\u001b[0m \u001b[0mrecord\u001b[0m \u001b[0;32min\u001b[0m \u001b[0mvcf_reader\u001b[0m\u001b[0;34m.\u001b[0m\u001b[0mfetch\u001b[0m\u001b[0;34m(\u001b[0m\u001b[0;34m'20'\u001b[0m\u001b[0;34m,\u001b[0m \u001b[0;36m1110695\u001b[0m\u001b[0;34m,\u001b[0m \u001b[0;36m1230237\u001b[0m\u001b[0;34m)\u001b[0m\u001b[0;34m:\u001b[0m\u001b[0;34m\u001b[0m\u001b[0;34m\u001b[0m\u001b[0m\n\u001b[0m\u001b[1;32m      2\u001b[0m      \u001b[0mprint\u001b[0m\u001b[0;34m(\u001b[0m\u001b[0mrecord\u001b[0m\u001b[0;34m)\u001b[0m\u001b[0;34m\u001b[0m\u001b[0;34m\u001b[0m\u001b[0m\n",
      "\u001b[0;32m~/anaconda3/envs/dereck/lib/python3.6/site-packages/vcf/parser.py\u001b[0m in \u001b[0;36mfetch\u001b[0;34m(self, chrom, start, end)\u001b[0m\n\u001b[1;32m    618\u001b[0m         \"\"\"\n\u001b[1;32m    619\u001b[0m         \u001b[0;32mif\u001b[0m \u001b[0;32mnot\u001b[0m \u001b[0mpysam\u001b[0m\u001b[0;34m:\u001b[0m\u001b[0;34m\u001b[0m\u001b[0;34m\u001b[0m\u001b[0m\n\u001b[0;32m--> 620\u001b[0;31m             \u001b[0;32mraise\u001b[0m \u001b[0mException\u001b[0m\u001b[0;34m(\u001b[0m\u001b[0;34m'pysam not available, try \"pip install pysam\"?'\u001b[0m\u001b[0;34m)\u001b[0m\u001b[0;34m\u001b[0m\u001b[0;34m\u001b[0m\u001b[0m\n\u001b[0m\u001b[1;32m    621\u001b[0m         \u001b[0;32mif\u001b[0m \u001b[0;32mnot\u001b[0m \u001b[0mself\u001b[0m\u001b[0;34m.\u001b[0m\u001b[0mfilename\u001b[0m\u001b[0;34m:\u001b[0m\u001b[0;34m\u001b[0m\u001b[0;34m\u001b[0m\u001b[0m\n\u001b[1;32m    622\u001b[0m             \u001b[0;32mraise\u001b[0m \u001b[0mException\u001b[0m\u001b[0;34m(\u001b[0m\u001b[0;34m'Please provide a filename (or a \"normal\" fsock)'\u001b[0m\u001b[0;34m)\u001b[0m\u001b[0;34m\u001b[0m\u001b[0;34m\u001b[0m\u001b[0m\n",
      "\u001b[0;31mException\u001b[0m: pysam not available, try \"pip install pysam\"?"
     ]
    }
   ],
   "source": [
    "for record in vcf_reader.fetch('20', 1110695, 1230237):  \n",
    "     print(record)"
   ]
  },
  {
   "cell_type": "code",
   "execution_count": 10,
   "metadata": {},
   "outputs": [
    {
     "name": "stderr",
     "output_type": "stream",
     "text": [
      "Mapping files: 100%|██████████| 3/3 [00:01<00:00,  1.15it/s]\n"
     ]
    },
    {
     "data": {
      "text/html": [
       "<div>\n",
       "<style scoped>\n",
       "    .dataframe tbody tr th:only-of-type {\n",
       "        vertical-align: middle;\n",
       "    }\n",
       "\n",
       "    .dataframe tbody tr th {\n",
       "        vertical-align: top;\n",
       "    }\n",
       "\n",
       "    .dataframe thead th {\n",
       "        text-align: right;\n",
       "    }\n",
       "</style>\n",
       "<table border=\"1\" class=\"dataframe\">\n",
       "  <thead>\n",
       "    <tr style=\"text-align: right;\">\n",
       "      <th></th>\n",
       "      <th>ID</th>\n",
       "      <th>height</th>\n",
       "      <th>ChipID</th>\n",
       "      <th>nationality</th>\n",
       "      <th>gender</th>\n",
       "      <th>biclass</th>\n",
       "      <th>triclass</th>\n",
       "      <th>residual</th>\n",
       "    </tr>\n",
       "  </thead>\n",
       "  <tbody>\n",
       "    <tr>\n",
       "      <th>9992564090_R01C01</th>\n",
       "      <td>TL2257</td>\n",
       "      <td>177.0</td>\n",
       "      <td>9992564090_R01C01</td>\n",
       "      <td>0</td>\n",
       "      <td>1</td>\n",
       "      <td>1</td>\n",
       "      <td>1</td>\n",
       "      <td>8.606139</td>\n",
       "    </tr>\n",
       "    <tr>\n",
       "      <th>9992564090_R05C01</th>\n",
       "      <td>TL0067</td>\n",
       "      <td>155.0</td>\n",
       "      <td>9992564090_R05C01</td>\n",
       "      <td>0</td>\n",
       "      <td>2</td>\n",
       "      <td>0</td>\n",
       "      <td>0</td>\n",
       "      <td>-1.518641</td>\n",
       "    </tr>\n",
       "    <tr>\n",
       "      <th>9992564090_R07C01</th>\n",
       "      <td>TL0139</td>\n",
       "      <td>143.5</td>\n",
       "      <td>9992564090_R07C01</td>\n",
       "      <td>0</td>\n",
       "      <td>2</td>\n",
       "      <td>0</td>\n",
       "      <td>-1</td>\n",
       "      <td>-13.018641</td>\n",
       "    </tr>\n",
       "    <tr>\n",
       "      <th>9992564090_R08C01</th>\n",
       "      <td>TL0279</td>\n",
       "      <td>161.9</td>\n",
       "      <td>9992564090_R08C01</td>\n",
       "      <td>0</td>\n",
       "      <td>2</td>\n",
       "      <td>1</td>\n",
       "      <td>1</td>\n",
       "      <td>5.381359</td>\n",
       "    </tr>\n",
       "    <tr>\n",
       "      <th>9992564137_R01C01</th>\n",
       "      <td>TL1090</td>\n",
       "      <td>155.2</td>\n",
       "      <td>9992564137_R01C01</td>\n",
       "      <td>0</td>\n",
       "      <td>2</td>\n",
       "      <td>0</td>\n",
       "      <td>0</td>\n",
       "      <td>-1.318641</td>\n",
       "    </tr>\n",
       "  </tbody>\n",
       "</table>\n",
       "</div>"
      ],
      "text/plain": [
       "                       ID  height             ChipID  nationality  gender  \\\n",
       "9992564090_R01C01  TL2257   177.0  9992564090_R01C01            0       1   \n",
       "9992564090_R05C01  TL0067   155.0  9992564090_R05C01            0       2   \n",
       "9992564090_R07C01  TL0139   143.5  9992564090_R07C01            0       2   \n",
       "9992564090_R08C01  TL0279   161.9  9992564090_R08C01            0       2   \n",
       "9992564137_R01C01  TL1090   155.2  9992564137_R01C01            0       2   \n",
       "\n",
       "                   biclass  triclass   residual  \n",
       "9992564090_R01C01        1         1   8.606139  \n",
       "9992564090_R05C01        0         0  -1.518641  \n",
       "9992564090_R07C01        0        -1 -13.018641  \n",
       "9992564090_R08C01        1         1   5.381359  \n",
       "9992564137_R01C01        0         0  -1.318641  "
      ]
     },
     "execution_count": 10,
     "metadata": {},
     "output_type": "execute_result"
    }
   ],
   "source": [
    "tz_plink = read_plink('ddat/crowdAI/all2964/bin_final_strand')\n",
    "tz_maf = pd.read_csv(PATH/'TZ14_one.frq',delim_whitespace=True)\n",
    "all_meta = pd.read_csv(TMP_PATH/'tz_and_os_meta.csv',index_col=0)\n",
    "all_meta.head()"
   ]
  },
  {
   "cell_type": "code",
   "execution_count": 11,
   "metadata": {},
   "outputs": [],
   "source": [
    "pcs = pd.read_csv(PATH/'all2964/tz_plink_ld_r2_0.2.eigenvec',delim_whitespace=True,header=None,usecols=range(1,6),index_col=0)"
   ]
  },
  {
   "cell_type": "code",
   "execution_count": 12,
   "metadata": {},
   "outputs": [],
   "source": [
    "pcs.columns = ['pc1','pc2','pc3','pc4']"
   ]
  },
  {
   "cell_type": "code",
   "execution_count": 13,
   "metadata": {},
   "outputs": [
    {
     "data": {
      "text/plain": [
       "<matplotlib.collections.PathCollection at 0x7f5acaf22e48>"
      ]
     },
     "execution_count": 13,
     "metadata": {},
     "output_type": "execute_result"
    },
    {
     "data": {
      "image/png": "[encoded data removed]",
      "text/plain": [
       "<Figure size 432x288 with 1 Axes>"
      ]
     },
     "metadata": {},
     "output_type": "display_data"
    }
   ],
   "source": [
    "plt.scatter(pcs.pc1,pcs.pc2)\n",
    "plt.scatter(pcs.pc1,pcs.pc3)\n",
    "plt.scatter(pcs.pc2,pcs.pc3)"
   ]
  },
  {
   "cell_type": "code",
   "execution_count": 112,
   "metadata": {
    "scrolled": true
   },
   "outputs": [
    {
     "data": {
      "text/plain": [
       "(4, 7, 7, 4, 2946)"
      ]
     },
     "execution_count": 112,
     "metadata": {},
     "output_type": "execute_result"
    }
   ],
   "source": [
    "i = -0.1\n",
    "sum(pcs.pc1< i),sum(pcs.pc2<i),sum(pcs.pc3<i),sum(pcs.pc4<i),sum((pcs<i).sum(1)==0)"
   ]
  },
  {
   "cell_type": "code",
   "execution_count": 81,
   "metadata": {
    "collapsed": true
   },
   "outputs": [],
   "source": [
    "import numpy as np\n",
    "\n",
    "def removeOutliers(x, outlierConstant=1.5):\n",
    "    a = np.array(x)\n",
    "    upper_quartile = np.percentile(a, 75)\n",
    "    lower_quartile = np.percentile(a, 25)\n",
    "    IQR = (upper_quartile - lower_quartile) * outlierConstant\n",
    "    quartileSet = (lower_quartile - IQR, upper_quartile + IQR)\n",
    "    resultList = []\n",
    "    for y in a.tolist():\n",
    "        if y >= quartileSet[0] and y <= quartileSet[1]:\n",
    "            resultList.append(y)\n",
    "    return resultList"
   ]
  },
  {
   "cell_type": "code",
   "execution_count": 84,
   "metadata": {
    "collapsed": true
   },
   "outputs": [],
   "source": [
    "def mad_based_outlier(points, thresh=3.5):\n",
    "    if len(points.shape) == 1:\n",
    "        points = points[:,None]\n",
    "    median = np.median(points, axis=0)\n",
    "    diff = np.sum((points - median)**2, axis=-1)\n",
    "    diff = np.sqrt(diff)\n",
    "    med_abs_deviation = np.median(diff)\n",
    "\n",
    "    modified_z_score = 0.6745 * diff / med_abs_deviation\n",
    "\n",
    "    return modified_z_score > thresh\n",
    "\n",
    "def percentile_based_outlier(data, threshold=95):\n",
    "    diff = (100 - threshold) / 2.0\n",
    "    minval, maxval = np.percentile(data, [diff, 100 - diff])\n",
    "    return (data < minval) | (data > maxval)"
   ]
  },
  {
   "cell_type": "code",
   "execution_count": 88,
   "metadata": {},
   "outputs": [
    {
     "data": {
      "text/plain": [
       "150"
      ]
     },
     "execution_count": 88,
     "metadata": {},
     "output_type": "execute_result"
    }
   ],
   "source": [
    "sum(percentile_based_outlier(np.array(pcs.pc3)))"
   ]
  },
  {
   "cell_type": "code",
   "execution_count": 83,
   "metadata": {},
   "outputs": [
    {
     "data": {
      "text/plain": [
       "2914"
      ]
     },
     "execution_count": 83,
     "metadata": {},
     "output_type": "execute_result"
    }
   ],
   "source": [
    "len(removeOutliers(np.array(pcs.pc1)))"
   ]
  },
  {
   "cell_type": "code",
   "execution_count": 80,
   "metadata": {},
   "outputs": [
    {
     "data": {
      "text/plain": [
       "(array([   3.,    0.,    0.,    1.,    3.,    0.,    1.,    0., 2887.,   69.]),\n",
       " array([-0.47656, -0.42243, -0.3683 , -0.31418, -0.26005, -0.20593, -0.1518 , -0.09768, -0.04355,  0.01057,\n",
       "         0.0647 ]),\n",
       " <a list of 10 Patch objects>)"
      ]
     },
     "execution_count": 80,
     "metadata": {},
     "output_type": "execute_result"
    },
    {
     "data": {
      "image/png": "[encoded data removed]",
      "text/plain": [
       "<Figure size 432x288 with 1 Axes>"
      ]
     },
     "metadata": {},
     "output_type": "display_data"
    }
   ],
   "source": [
    "plt.hist(pcs.pc4)"
   ]
  },
  {
   "cell_type": "code",
   "execution_count": 69,
   "metadata": {},
   "outputs": [
    {
     "data": {
      "text/html": [
       "<div>\n",
       "<style scoped>\n",
       "    .dataframe tbody tr th:only-of-type {\n",
       "        vertical-align: middle;\n",
       "    }\n",
       "\n",
       "    .dataframe tbody tr th {\n",
       "        vertical-align: top;\n",
       "    }\n",
       "\n",
       "    .dataframe thead th {\n",
       "        text-align: right;\n",
       "    }\n",
       "</style>\n",
       "<table border=\"1\" class=\"dataframe\">\n",
       "  <thead>\n",
       "    <tr style=\"text-align: right;\">\n",
       "      <th></th>\n",
       "      <th>pc1</th>\n",
       "      <th>pc2</th>\n",
       "      <th>pc3</th>\n",
       "      <th>pc4</th>\n",
       "    </tr>\n",
       "    <tr>\n",
       "      <th>1</th>\n",
       "      <th></th>\n",
       "      <th></th>\n",
       "      <th></th>\n",
       "      <th></th>\n",
       "    </tr>\n",
       "  </thead>\n",
       "  <tbody>\n",
       "    <tr>\n",
       "      <th>9992564090_R01C01</th>\n",
       "      <td>-0.002153</td>\n",
       "      <td>0.005162</td>\n",
       "      <td>-0.009551</td>\n",
       "      <td>0.001801</td>\n",
       "    </tr>\n",
       "    <tr>\n",
       "      <th>9992564090_R02C01</th>\n",
       "      <td>-0.000760</td>\n",
       "      <td>0.001298</td>\n",
       "      <td>0.000205</td>\n",
       "      <td>0.006244</td>\n",
       "    </tr>\n",
       "    <tr>\n",
       "      <th>9992564090_R04C01</th>\n",
       "      <td>0.001983</td>\n",
       "      <td>0.005145</td>\n",
       "      <td>0.000541</td>\n",
       "      <td>0.005650</td>\n",
       "    </tr>\n",
       "    <tr>\n",
       "      <th>9992564090_R05C01</th>\n",
       "      <td>-0.000875</td>\n",
       "      <td>0.003965</td>\n",
       "      <td>0.000334</td>\n",
       "      <td>-0.003586</td>\n",
       "    </tr>\n",
       "    <tr>\n",
       "      <th>9992564090_R06C01</th>\n",
       "      <td>0.002148</td>\n",
       "      <td>-0.000913</td>\n",
       "      <td>0.003487</td>\n",
       "      <td>-0.001595</td>\n",
       "    </tr>\n",
       "  </tbody>\n",
       "</table>\n",
       "</div>"
      ],
      "text/plain": [
       "                        pc1       pc2       pc3       pc4\n",
       "1                                                        \n",
       "9992564090_R01C01 -0.002153  0.005162 -0.009551  0.001801\n",
       "9992564090_R02C01 -0.000760  0.001298  0.000205  0.006244\n",
       "9992564090_R04C01  0.001983  0.005145  0.000541  0.005650\n",
       "9992564090_R05C01 -0.000875  0.003965  0.000334 -0.003586\n",
       "9992564090_R06C01  0.002148 -0.000913  0.003487 -0.001595"
      ]
     },
     "execution_count": 69,
     "metadata": {},
     "output_type": "execute_result"
    }
   ],
   "source": [
    "pcs.head()"
   ]
  },
  {
   "cell_type": "code",
   "execution_count": 21,
   "metadata": {
    "collapsed": true
   },
   "outputs": [],
   "source": [
    "import plotly"
   ]
  },
  {
   "cell_type": "code",
   "execution_count": 25,
   "metadata": {},
   "outputs": [
    {
     "data": {
      "text/html": [
       "<script>requirejs.config({paths: { 'plotly': ['https://cdn.plot.ly/plotly-latest.min']},});if(!window.Plotly) {{require(['plotly'],function(plotly) {window.Plotly=plotly;});}}</script>"
      ],
      "text/vnd.plotly.v1+html": [
       "<script>requirejs.config({paths: { 'plotly': ['https://cdn.plot.ly/plotly-latest.min']},});if(!window.Plotly) {{require(['plotly'],function(plotly) {window.Plotly=plotly;});}}</script>"
      ]
     },
     "metadata": {},
     "output_type": "display_data"
    },
    {
     "name": "stderr",
     "output_type": "stream",
     "text": [
      "/home/ahmadA/anaconda3/envs/fastai/lib/python3.6/site-packages/plotly/offline/offline.py:459: UserWarning:\n",
      "\n",
      "Your filename `3d-scatter-colorscale` didn't end with .html. Adding .html to the end of your file.\n",
      "\n"
     ]
    },
    {
     "data": {
      "text/plain": [
       "'file:///home/ahmadA/dereck/proj/predict_height/3d-scatter-colorscale.html'"
      ]
     },
     "execution_count": 25,
     "metadata": {},
     "output_type": "execute_result"
    }
   ],
   "source": [
    "import plotly.plotly as py\n",
    "import plotly.graph_objs as go\n",
    "from plotly.offline import download_plotlyjs, init_notebook_mode, plot, iplot\n",
    "import numpy as np\n",
    "plotly.offline.init_notebook_mode(connected=True)\n",
    "\n",
    "x, y, z,c = pcs.iloc[:,2],pcs.iloc[:,3],pcs.iloc[:,4],(pcs.iloc[:,0]!='HAN').astype(int)\n",
    "\n",
    "trace1 = go.Scatter3d(\n",
    "    x=x,\n",
    "    y=y,\n",
    "    z=z,\n",
    "    mode='markers',\n",
    "    marker=dict(\n",
    "        size=12,\n",
    "        color=c,                # set color to an array/list of desired values\n",
    "        colorscale='Viridis',   # choose a colorscale\n",
    "        opacity=0.8\n",
    "    )\n",
    ")\n",
    "\n",
    "data = [trace1]\n",
    "layout = go.Layout(\n",
    "    margin=dict(\n",
    "        l=0,\n",
    "        r=0,\n",
    "        b=0,\n",
    "        t=0\n",
    "    )\n",
    ")\n",
    "fig = go.Figure(data=data, layout=layout)\n",
    "plot(fig, filename='3d-scatter-colorscale')"
   ]
  },
  {
   "cell_type": "markdown",
   "metadata": {},
   "source": [
    "# Filter genotype  "
   ]
  },
  {
   "cell_type": "code",
   "execution_count": 13,
   "metadata": {},
   "outputs": [],
   "source": [
    "tz_maf_filter = tz_maf.apply(select_snp, axis=1)\n",
    "tz_maf_new=tz_maf.loc[tz_maf_filter==1,]\n",
    "tz_sample_index = [i for i,x in enumerate(tz_plink[1].iid) if x in list(all_meta.index)]\n",
    "tz_plink=plink_slice(tz_plink,list(tz_maf_new.index),tz_sample_index)"
   ]
  },
  {
   "cell_type": "markdown",
   "metadata": {},
   "source": [
    "# Get GWAS "
   ]
  },
  {
   "cell_type": "code",
   "execution_count": 14,
   "metadata": {},
   "outputs": [],
   "source": [
    "snps = {'tz_a':pd.read_csv(TMP_PATH/'SNPs_GWAS_Pincrease_Residual_of_Gender.csv',index_col=0),\n",
    "       'tz_f':pd.read_csv(TMP_PATH/'SNPs_GWAS_TZ_Female.csv',index_col=0),\n",
    "       'tz_m':pd.read_csv(TMP_PATH/'SNPs_GWAS_TZ_Male.csv',index_col=0),\n",
    "       'os_a':pd.read_csv(TMP_PATH/'SNPs_GWAS_Pincrease_Residual_of_Gender_OS.csv',index_col=0),\n",
    "       'os_f':pd.read_csv(TMP_PATH/'SNPs_GWAS_OS_Female.csv',index_col=0),\n",
    "       'os_m':pd.read_csv(TMP_PATH/'SNPs_GWAS_OS_Male.csv',index_col=0),\n",
    "       'other':pd.read_csv(TMP_PATH/'snps_sorted_p_val_v2.csv',index_col=0)}"
   ]
  },
  {
   "cell_type": "code",
   "execution_count": 15,
   "metadata": {},
   "outputs": [
    {
     "data": {
      "text/plain": [
       "684066"
      ]
     },
     "execution_count": 15,
     "metadata": {},
     "output_type": "execute_result"
    }
   ],
   "source": [
    "snp_pool = set(tz_plink[0].snp)\n",
    "len(snp_pool)"
   ]
  },
  {
   "cell_type": "code",
   "execution_count": 16,
   "metadata": {},
   "outputs": [],
   "source": [
    "def topn_snp(s,p,t=500):\n",
    "    n = 0\n",
    "    snp = []\n",
    "    for x in s.index:\n",
    "        if x in p:\n",
    "            n +=1\n",
    "            snp.append(x)\n",
    "            if n>=t:\n",
    "                break\n",
    "    return snp"
   ]
  },
  {
   "cell_type": "code",
   "execution_count": 17,
   "metadata": {},
   "outputs": [],
   "source": [
    "snp_list=[{k:topn_snp(v,snp_pool,t=n) for k,v in snps.items()} for n in [50,100,200,300,500]]"
   ]
  },
  {
   "cell_type": "markdown",
   "metadata": {},
   "source": [
    "# Linear model (gender and nationality)"
   ]
  },
  {
   "cell_type": "code",
   "execution_count": 40,
   "metadata": {
    "collapsed": true
   },
   "outputs": [],
   "source": [
    "def gn_residual(meta,test=None,t=True,col=['gender','nationality']):\n",
    "    #Load training data\n",
    "    x_train = meta[col]\n",
    "    y_train = meta.height\n",
    "\n",
    "    # Instantiate a linear model\n",
    "    regr = linear_model.LinearRegression()\n",
    "    regr.fit(x_train, y_train)\n",
    "    if t:\n",
    "        x_test = test[col]\n",
    "        # Predict the heights for the test set\n",
    "        heights = regr.predict(x_test)\n",
    "        submit(heights)\n",
    "    return regr"
   ]
  },
  {
   "cell_type": "code",
   "execution_count": 18,
   "metadata": {},
   "outputs": [],
   "source": [
    "tz_meta=all_meta.loc[tz_plink[1].iid,]"
   ]
  },
  {
   "cell_type": "code",
   "execution_count": 19,
   "metadata": {
    "scrolled": true
   },
   "outputs": [
    {
     "data": {
      "text/html": [
       "<div>\n",
       "<style scoped>\n",
       "    .dataframe tbody tr th:only-of-type {\n",
       "        vertical-align: middle;\n",
       "    }\n",
       "\n",
       "    .dataframe tbody tr th {\n",
       "        vertical-align: top;\n",
       "    }\n",
       "\n",
       "    .dataframe thead th {\n",
       "        text-align: right;\n",
       "    }\n",
       "</style>\n",
       "<table border=\"1\" class=\"dataframe\">\n",
       "  <thead>\n",
       "    <tr style=\"text-align: right;\">\n",
       "      <th></th>\n",
       "      <th>ID</th>\n",
       "      <th>height</th>\n",
       "      <th>ChipID</th>\n",
       "      <th>nationality</th>\n",
       "      <th>gender</th>\n",
       "      <th>biclass</th>\n",
       "      <th>triclass</th>\n",
       "      <th>residual</th>\n",
       "    </tr>\n",
       "  </thead>\n",
       "  <tbody>\n",
       "    <tr>\n",
       "      <th>9992564090_R01C01</th>\n",
       "      <td>TL2257</td>\n",
       "      <td>177.0</td>\n",
       "      <td>9992564090_R01C01</td>\n",
       "      <td>0</td>\n",
       "      <td>1</td>\n",
       "      <td>1</td>\n",
       "      <td>1</td>\n",
       "      <td>8.606139</td>\n",
       "    </tr>\n",
       "    <tr>\n",
       "      <th>9992564090_R05C01</th>\n",
       "      <td>TL0067</td>\n",
       "      <td>155.0</td>\n",
       "      <td>9992564090_R05C01</td>\n",
       "      <td>0</td>\n",
       "      <td>2</td>\n",
       "      <td>0</td>\n",
       "      <td>0</td>\n",
       "      <td>-1.518641</td>\n",
       "    </tr>\n",
       "    <tr>\n",
       "      <th>9992564090_R07C01</th>\n",
       "      <td>TL0139</td>\n",
       "      <td>143.5</td>\n",
       "      <td>9992564090_R07C01</td>\n",
       "      <td>0</td>\n",
       "      <td>2</td>\n",
       "      <td>0</td>\n",
       "      <td>-1</td>\n",
       "      <td>-13.018641</td>\n",
       "    </tr>\n",
       "    <tr>\n",
       "      <th>9992564090_R08C01</th>\n",
       "      <td>TL0279</td>\n",
       "      <td>161.9</td>\n",
       "      <td>9992564090_R08C01</td>\n",
       "      <td>0</td>\n",
       "      <td>2</td>\n",
       "      <td>1</td>\n",
       "      <td>1</td>\n",
       "      <td>5.381359</td>\n",
       "    </tr>\n",
       "    <tr>\n",
       "      <th>9992564137_R01C01</th>\n",
       "      <td>TL1090</td>\n",
       "      <td>155.2</td>\n",
       "      <td>9992564137_R01C01</td>\n",
       "      <td>0</td>\n",
       "      <td>2</td>\n",
       "      <td>0</td>\n",
       "      <td>0</td>\n",
       "      <td>-1.318641</td>\n",
       "    </tr>\n",
       "  </tbody>\n",
       "</table>\n",
       "</div>"
      ],
      "text/plain": [
       "                       ID  height             ChipID  nationality  gender  \\\n",
       "9992564090_R01C01  TL2257   177.0  9992564090_R01C01            0       1   \n",
       "9992564090_R05C01  TL0067   155.0  9992564090_R05C01            0       2   \n",
       "9992564090_R07C01  TL0139   143.5  9992564090_R07C01            0       2   \n",
       "9992564090_R08C01  TL0279   161.9  9992564090_R08C01            0       2   \n",
       "9992564137_R01C01  TL1090   155.2  9992564137_R01C01            0       2   \n",
       "\n",
       "                   biclass  triclass   residual  \n",
       "9992564090_R01C01        1         1   8.606139  \n",
       "9992564090_R05C01        0         0  -1.518641  \n",
       "9992564090_R07C01        0        -1 -13.018641  \n",
       "9992564090_R08C01        1         1   5.381359  \n",
       "9992564137_R01C01        0         0  -1.318641  "
      ]
     },
     "execution_count": 19,
     "metadata": {},
     "output_type": "execute_result"
    }
   ],
   "source": [
    "tz_meta.head()"
   ]
  },
  {
   "cell_type": "code",
   "execution_count": 20,
   "metadata": {},
   "outputs": [],
   "source": [
    "def pre_data(meta,snp,tz_plink):\n",
    "\n",
    "    tz_snp_index = [i for i,x in enumerate(tz_plink[0].snp) if x in snp]\n",
    "    tz_sample_index = [i for i,x in enumerate(tz_plink[1].iid) if x in list(meta.index)]\n",
    "    tz_sub=plink_slice(tz_plink,tz_snp_index,tz_sample_index)\n",
    "    \n",
    "    all_bim = tz_sub[0]\n",
    "    all_fam = tz_sub[1]\n",
    "    all_bed_T= pd.DataFrame(tz_sub[2].compute()).T\n",
    "    all_bed_T.fillna(1,inplace=True)\n",
    "    all_bed_T.index = list(all_fam.iid)\n",
    "    all_bed_T.columns=list(all_bim.snp)\n",
    "    print(all_bim.shape,all_fam.shape,all_bed_T.shape)\n",
    "    \n",
    "    X = all_bed_T\n",
    "    y = meta\n",
    "    \n",
    "    return X,y"
   ]
  },
  {
   "cell_type": "code",
   "execution_count": 180,
   "metadata": {},
   "outputs": [],
   "source": [
    "?np.random.sample"
   ]
  },
  {
   "cell_type": "code",
   "execution_count": 264,
   "metadata": {},
   "outputs": [],
   "source": [
    "snp_rdn50=list(np.random.choice(tz_plink[0].snp,50))"
   ]
  },
  {
   "cell_type": "code",
   "execution_count": 362,
   "metadata": {},
   "outputs": [
    {
     "name": "stdout",
     "output_type": "stream",
     "text": [
      "(500, 7) (2747, 7) (2747, 500)\n"
     ]
    }
   ],
   "source": [
    "geno,meta = pre_data(tz_meta,snp_list[4]['tz_a'],tz_plink)\n",
    "#geno,meta = pre_data(tz_meta,snp_rdn50,tz_plink)"
   ]
  },
  {
   "cell_type": "code",
   "execution_count": 364,
   "metadata": {},
   "outputs": [],
   "source": [
    "geno = np.array(geno)"
   ]
  },
  {
   "cell_type": "code",
   "execution_count": 373,
   "metadata": {},
   "outputs": [],
   "source": [
    "geno = geno[:,:484]"
   ]
  },
  {
   "cell_type": "code",
   "execution_count": 374,
   "metadata": {},
   "outputs": [],
   "source": [
    "geno_onehot = (np.arange(geno.max()+1)==geno[...,None]).astype(int)"
   ]
  },
  {
   "cell_type": "code",
   "execution_count": 376,
   "metadata": {},
   "outputs": [],
   "source": [
    "geno_onehot = geno_onehot.transpose((0,2,1))"
   ]
  },
  {
   "cell_type": "code",
   "execution_count": 378,
   "metadata": {},
   "outputs": [],
   "source": [
    "geno_onehot = geno_onehot.reshape((2747,3,22,22))"
   ]
  },
  {
   "cell_type": "code",
   "execution_count": 379,
   "metadata": {},
   "outputs": [
    {
     "data": {
      "text/plain": [
       "(2747, 3, 22, 22)"
      ]
     },
     "execution_count": 379,
     "metadata": {},
     "output_type": "execute_result"
    }
   ],
   "source": [
    "geno_onehot.shape"
   ]
  },
  {
   "cell_type": "code",
   "execution_count": 380,
   "metadata": {},
   "outputs": [
    {
     "data": {
      "text/plain": [
       "array([[[[0, 0, 0, 0, ..., 0, 0, 0, 0],\n",
       "         [0, 0, 0, 0, ..., 0, 0, 0, 0],\n",
       "         [0, 0, 0, 0, ..., 0, 0, 0, 0],\n",
       "         [0, 1, 1, 1, ..., 0, 0, 0, 0],\n",
       "         ...,\n",
       "         [0, 0, 0, 0, ..., 0, 0, 0, 0],\n",
       "         [1, 1, 0, 1, ..., 0, 0, 0, 0],\n",
       "         [0, 0, 0, 0, ..., 0, 0, 0, 0],\n",
       "         [0, 0, 1, 0, ..., 0, 0, 0, 0]],\n",
       "\n",
       "        [[1, 1, 1, 1, ..., 0, 0, 0, 0],\n",
       "         [0, 1, 1, 0, ..., 0, 1, 1, 1],\n",
       "         [1, 1, 1, 1, ..., 1, 1, 0, 0],\n",
       "         [0, 0, 0, 0, ..., 0, 0, 0, 0],\n",
       "         ...,\n",
       "         [1, 0, 0, 1, ..., 0, 0, 0, 0],\n",
       "         [0, 0, 0, 0, ..., 0, 0, 0, 0],\n",
       "         [0, 0, 0, 0, ..., 0, 0, 1, 0],\n",
       "         [0, 0, 0, 1, ..., 0, 0, 0, 0]],\n",
       "\n",
       "        [[0, 0, 0, 0, ..., 1, 1, 1, 1],\n",
       "         [1, 0, 0, 1, ..., 1, 0, 0, 0],\n",
       "         [0, 0, 0, 0, ..., 0, 0, 1, 1],\n",
       "         [1, 0, 0, 0, ..., 1, 1, 1, 1],\n",
       "         ...,\n",
       "         [0, 1, 1, 0, ..., 1, 1, 1, 1],\n",
       "         [0, 0, 1, 0, ..., 1, 1, 1, 1],\n",
       "         [1, 1, 1, 1, ..., 1, 1, 0, 1],\n",
       "         [1, 1, 0, 0, ..., 1, 1, 1, 1]]],\n",
       "\n",
       "\n",
       "       [[[0, 0, 0, 0, ..., 0, 0, 0, 0],\n",
       "         [0, 0, 0, 0, ..., 0, 0, 0, 0],\n",
       "         [0, 0, 0, 0, ..., 0, 0, 0, 0],\n",
       "         [0, 0, 0, 0, ..., 0, 0, 0, 0],\n",
       "         ...,\n",
       "         [0, 0, 0, 0, ..., 0, 0, 1, 1],\n",
       "         [0, 0, 1, 0, ..., 0, 0, 0, 0],\n",
       "         [0, 0, 0, 0, ..., 0, 0, 1, 0],\n",
       "         [0, 0, 0, 0, ..., 0, 0, 0, 1]],\n",
       "\n",
       "        [[1, 1, 1, 0, ..., 1, 1, 1, 0],\n",
       "         [0, 1, 0, 0, ..., 0, 1, 1, 1],\n",
       "         [1, 1, 1, 1, ..., 0, 0, 0, 1],\n",
       "         [1, 0, 0, 0, ..., 1, 1, 1, 0],\n",
       "         ...,\n",
       "         [1, 1, 0, 1, ..., 0, 1, 0, 0],\n",
       "         [0, 0, 0, 0, ..., 0, 1, 0, 0],\n",
       "         [0, 0, 0, 0, ..., 0, 0, 0, 0],\n",
       "         [0, 0, 1, 1, ..., 1, 0, 0, 0]],\n",
       "\n",
       "        [[0, 0, 0, 1, ..., 0, 0, 0, 1],\n",
       "         [1, 0, 1, 1, ..., 1, 0, 0, 0],\n",
       "         [0, 0, 0, 0, ..., 1, 1, 1, 0],\n",
       "         [0, 1, 1, 1, ..., 0, 0, 0, 1],\n",
       "         ...,\n",
       "         [0, 0, 1, 0, ..., 1, 0, 0, 0],\n",
       "         [1, 1, 0, 1, ..., 1, 0, 1, 1],\n",
       "         [1, 1, 1, 1, ..., 1, 1, 0, 1],\n",
       "         [1, 1, 0, 0, ..., 0, 1, 1, 0]]],\n",
       "\n",
       "\n",
       "       [[[0, 0, 0, 0, ..., 1, 1, 0, 0],\n",
       "         [0, 0, 0, 0, ..., 0, 1, 1, 1],\n",
       "         [1, 1, 1, 1, ..., 0, 0, 0, 0],\n",
       "         [0, 0, 0, 0, ..., 0, 0, 0, 0],\n",
       "         ...,\n",
       "         [0, 0, 0, 0, ..., 0, 0, 0, 0],\n",
       "         [1, 1, 0, 1, ..., 0, 1, 0, 0],\n",
       "         [0, 0, 0, 0, ..., 1, 1, 0, 0],\n",
       "         [0, 0, 0, 0, ..., 0, 0, 0, 0]],\n",
       "\n",
       "        [[0, 0, 1, 0, ..., 0, 0, 0, 0],\n",
       "         [0, 0, 0, 1, ..., 1, 0, 0, 0],\n",
       "         [0, 0, 0, 0, ..., 0, 1, 0, 0],\n",
       "         [0, 0, 0, 0, ..., 0, 0, 1, 0],\n",
       "         ...,\n",
       "         [0, 0, 0, 1, ..., 0, 0, 0, 0],\n",
       "         [0, 0, 0, 0, ..., 0, 0, 0, 0],\n",
       "         [0, 0, 0, 0, ..., 0, 0, 0, 0],\n",
       "         [0, 0, 1, 1, ..., 0, 1, 1, 1]],\n",
       "\n",
       "        [[1, 1, 0, 1, ..., 0, 0, 1, 1],\n",
       "         [1, 1, 1, 0, ..., 0, 0, 0, 0],\n",
       "         [0, 0, 0, 0, ..., 1, 0, 1, 1],\n",
       "         [1, 1, 1, 1, ..., 1, 1, 0, 1],\n",
       "         ...,\n",
       "         [1, 1, 1, 0, ..., 1, 1, 1, 1],\n",
       "         [0, 0, 1, 0, ..., 1, 0, 1, 1],\n",
       "         [1, 1, 1, 1, ..., 0, 0, 1, 1],\n",
       "         [1, 1, 0, 0, ..., 1, 0, 0, 0]]],\n",
       "\n",
       "\n",
       "       [[[0, 0, 0, 0, ..., 0, 0, 0, 1],\n",
       "         [0, 0, 1, 0, ..., 0, 0, 0, 0],\n",
       "         [0, 0, 0, 0, ..., 0, 1, 0, 0],\n",
       "         [0, 0, 0, 0, ..., 0, 0, 0, 0],\n",
       "         ...,\n",
       "         [0, 0, 0, 0, ..., 0, 0, 0, 0],\n",
       "         [0, 0, 0, 0, ..., 0, 0, 0, 0],\n",
       "         [1, 1, 1, 1, ..., 0, 0, 0, 1],\n",
       "         [0, 0, 1, 0, ..., 1, 0, 0, 0]],\n",
       "\n",
       "        [[0, 1, 1, 1, ..., 0, 0, 0, 0],\n",
       "         [1, 1, 0, 0, ..., 0, 0, 0, 0],\n",
       "         [0, 0, 0, 0, ..., 1, 0, 0, 0],\n",
       "         [0, 0, 0, 0, ..., 1, 0, 1, 0],\n",
       "         ...,\n",
       "         [1, 1, 0, 0, ..., 1, 1, 1, 1],\n",
       "         [0, 0, 1, 0, ..., 1, 1, 1, 1],\n",
       "         [0, 0, 0, 0, ..., 1, 1, 1, 0],\n",
       "         [0, 1, 0, 0, ..., 0, 0, 0, 0]],\n",
       "\n",
       "        [[1, 0, 0, 0, ..., 1, 1, 1, 0],\n",
       "         [0, 0, 0, 1, ..., 1, 1, 1, 1],\n",
       "         [1, 1, 1, 1, ..., 0, 0, 1, 1],\n",
       "         [1, 1, 1, 1, ..., 0, 1, 0, 1],\n",
       "         ...,\n",
       "         [0, 0, 1, 1, ..., 0, 0, 0, 0],\n",
       "         [1, 1, 0, 1, ..., 0, 0, 0, 0],\n",
       "         [0, 0, 0, 0, ..., 0, 0, 0, 0],\n",
       "         [1, 0, 0, 1, ..., 0, 1, 1, 1]]],\n",
       "\n",
       "\n",
       "       ...,\n",
       "\n",
       "\n",
       "       [[[0, 0, 0, 0, ..., 0, 0, 0, 0],\n",
       "         [0, 0, 0, 0, ..., 0, 0, 0, 0],\n",
       "         [0, 0, 0, 0, ..., 0, 0, 0, 0],\n",
       "         [0, 0, 0, 0, ..., 1, 1, 0, 0],\n",
       "         ...,\n",
       "         [0, 0, 0, 0, ..., 0, 0, 0, 0],\n",
       "         [0, 0, 0, 0, ..., 1, 0, 0, 0],\n",
       "         [0, 0, 0, 0, ..., 0, 0, 0, 0],\n",
       "         [0, 0, 0, 0, ..., 0, 0, 0, 0]],\n",
       "\n",
       "        [[0, 0, 0, 0, ..., 0, 0, 0, 0],\n",
       "         [0, 0, 1, 1, ..., 0, 1, 1, 1],\n",
       "         [1, 1, 1, 1, ..., 0, 1, 0, 0],\n",
       "         [0, 0, 0, 0, ..., 0, 0, 0, 0],\n",
       "         ...,\n",
       "         [1, 1, 0, 0, ..., 0, 1, 1, 1],\n",
       "         [0, 0, 1, 0, ..., 0, 1, 0, 0],\n",
       "         [0, 0, 0, 0, ..., 0, 0, 1, 1],\n",
       "         [0, 1, 0, 0, ..., 0, 0, 1, 0]],\n",
       "\n",
       "        [[1, 1, 1, 1, ..., 1, 1, 1, 1],\n",
       "         [1, 1, 0, 0, ..., 1, 0, 0, 0],\n",
       "         [0, 0, 0, 0, ..., 1, 0, 1, 1],\n",
       "         [1, 1, 1, 1, ..., 0, 0, 1, 1],\n",
       "         ...,\n",
       "         [0, 0, 1, 1, ..., 1, 0, 0, 0],\n",
       "         [1, 1, 0, 1, ..., 0, 0, 1, 1],\n",
       "         [1, 1, 1, 1, ..., 1, 1, 0, 0],\n",
       "         [1, 0, 1, 1, ..., 1, 1, 0, 1]]],\n",
       "\n",
       "\n",
       "       [[[1, 1, 1, 0, ..., 0, 0, 0, 0],\n",
       "         [0, 0, 0, 0, ..., 0, 0, 0, 0],\n",
       "         [0, 0, 0, 0, ..., 0, 0, 0, 0],\n",
       "         [0, 0, 0, 0, ..., 0, 0, 0, 0],\n",
       "         ...,\n",
       "         [0, 0, 0, 0, ..., 0, 0, 1, 1],\n",
       "         [0, 0, 1, 0, ..., 0, 0, 0, 0],\n",
       "         [0, 0, 0, 0, ..., 0, 0, 0, 0],\n",
       "         [0, 0, 0, 0, ..., 0, 0, 0, 0]],\n",
       "\n",
       "        [[0, 0, 0, 0, ..., 0, 0, 1, 1],\n",
       "         [1, 0, 0, 0, ..., 1, 0, 0, 0],\n",
       "         [0, 0, 0, 0, ..., 1, 0, 1, 0],\n",
       "         [0, 1, 1, 1, ..., 1, 1, 1, 0],\n",
       "         ...,\n",
       "         [0, 0, 1, 0, ..., 0, 1, 0, 0],\n",
       "         [0, 0, 0, 0, ..., 1, 0, 1, 1],\n",
       "         [1, 1, 1, 1, ..., 0, 0, 1, 0],\n",
       "         [0, 0, 0, 0, ..., 0, 1, 1, 0]],\n",
       "\n",
       "        [[0, 0, 0, 1, ..., 1, 1, 0, 0],\n",
       "         [0, 1, 1, 1, ..., 0, 1, 1, 1],\n",
       "         [1, 1, 1, 1, ..., 0, 1, 0, 1],\n",
       "         [1, 0, 0, 0, ..., 0, 0, 0, 1],\n",
       "         ...,\n",
       "         [1, 1, 0, 1, ..., 1, 0, 0, 0],\n",
       "         [1, 1, 0, 1, ..., 0, 1, 0, 0],\n",
       "         [0, 0, 0, 0, ..., 1, 1, 0, 1],\n",
       "         [1, 1, 1, 1, ..., 1, 0, 0, 1]]],\n",
       "\n",
       "\n",
       "       [[[0, 0, 0, 0, ..., 0, 0, 0, 0],\n",
       "         [0, 0, 1, 0, ..., 0, 0, 0, 0],\n",
       "         [0, 0, 0, 0, ..., 0, 0, 0, 0],\n",
       "         [0, 0, 0, 0, ..., 0, 0, 0, 0],\n",
       "         ...,\n",
       "         [0, 0, 0, 0, ..., 0, 0, 0, 0],\n",
       "         [1, 1, 0, 1, ..., 0, 0, 0, 1],\n",
       "         [1, 1, 1, 1, ..., 0, 0, 0, 0],\n",
       "         [0, 0, 0, 0, ..., 0, 0, 0, 0]],\n",
       "\n",
       "        [[1, 1, 1, 0, ..., 1, 1, 0, 0],\n",
       "         [0, 0, 0, 0, ..., 0, 1, 1, 1],\n",
       "         [1, 1, 1, 1, ..., 0, 0, 0, 1],\n",
       "         [1, 0, 0, 0, ..., 1, 1, 1, 0],\n",
       "         ...,\n",
       "         [0, 0, 0, 0, ..., 1, 0, 0, 0],\n",
       "         [0, 0, 0, 0, ..., 1, 0, 0, 0],\n",
       "         [0, 0, 0, 0, ..., 1, 1, 1, 1],\n",
       "         [0, 0, 0, 1, ..., 0, 0, 0, 0]],\n",
       "\n",
       "        [[0, 0, 0, 1, ..., 0, 0, 1, 1],\n",
       "         [1, 1, 0, 1, ..., 1, 0, 0, 0],\n",
       "         [0, 0, 0, 0, ..., 1, 1, 1, 0],\n",
       "         [0, 1, 1, 1, ..., 0, 0, 0, 1],\n",
       "         ...,\n",
       "         [1, 1, 1, 1, ..., 0, 1, 1, 1],\n",
       "         [0, 0, 1, 0, ..., 0, 1, 1, 0],\n",
       "         [0, 0, 0, 0, ..., 0, 0, 0, 0],\n",
       "         [1, 1, 1, 0, ..., 1, 1, 1, 1]]],\n",
       "\n",
       "\n",
       "       [[[1, 0, 0, 0, ..., 0, 0, 0, 0],\n",
       "         [0, 0, 0, 0, ..., 0, 0, 0, 0],\n",
       "         [0, 0, 0, 0, ..., 0, 0, 0, 0],\n",
       "         [0, 0, 0, 0, ..., 0, 0, 0, 0],\n",
       "         ...,\n",
       "         [1, 0, 0, 0, ..., 0, 1, 1, 1],\n",
       "         [0, 0, 1, 0, ..., 0, 0, 0, 0],\n",
       "         [0, 0, 0, 0, ..., 0, 0, 0, 0],\n",
       "         [1, 0, 0, 0, ..., 1, 0, 0, 0]],\n",
       "\n",
       "        [[0, 1, 0, 1, ..., 1, 0, 0, 0],\n",
       "         [1, 0, 0, 0, ..., 0, 1, 1, 1],\n",
       "         [1, 1, 1, 1, ..., 0, 1, 0, 0],\n",
       "         [0, 0, 0, 0, ..., 0, 0, 0, 0],\n",
       "         ...,\n",
       "         [0, 1, 0, 0, ..., 1, 0, 0, 0],\n",
       "         [0, 0, 0, 0, ..., 0, 0, 1, 1],\n",
       "         [1, 1, 1, 1, ..., 0, 0, 1, 0],\n",
       "         [0, 0, 0, 1, ..., 0, 0, 0, 0]],\n",
       "\n",
       "        [[0, 0, 1, 0, ..., 0, 1, 1, 1],\n",
       "         [0, 1, 1, 1, ..., 1, 0, 0, 0],\n",
       "         [0, 0, 0, 0, ..., 1, 0, 1, 1],\n",
       "         [1, 1, 1, 1, ..., 1, 1, 1, 1],\n",
       "         ...,\n",
       "         [0, 0, 1, 1, ..., 0, 0, 0, 0],\n",
       "         [1, 1, 0, 1, ..., 1, 1, 0, 0],\n",
       "         [0, 0, 0, 0, ..., 1, 1, 0, 1],\n",
       "         [0, 1, 1, 0, ..., 0, 1, 1, 1]]]])"
      ]
     },
     "execution_count": 380,
     "metadata": {},
     "output_type": "execute_result"
    }
   ],
   "source": [
    "geno_onehot"
   ]
  },
  {
   "cell_type": "code",
   "execution_count": 371,
   "metadata": {
    "scrolled": true
   },
   "outputs": [
    {
     "data": {
      "text/plain": [
       "22.360679774997898"
      ]
     },
     "execution_count": 371,
     "metadata": {},
     "output_type": "execute_result"
    }
   ],
   "source": [
    "np.sqrt(500)"
   ]
  },
  {
   "cell_type": "code",
   "execution_count": 243,
   "metadata": {},
   "outputs": [],
   "source": [
    "def shuffle(df, n=1, axis=0):     \n",
    "    df = df.copy()\n",
    "    for _ in range(n):\n",
    "        df.apply(np.random.shuffle, axis=axis)\n",
    "    return df"
   ]
  },
  {
   "cell_type": "code",
   "execution_count": 289,
   "metadata": {},
   "outputs": [],
   "source": [
    "geno = shuffle(geno)"
   ]
  },
  {
   "cell_type": "code",
   "execution_count": 423,
   "metadata": {},
   "outputs": [
    {
     "data": {
      "text/plain": [
       "795597"
      ]
     },
     "execution_count": 423,
     "metadata": {},
     "output_type": "execute_result"
    }
   ],
   "source": [
    "len(tz_maf)"
   ]
  },
  {
   "cell_type": "code",
   "execution_count": 290,
   "metadata": {},
   "outputs": [
    {
     "data": {
      "text/html": [
       "<div>\n",
       "<style scoped>\n",
       "    .dataframe tbody tr th:only-of-type {\n",
       "        vertical-align: middle;\n",
       "    }\n",
       "\n",
       "    .dataframe tbody tr th {\n",
       "        vertical-align: top;\n",
       "    }\n",
       "\n",
       "    .dataframe thead th {\n",
       "        text-align: right;\n",
       "    }\n",
       "</style>\n",
       "<table border=\"1\" class=\"dataframe\">\n",
       "  <thead>\n",
       "    <tr style=\"text-align: right;\">\n",
       "      <th></th>\n",
       "      <th>rs10788950</th>\n",
       "      <th>rs4949766</th>\n",
       "      <th>kgp1335101</th>\n",
       "      <th>rs4652800</th>\n",
       "      <th>rs2483064</th>\n",
       "      <th>rs476557</th>\n",
       "      <th>rs7533588</th>\n",
       "      <th>kgp5221295</th>\n",
       "      <th>rs11683654</th>\n",
       "      <th>rs6721624</th>\n",
       "      <th>...</th>\n",
       "      <th>rs6494801</th>\n",
       "      <th>rs4792592</th>\n",
       "      <th>rs7215199</th>\n",
       "      <th>rs6503800</th>\n",
       "      <th>rs7359564</th>\n",
       "      <th>kgp9356372</th>\n",
       "      <th>kgp1476762</th>\n",
       "      <th>rs2233679</th>\n",
       "      <th>kgp10023174</th>\n",
       "      <th>kgp22816540</th>\n",
       "    </tr>\n",
       "  </thead>\n",
       "  <tbody>\n",
       "    <tr>\n",
       "      <th>9992564090_R01C01</th>\n",
       "      <td>2.0</td>\n",
       "      <td>2.0</td>\n",
       "      <td>1.0</td>\n",
       "      <td>1.0</td>\n",
       "      <td>2.0</td>\n",
       "      <td>1.0</td>\n",
       "      <td>1.0</td>\n",
       "      <td>2.0</td>\n",
       "      <td>1.0</td>\n",
       "      <td>1.0</td>\n",
       "      <td>...</td>\n",
       "      <td>2.0</td>\n",
       "      <td>2.0</td>\n",
       "      <td>2.0</td>\n",
       "      <td>0.0</td>\n",
       "      <td>2.0</td>\n",
       "      <td>2.0</td>\n",
       "      <td>1.0</td>\n",
       "      <td>2.0</td>\n",
       "      <td>1.0</td>\n",
       "      <td>1.0</td>\n",
       "    </tr>\n",
       "    <tr>\n",
       "      <th>9992564090_R05C01</th>\n",
       "      <td>1.0</td>\n",
       "      <td>2.0</td>\n",
       "      <td>2.0</td>\n",
       "      <td>2.0</td>\n",
       "      <td>2.0</td>\n",
       "      <td>1.0</td>\n",
       "      <td>1.0</td>\n",
       "      <td>1.0</td>\n",
       "      <td>1.0</td>\n",
       "      <td>2.0</td>\n",
       "      <td>...</td>\n",
       "      <td>1.0</td>\n",
       "      <td>1.0</td>\n",
       "      <td>2.0</td>\n",
       "      <td>1.0</td>\n",
       "      <td>1.0</td>\n",
       "      <td>2.0</td>\n",
       "      <td>1.0</td>\n",
       "      <td>1.0</td>\n",
       "      <td>2.0</td>\n",
       "      <td>0.0</td>\n",
       "    </tr>\n",
       "    <tr>\n",
       "      <th>9992564090_R07C01</th>\n",
       "      <td>2.0</td>\n",
       "      <td>0.0</td>\n",
       "      <td>2.0</td>\n",
       "      <td>2.0</td>\n",
       "      <td>1.0</td>\n",
       "      <td>2.0</td>\n",
       "      <td>1.0</td>\n",
       "      <td>2.0</td>\n",
       "      <td>2.0</td>\n",
       "      <td>1.0</td>\n",
       "      <td>...</td>\n",
       "      <td>2.0</td>\n",
       "      <td>1.0</td>\n",
       "      <td>2.0</td>\n",
       "      <td>2.0</td>\n",
       "      <td>1.0</td>\n",
       "      <td>1.0</td>\n",
       "      <td>2.0</td>\n",
       "      <td>1.0</td>\n",
       "      <td>1.0</td>\n",
       "      <td>2.0</td>\n",
       "    </tr>\n",
       "    <tr>\n",
       "      <th>9992564090_R08C01</th>\n",
       "      <td>2.0</td>\n",
       "      <td>1.0</td>\n",
       "      <td>0.0</td>\n",
       "      <td>1.0</td>\n",
       "      <td>2.0</td>\n",
       "      <td>0.0</td>\n",
       "      <td>1.0</td>\n",
       "      <td>2.0</td>\n",
       "      <td>2.0</td>\n",
       "      <td>1.0</td>\n",
       "      <td>...</td>\n",
       "      <td>2.0</td>\n",
       "      <td>1.0</td>\n",
       "      <td>2.0</td>\n",
       "      <td>2.0</td>\n",
       "      <td>2.0</td>\n",
       "      <td>2.0</td>\n",
       "      <td>2.0</td>\n",
       "      <td>1.0</td>\n",
       "      <td>1.0</td>\n",
       "      <td>2.0</td>\n",
       "    </tr>\n",
       "    <tr>\n",
       "      <th>9992564137_R01C01</th>\n",
       "      <td>2.0</td>\n",
       "      <td>2.0</td>\n",
       "      <td>2.0</td>\n",
       "      <td>1.0</td>\n",
       "      <td>2.0</td>\n",
       "      <td>1.0</td>\n",
       "      <td>2.0</td>\n",
       "      <td>2.0</td>\n",
       "      <td>1.0</td>\n",
       "      <td>1.0</td>\n",
       "      <td>...</td>\n",
       "      <td>0.0</td>\n",
       "      <td>1.0</td>\n",
       "      <td>1.0</td>\n",
       "      <td>1.0</td>\n",
       "      <td>1.0</td>\n",
       "      <td>1.0</td>\n",
       "      <td>1.0</td>\n",
       "      <td>1.0</td>\n",
       "      <td>2.0</td>\n",
       "      <td>0.0</td>\n",
       "    </tr>\n",
       "  </tbody>\n",
       "</table>\n",
       "<p>5 rows × 50 columns</p>\n",
       "</div>"
      ],
      "text/plain": [
       "                   rs10788950  rs4949766  kgp1335101  rs4652800  rs2483064  \\\n",
       "9992564090_R01C01         2.0        2.0         1.0        1.0        2.0   \n",
       "9992564090_R05C01         1.0        2.0         2.0        2.0        2.0   \n",
       "9992564090_R07C01         2.0        0.0         2.0        2.0        1.0   \n",
       "9992564090_R08C01         2.0        1.0         0.0        1.0        2.0   \n",
       "9992564137_R01C01         2.0        2.0         2.0        1.0        2.0   \n",
       "\n",
       "                   rs476557  rs7533588  kgp5221295  rs11683654  rs6721624  \\\n",
       "9992564090_R01C01       1.0        1.0         2.0         1.0        1.0   \n",
       "9992564090_R05C01       1.0        1.0         1.0         1.0        2.0   \n",
       "9992564090_R07C01       2.0        1.0         2.0         2.0        1.0   \n",
       "9992564090_R08C01       0.0        1.0         2.0         2.0        1.0   \n",
       "9992564137_R01C01       1.0        2.0         2.0         1.0        1.0   \n",
       "\n",
       "                      ...       rs6494801  rs4792592  rs7215199  rs6503800  \\\n",
       "9992564090_R01C01     ...             2.0        2.0        2.0        0.0   \n",
       "9992564090_R05C01     ...             1.0        1.0        2.0        1.0   \n",
       "9992564090_R07C01     ...             2.0        1.0        2.0        2.0   \n",
       "9992564090_R08C01     ...             2.0        1.0        2.0        2.0   \n",
       "9992564137_R01C01     ...             0.0        1.0        1.0        1.0   \n",
       "\n",
       "                   rs7359564  kgp9356372  kgp1476762  rs2233679  kgp10023174  \\\n",
       "9992564090_R01C01        2.0         2.0         1.0        2.0          1.0   \n",
       "9992564090_R05C01        1.0         2.0         1.0        1.0          2.0   \n",
       "9992564090_R07C01        1.0         1.0         2.0        1.0          1.0   \n",
       "9992564090_R08C01        2.0         2.0         2.0        1.0          1.0   \n",
       "9992564137_R01C01        1.0         1.0         1.0        1.0          2.0   \n",
       "\n",
       "                   kgp22816540  \n",
       "9992564090_R01C01          1.0  \n",
       "9992564090_R05C01          0.0  \n",
       "9992564090_R07C01          2.0  \n",
       "9992564090_R08C01          2.0  \n",
       "9992564137_R01C01          0.0  \n",
       "\n",
       "[5 rows x 50 columns]"
      ]
     },
     "execution_count": 290,
     "metadata": {},
     "output_type": "execute_result"
    }
   ],
   "source": [
    "geno.head()"
   ]
  },
  {
   "cell_type": "code",
   "execution_count": 312,
   "metadata": {},
   "outputs": [],
   "source": [
    "pca = PCA(.95)\n",
    "genp=pd.DataFrame(pca.fit_transform(geno))"
   ]
  },
  {
   "cell_type": "code",
   "execution_count": 313,
   "metadata": {},
   "outputs": [
    {
     "data": {
      "text/plain": [
       "(2747, 25)"
      ]
     },
     "execution_count": 313,
     "metadata": {},
     "output_type": "execute_result"
    }
   ],
   "source": [
    "genp.shape"
   ]
  },
  {
   "cell_type": "markdown",
   "metadata": {},
   "source": [
    "## Dataset"
   ]
  },
  {
   "cell_type": "code",
   "execution_count": 381,
   "metadata": {},
   "outputs": [],
   "source": [
    "from torch.utils.data import Dataset"
   ]
  },
  {
   "cell_type": "code",
   "execution_count": 382,
   "metadata": {},
   "outputs": [],
   "source": [
    "class GPArrDataset(Dataset):\n",
    "    def __init__(self,x,y):\n",
    "        self.x,self.y = x,y\n",
    "        \n",
    "    \n",
    "    def __len__(self):\n",
    "        return len(self.x)\n",
    "    def __getitem__(self,index):\n",
    "        g,p = self.x[index],self.y[index]\n",
    "        return np.float32(g),np.float32(p)"
   ]
  },
  {
   "cell_type": "code",
   "execution_count": 397,
   "metadata": {},
   "outputs": [],
   "source": [
    "from sklearn.preprocessing import scale"
   ]
  },
  {
   "cell_type": "code",
   "execution_count": 384,
   "metadata": {},
   "outputs": [],
   "source": [
    "def norm0t1(m,low,high):\n",
    "    return (m - low)/(high-low)\n",
    "\n",
    "def norm_arr(arr):\n",
    "    v_min = np.min(arr)\n",
    "    v_max = np.max(arr)\n",
    "    return (norm0t1(arr,v_min,v_max)-0.5)*2"
   ]
  },
  {
   "cell_type": "code",
   "execution_count": 385,
   "metadata": {},
   "outputs": [],
   "source": [
    "def norm_mat(x):\n",
    "    x_normed = (x - x.min(0)) / x.ptp(0)\n",
    "    return (x_normed - 0.5)*2"
   ]
  },
  {
   "cell_type": "code",
   "execution_count": 398,
   "metadata": {},
   "outputs": [],
   "source": [
    "#vtx = np.hstack((np.array(genp),np.array(meta[['gender']]),np.array(pcs.loc[tz_plink[1].iid,])))\n",
    "#vtx = np.hstack((np.array(genp),np.array(meta[['gender']])))\n",
    "#vtx = np.array(pcs.loc[tz_plink[1].iid,])\n",
    "#vtx = np.array(genp)\n",
    "vtx = geno_onehot\n",
    "kps = np.array(meta[['height']]).reshape(2747)\n",
    "#vtx = norm_mat(vtx)\n",
    "kps = scale(kps)"
   ]
  },
  {
   "cell_type": "code",
   "execution_count": 401,
   "metadata": {},
   "outputs": [],
   "source": [
    "np.random.seed(0)\n",
    "rd_idx= np.random.choice(range(2747),2747,replace=False)\n",
    "trn_idx,val_idx = np.sort(rd_idx[:2000]),np.sort(rd_idx[2000:])\n",
    "trn_idx,val_idx\n",
    "\n",
    "trn_ds,vld_ds = GPArrDataset(vtx[trn_idx],kps[trn_idx]),GPArrDataset(vtx[val_idx],kps[val_idx])\n",
    "\n",
    "data = DataBunch.create(trn_ds,vld_ds,bs=64,num_workers=1)"
   ]
  },
  {
   "cell_type": "code",
   "execution_count": 402,
   "metadata": {
    "scrolled": true
   },
   "outputs": [
    {
     "data": {
      "text/plain": [
       "torch.Size([64, 3, 22, 22])"
      ]
     },
     "execution_count": 402,
     "metadata": {},
     "output_type": "execute_result"
    }
   ],
   "source": [
    "data.one_batch()[0].shape"
   ]
  },
  {
   "cell_type": "markdown",
   "metadata": {},
   "source": [
    "## Model"
   ]
  },
  {
   "cell_type": "code",
   "execution_count": 413,
   "metadata": {},
   "outputs": [],
   "source": [
    "import torch\n",
    "import torch.nn as nn\n",
    "import torch.nn.functional as F\n",
    "\n",
    "from torch.autograd import Variable\n",
    "\n",
    "\n",
    "class BasicBlock(nn.Module):\n",
    "    expansion = 1\n",
    "\n",
    "    def __init__(self, in_planes, planes, stride=1):\n",
    "        super(BasicBlock, self).__init__()\n",
    "        self.conv1 = nn.Conv2d(in_planes, planes, kernel_size=3, stride=stride, padding=1, bias=False)\n",
    "        self.bn1 = nn.BatchNorm2d(planes)\n",
    "        self.conv2 = nn.Conv2d(planes, planes, kernel_size=3, stride=1, padding=1, bias=False)\n",
    "        self.bn2 = nn.BatchNorm2d(planes)\n",
    "\n",
    "        self.shortcut = nn.Sequential()\n",
    "        if stride != 1 or in_planes != self.expansion*planes:\n",
    "            self.shortcut = nn.Sequential(\n",
    "                nn.Conv2d(in_planes, self.expansion*planes, kernel_size=1, stride=stride, bias=False),\n",
    "                nn.BatchNorm2d(self.expansion*planes)\n",
    "            )\n",
    "\n",
    "    def forward(self, x):\n",
    "        out = F.relu(self.bn1(self.conv1(x)))\n",
    "        out = self.bn2(self.conv2(out))\n",
    "        out += self.shortcut(x)\n",
    "        out = F.relu(out)\n",
    "        return out\n",
    "\n",
    "\n",
    "class Bottleneck(nn.Module):\n",
    "    expansion = 4\n",
    "\n",
    "    def __init__(self, in_planes, planes, stride=1):\n",
    "        super(Bottleneck, self).__init__()\n",
    "        self.conv1 = nn.Conv2d(in_planes, planes, kernel_size=1, bias=False)\n",
    "        self.bn1 = nn.BatchNorm2d(planes)\n",
    "        self.conv2 = nn.Conv2d(planes, planes, kernel_size=3, stride=stride, padding=1, bias=False)\n",
    "        self.bn2 = nn.BatchNorm2d(planes)\n",
    "        self.conv3 = nn.Conv2d(planes, self.expansion*planes, kernel_size=1, bias=False)\n",
    "        self.bn3 = nn.BatchNorm2d(self.expansion*planes)\n",
    "\n",
    "        self.shortcut = nn.Sequential()\n",
    "        if stride != 1 or in_planes != self.expansion*planes:\n",
    "            self.shortcut = nn.Sequential(\n",
    "                nn.Conv2d(in_planes, self.expansion*planes, kernel_size=1, stride=stride, bias=False),\n",
    "                nn.BatchNorm2d(self.expansion*planes)\n",
    "            )\n",
    "\n",
    "    def forward(self, x):\n",
    "        out = F.relu(self.bn1(self.conv1(x)))\n",
    "        out = F.relu(self.bn2(self.conv2(out)))\n",
    "        out = self.bn3(self.conv3(out))\n",
    "        out += self.shortcut(x)\n",
    "        out = F.relu(out)\n",
    "        return out\n",
    "\n",
    "\n",
    "class ResNet(nn.Module):\n",
    "    def __init__(self, block, num_blocks, num_classes=1):\n",
    "        super(ResNet, self).__init__()\n",
    "        self.in_planes = 64\n",
    "\n",
    "        self.conv1 = nn.Conv2d(3, 64, kernel_size=3, stride=1, padding=1, bias=False)\n",
    "        self.bn1 = nn.BatchNorm2d(64)\n",
    "        self.layer1 = self._make_layer(block, 64, num_blocks[0], stride=1)\n",
    "        self.layer2 = self._make_layer(block, 128, num_blocks[1], stride=2)\n",
    "        self.layer3 = self._make_layer(block, 256, num_blocks[2], stride=2)\n",
    "        self.layer4 = self._make_layer(block, 512, num_blocks[3], stride=2)\n",
    "        self.avgpool = nn.AdaptiveAvgPool2d((1,1))\n",
    "        self.linear = nn.Linear(512, num_classes)\n",
    "\n",
    "    def _make_layer(self, block, planes, num_blocks, stride):\n",
    "        strides = [stride] + [1]*(num_blocks-1)\n",
    "        layers = []\n",
    "        for stride in strides:\n",
    "            layers.append(block(self.in_planes, planes, stride))\n",
    "            self.in_planes = planes * block.expansion\n",
    "        return nn.Sequential(*layers)\n",
    "\n",
    "    def forward(self, x):\n",
    "        out = F.relu(self.bn1(self.conv1(x)))\n",
    "        out = self.layer1(out)\n",
    "        out = self.layer2(out)\n",
    "        out = self.layer3(out)\n",
    "        out = self.layer4(out)\n",
    "        out = self.avgpool(out)\n",
    "        out = out.view(out.size(0), -1)\n",
    "        out = F.dropout(out, p=0.5, training=self.training)\n",
    "        out = self.linear(out)\n",
    "        return out\n",
    "\n",
    "\n",
    "def ResNet18():\n",
    "    return ResNet(BasicBlock, [2,2,2,2])"
   ]
  },
  {
   "cell_type": "code",
   "execution_count": 389,
   "metadata": {},
   "outputs": [],
   "source": [
    "import torch\n",
    "import torch.nn as nn\n",
    "import torch.nn.functional as F\n",
    "from torch.autograd import Variable\n",
    "\n",
    "\n",
    "cfg = {\n",
    "    'VGG11': [64, 'M', 128, 'M', 256, 256, 'M', 512, 512, 'M', 512, 512, 'M'],\n",
    "    'VGG13': [64, 64, 'M', 128, 128, 'M', 256, 256, 'M', 512, 512, 'M', 512, 512, 'M'],\n",
    "    'VGG16': [64, 64, 'M', 128, 128, 'M', 256, 256, 256, 'M', 512, 512, 512, 'M', 512, 512, 512, 'M'],\n",
    "    'VGG19': [64, 64, 'M', 128, 128, 'M', 256, 256, 256, 256, 'M', 512, 512, 512, 512, 'M', 512, 512, 512, 512, 'M'],\n",
    "}\n",
    "\n",
    "\n",
    "class VGG(nn.Module):\n",
    "    def __init__(self, vgg_name,nc,sigmoid=False,channel=3):\n",
    "        super(VGG, self).__init__()\n",
    "        self.features = self._make_layers(cfg[vgg_name],channel)\n",
    "        self.classifier = nn.Sequential(nn.Linear(512,nc),nn.Sigmoid()) if sigmoid else nn.Linear(512, nc) \n",
    "\n",
    "    def forward(self, x):\n",
    "        out = self.features(x)\n",
    "        out = out.view(out.size(0), -1)\n",
    "        out = F.dropout(out, p=0.5, training=self.training)\n",
    "        out = self.classifier(out)\n",
    "        return out\n",
    "\n",
    "    def _make_layers(self, cfg, in_channels):\n",
    "        layers = []\n",
    "        for x in cfg:\n",
    "            if x == 'M':\n",
    "                layers += [nn.MaxPool2d(kernel_size=2, stride=2)]\n",
    "            else:\n",
    "                layers += [nn.Conv2d(in_channels, x, kernel_size=3, padding=1),\n",
    "                           nn.BatchNorm2d(x),\n",
    "                           nn.ReLU(inplace=True)]\n",
    "                in_channels = x\n",
    "        layers += [nn.AdaptiveAvgPool2d((1,1))]\n",
    "        return nn.Sequential(*layers)"
   ]
  },
  {
   "cell_type": "code",
   "execution_count": 354,
   "metadata": {},
   "outputs": [],
   "source": [
    "from torch import nn\n",
    "\n",
    "class Net(nn.Module):                 \n",
    "    def __init__(self):\n",
    "        super(Net, self).__init__()   \n",
    "        self.fc1 = nn.Linear(4,64) \n",
    "        self.relu1 = nn.ReLU(True)\n",
    "        self.fc2 = nn.Linear(64,64)\n",
    "        self.relu2 = nn.ReLU(True)\n",
    "        self.fc3 = nn.Linear(64,32)\n",
    "        self.relu3 = nn.ReLU(True)\n",
    "        self.fc4 = nn.Linear(32,1)\n",
    "        self.dp = nn.Dropout(0.4)\n",
    "        \n",
    "    def forward(self, input):\n",
    "            output = input.view(-1, 4)\n",
    "            output = self.fc1(output)\n",
    "            output = self.relu1(output)\n",
    "            output = self.dp(output)\n",
    "            output = self.fc2(output)\n",
    "            output = self.relu2(output)\n",
    "            output = self.dp(output)\n",
    "            output = self.fc3(output)\n",
    "            output = self.relu3(output)\n",
    "            output = self.fc4(output)\n",
    "            return output"
   ]
  },
  {
   "cell_type": "code",
   "execution_count": 414,
   "metadata": {},
   "outputs": [],
   "source": [
    "#model = VGG('VGG11',1)\n",
    "model = ResNet18()\n",
    "learn = Learner(data,model,loss_func=nn.MSELoss())"
   ]
  },
  {
   "cell_type": "code",
   "execution_count": 415,
   "metadata": {},
   "outputs": [
    {
     "data": {
      "text/html": [],
      "text/plain": [
       "<IPython.core.display.HTML object>"
      ]
     },
     "metadata": {},
     "output_type": "display_data"
    },
    {
     "name": "stdout",
     "output_type": "stream",
     "text": [
      "LR Finder is complete, type {learner_name}.recorder.plot() to see the graph.\n"
     ]
    }
   ],
   "source": [
    "learn.lr_find()"
   ]
  },
  {
   "cell_type": "code",
   "execution_count": 416,
   "metadata": {},
   "outputs": [
    {
     "data": {
      "image/png": "[encoded data removed]",
      "text/plain": [
       "<Figure size 432x288 with 1 Axes>"
      ]
     },
     "metadata": {},
     "output_type": "display_data"
    }
   ],
   "source": [
    "learn.recorder.plot()"
   ]
  },
  {
   "cell_type": "code",
   "execution_count": 417,
   "metadata": {
    "scrolled": false
   },
   "outputs": [
    {
     "data": {
      "text/html": [
       "<table border=\"1\" class=\"dataframe\">\n",
       "  <thead>\n",
       "    <tr style=\"text-align: left;\">\n",
       "      <th>epoch</th>\n",
       "      <th>train_loss</th>\n",
       "      <th>valid_loss</th>\n",
       "      <th>time</th>\n",
       "    </tr>\n",
       "  </thead>\n",
       "  <tbody>\n",
       "    <tr>\n",
       "      <td>0</td>\n",
       "      <td>1.093929</td>\n",
       "      <td>1.058889</td>\n",
       "      <td>00:02</td>\n",
       "    </tr>\n",
       "    <tr>\n",
       "      <td>1</td>\n",
       "      <td>1.075603</td>\n",
       "      <td>1.052180</td>\n",
       "      <td>00:02</td>\n",
       "    </tr>\n",
       "    <tr>\n",
       "      <td>2</td>\n",
       "      <td>1.035193</td>\n",
       "      <td>1.065534</td>\n",
       "      <td>00:02</td>\n",
       "    </tr>\n",
       "    <tr>\n",
       "      <td>3</td>\n",
       "      <td>1.012353</td>\n",
       "      <td>1.051841</td>\n",
       "      <td>00:02</td>\n",
       "    </tr>\n",
       "    <tr>\n",
       "      <td>4</td>\n",
       "      <td>0.998774</td>\n",
       "      <td>1.059322</td>\n",
       "      <td>00:02</td>\n",
       "    </tr>\n",
       "  </tbody>\n",
       "</table>"
      ],
      "text/plain": [
       "<IPython.core.display.HTML object>"
      ]
     },
     "metadata": {},
     "output_type": "display_data"
    }
   ],
   "source": [
    "learn.fit_one_cycle(5,max_lr=0.01)"
   ]
  },
  {
   "cell_type": "code",
   "execution_count": 418,
   "metadata": {
    "scrolled": false
   },
   "outputs": [
    {
     "data": {
      "text/html": [
       "<table border=\"1\" class=\"dataframe\">\n",
       "  <thead>\n",
       "    <tr style=\"text-align: left;\">\n",
       "      <th>epoch</th>\n",
       "      <th>train_loss</th>\n",
       "      <th>valid_loss</th>\n",
       "      <th>time</th>\n",
       "    </tr>\n",
       "  </thead>\n",
       "  <tbody>\n",
       "    <tr>\n",
       "      <td>0</td>\n",
       "      <td>0.995095</td>\n",
       "      <td>1.051987</td>\n",
       "      <td>00:02</td>\n",
       "    </tr>\n",
       "    <tr>\n",
       "      <td>1</td>\n",
       "      <td>1.009934</td>\n",
       "      <td>1.057273</td>\n",
       "      <td>00:02</td>\n",
       "    </tr>\n",
       "    <tr>\n",
       "      <td>2</td>\n",
       "      <td>0.997294</td>\n",
       "      <td>1.057841</td>\n",
       "      <td>00:02</td>\n",
       "    </tr>\n",
       "    <tr>\n",
       "      <td>3</td>\n",
       "      <td>0.996913</td>\n",
       "      <td>1.051713</td>\n",
       "      <td>00:02</td>\n",
       "    </tr>\n",
       "    <tr>\n",
       "      <td>4</td>\n",
       "      <td>0.988907</td>\n",
       "      <td>1.055882</td>\n",
       "      <td>00:02</td>\n",
       "    </tr>\n",
       "    <tr>\n",
       "      <td>5</td>\n",
       "      <td>0.983719</td>\n",
       "      <td>1.051818</td>\n",
       "      <td>00:02</td>\n",
       "    </tr>\n",
       "    <tr>\n",
       "      <td>6</td>\n",
       "      <td>0.981853</td>\n",
       "      <td>1.052296</td>\n",
       "      <td>00:02</td>\n",
       "    </tr>\n",
       "    <tr>\n",
       "      <td>7</td>\n",
       "      <td>0.979439</td>\n",
       "      <td>1.052173</td>\n",
       "      <td>00:02</td>\n",
       "    </tr>\n",
       "    <tr>\n",
       "      <td>8</td>\n",
       "      <td>0.984681</td>\n",
       "      <td>1.051755</td>\n",
       "      <td>00:02</td>\n",
       "    </tr>\n",
       "    <tr>\n",
       "      <td>9</td>\n",
       "      <td>0.979449</td>\n",
       "      <td>1.051811</td>\n",
       "      <td>00:02</td>\n",
       "    </tr>\n",
       "  </tbody>\n",
       "</table>"
      ],
      "text/plain": [
       "<IPython.core.display.HTML object>"
      ]
     },
     "metadata": {},
     "output_type": "display_data"
    }
   ],
   "source": [
    "learn.fit_one_cycle(10,max_lr=0.01)"
   ]
  },
  {
   "cell_type": "code",
   "execution_count": 345,
   "metadata": {},
   "outputs": [
    {
     "ename": "RuntimeError",
     "evalue": "Error(s) in loading state_dict for Net:\n\tsize mismatch for fc1.weight: copying a param with shape torch.Size([256, 26]) from checkpoint, the shape in current model is torch.Size([64, 25]).\n\tsize mismatch for fc1.bias: copying a param with shape torch.Size([256]) from checkpoint, the shape in current model is torch.Size([64]).\n\tsize mismatch for fc2.weight: copying a param with shape torch.Size([256, 256]) from checkpoint, the shape in current model is torch.Size([64, 64]).\n\tsize mismatch for fc2.bias: copying a param with shape torch.Size([256]) from checkpoint, the shape in current model is torch.Size([64]).\n\tsize mismatch for fc3.weight: copying a param with shape torch.Size([128, 256]) from checkpoint, the shape in current model is torch.Size([32, 64]).\n\tsize mismatch for fc3.bias: copying a param with shape torch.Size([128]) from checkpoint, the shape in current model is torch.Size([32]).\n\tsize mismatch for fc4.weight: copying a param with shape torch.Size([1, 128]) from checkpoint, the shape in current model is torch.Size([1, 32]).",
     "output_type": "error",
     "traceback": [
      "\u001b[0;31m---------------------------------------------------------------------------\u001b[0m",
      "\u001b[0;31mRuntimeError\u001b[0m                              Traceback (most recent call last)",
      "\u001b[0;32m<ipython-input-345-a93e93ebb52c>\u001b[0m in \u001b[0;36m<module>\u001b[0;34m()\u001b[0m\n\u001b[0;32m----> 1\u001b[0;31m \u001b[0mlearn\u001b[0m\u001b[0;34m.\u001b[0m\u001b[0mload\u001b[0m\u001b[0;34m(\u001b[0m\u001b[0;34m\"fcc_height_stage1\"\u001b[0m\u001b[0;34m)\u001b[0m\u001b[0;34m\u001b[0m\u001b[0;34m\u001b[0m\u001b[0m\n\u001b[0m",
      "\u001b[0;32m~/anaconda3/envs/dereck/lib/python3.6/site-packages/fastai/basic_train.py\u001b[0m in \u001b[0;36mload\u001b[0;34m(self, file, device, strict, with_opt, purge, remove_module)\u001b[0m\n\u001b[1;32m    270\u001b[0m             \u001b[0mmodel_state\u001b[0m \u001b[0;34m=\u001b[0m \u001b[0mstate\u001b[0m\u001b[0;34m[\u001b[0m\u001b[0;34m'model'\u001b[0m\u001b[0;34m]\u001b[0m\u001b[0;34m\u001b[0m\u001b[0;34m\u001b[0m\u001b[0m\n\u001b[1;32m    271\u001b[0m             \u001b[0;32mif\u001b[0m \u001b[0mremove_module\u001b[0m\u001b[0;34m:\u001b[0m \u001b[0mmodel_state\u001b[0m \u001b[0;34m=\u001b[0m \u001b[0mremove_module_load\u001b[0m\u001b[0;34m(\u001b[0m\u001b[0mmodel_state\u001b[0m\u001b[0;34m)\u001b[0m\u001b[0;34m\u001b[0m\u001b[0;34m\u001b[0m\u001b[0m\n\u001b[0;32m--> 272\u001b[0;31m             \u001b[0mget_model\u001b[0m\u001b[0;34m(\u001b[0m\u001b[0mself\u001b[0m\u001b[0;34m.\u001b[0m\u001b[0mmodel\u001b[0m\u001b[0;34m)\u001b[0m\u001b[0;34m.\u001b[0m\u001b[0mload_state_dict\u001b[0m\u001b[0;34m(\u001b[0m\u001b[0mmodel_state\u001b[0m\u001b[0;34m,\u001b[0m \u001b[0mstrict\u001b[0m\u001b[0;34m=\u001b[0m\u001b[0mstrict\u001b[0m\u001b[0;34m)\u001b[0m\u001b[0;34m\u001b[0m\u001b[0;34m\u001b[0m\u001b[0m\n\u001b[0m\u001b[1;32m    273\u001b[0m             \u001b[0;32mif\u001b[0m \u001b[0mifnone\u001b[0m\u001b[0;34m(\u001b[0m\u001b[0mwith_opt\u001b[0m\u001b[0;34m,\u001b[0m\u001b[0;32mTrue\u001b[0m\u001b[0;34m)\u001b[0m\u001b[0;34m:\u001b[0m\u001b[0;34m\u001b[0m\u001b[0;34m\u001b[0m\u001b[0m\n\u001b[1;32m    274\u001b[0m                 \u001b[0;32mif\u001b[0m \u001b[0;32mnot\u001b[0m \u001b[0mhasattr\u001b[0m\u001b[0;34m(\u001b[0m\u001b[0mself\u001b[0m\u001b[0;34m,\u001b[0m \u001b[0;34m'opt'\u001b[0m\u001b[0;34m)\u001b[0m\u001b[0;34m:\u001b[0m \u001b[0mself\u001b[0m\u001b[0;34m.\u001b[0m\u001b[0mcreate_opt\u001b[0m\u001b[0;34m(\u001b[0m\u001b[0mdefaults\u001b[0m\u001b[0;34m.\u001b[0m\u001b[0mlr\u001b[0m\u001b[0;34m,\u001b[0m \u001b[0mself\u001b[0m\u001b[0;34m.\u001b[0m\u001b[0mwd\u001b[0m\u001b[0;34m)\u001b[0m\u001b[0;34m\u001b[0m\u001b[0;34m\u001b[0m\u001b[0m\n",
      "\u001b[0;32m~/anaconda3/envs/dereck/lib/python3.6/site-packages/torch/nn/modules/module.py\u001b[0m in \u001b[0;36mload_state_dict\u001b[0;34m(self, state_dict, strict)\u001b[0m\n\u001b[1;32m    775\u001b[0m         \u001b[0;32mif\u001b[0m \u001b[0mlen\u001b[0m\u001b[0;34m(\u001b[0m\u001b[0merror_msgs\u001b[0m\u001b[0;34m)\u001b[0m \u001b[0;34m>\u001b[0m \u001b[0;36m0\u001b[0m\u001b[0;34m:\u001b[0m\u001b[0;34m\u001b[0m\u001b[0;34m\u001b[0m\u001b[0m\n\u001b[1;32m    776\u001b[0m             raise RuntimeError('Error(s) in loading state_dict for {}:\\n\\t{}'.format(\n\u001b[0;32m--> 777\u001b[0;31m                                self.__class__.__name__, \"\\n\\t\".join(error_msgs)))\n\u001b[0m\u001b[1;32m    778\u001b[0m         \u001b[0;32mreturn\u001b[0m \u001b[0m_IncompatibleKeys\u001b[0m\u001b[0;34m(\u001b[0m\u001b[0mmissing_keys\u001b[0m\u001b[0;34m,\u001b[0m \u001b[0munexpected_keys\u001b[0m\u001b[0;34m)\u001b[0m\u001b[0;34m\u001b[0m\u001b[0;34m\u001b[0m\u001b[0m\n\u001b[1;32m    779\u001b[0m \u001b[0;34m\u001b[0m\u001b[0m\n",
      "\u001b[0;31mRuntimeError\u001b[0m: Error(s) in loading state_dict for Net:\n\tsize mismatch for fc1.weight: copying a param with shape torch.Size([256, 26]) from checkpoint, the shape in current model is torch.Size([64, 25]).\n\tsize mismatch for fc1.bias: copying a param with shape torch.Size([256]) from checkpoint, the shape in current model is torch.Size([64]).\n\tsize mismatch for fc2.weight: copying a param with shape torch.Size([256, 256]) from checkpoint, the shape in current model is torch.Size([64, 64]).\n\tsize mismatch for fc2.bias: copying a param with shape torch.Size([256]) from checkpoint, the shape in current model is torch.Size([64]).\n\tsize mismatch for fc3.weight: copying a param with shape torch.Size([128, 256]) from checkpoint, the shape in current model is torch.Size([32, 64]).\n\tsize mismatch for fc3.bias: copying a param with shape torch.Size([128]) from checkpoint, the shape in current model is torch.Size([32]).\n\tsize mismatch for fc4.weight: copying a param with shape torch.Size([1, 128]) from checkpoint, the shape in current model is torch.Size([1, 32])."
     ]
    }
   ],
   "source": [
    "learn.load(\"fcc_height_stage1\")"
   ]
  },
  {
   "cell_type": "code",
   "execution_count": 176,
   "metadata": {},
   "outputs": [],
   "source": [
    "?learn.get_preds"
   ]
  },
  {
   "cell_type": "code",
   "execution_count": 419,
   "metadata": {},
   "outputs": [],
   "source": [
    "preds,y,losses = learn.get_preds(with_loss=True)"
   ]
  },
  {
   "cell_type": "code",
   "execution_count": 342,
   "metadata": {},
   "outputs": [],
   "source": [
    "from scipy.stats.stats import pearsonr"
   ]
  },
  {
   "cell_type": "code",
   "execution_count": 420,
   "metadata": {
    "scrolled": true
   },
   "outputs": [
    {
     "data": {
      "text/plain": [
       "array([[1.      , 0.023038],\n",
       "       [0.023038, 1.      ]])"
      ]
     },
     "execution_count": 420,
     "metadata": {},
     "output_type": "execute_result"
    }
   ],
   "source": [
    "np.corrcoef(list(preds.numpy().reshape(-1,)),list(y.numpy().reshape(-1,)))"
   ]
  },
  {
   "cell_type": "code",
   "execution_count": 421,
   "metadata": {},
   "outputs": [
    {
     "data": {
      "text/plain": [
       "[<matplotlib.lines.Line2D at 0x7f00c43de390>]"
      ]
     },
     "execution_count": 421,
     "metadata": {},
     "output_type": "execute_result"
    },
    {
     "data": {
      "image/png": "[encoded data removed]",
      "text/plain": [
       "<Figure size 432x288 with 1 Axes>"
      ]
     },
     "metadata": {},
     "output_type": "display_data"
    }
   ],
   "source": [
    "plt.plot(preds,y,'.')"
   ]
  },
  {
   "cell_type": "code",
   "execution_count": 153,
   "metadata": {},
   "outputs": [],
   "source": [
    "learn.save(\"fcc_height_stage1\")"
   ]
  },
  {
   "cell_type": "code",
   "execution_count": 77,
   "metadata": {
    "scrolled": true
   },
   "outputs": [
    {
     "data": {
      "text/html": [
       "<table border=\"1\" class=\"dataframe\">\n",
       "  <thead>\n",
       "    <tr style=\"text-align: left;\">\n",
       "      <th>epoch</th>\n",
       "      <th>train_loss</th>\n",
       "      <th>valid_loss</th>\n",
       "      <th>time</th>\n",
       "    </tr>\n",
       "  </thead>\n",
       "  <tbody>\n",
       "    <tr>\n",
       "      <td>0</td>\n",
       "      <td>0.028414</td>\n",
       "      <td>0.030515</td>\n",
       "      <td>00:01</td>\n",
       "    </tr>\n",
       "    <tr>\n",
       "      <td>1</td>\n",
       "      <td>0.028465</td>\n",
       "      <td>0.030519</td>\n",
       "      <td>00:00</td>\n",
       "    </tr>\n",
       "    <tr>\n",
       "      <td>2</td>\n",
       "      <td>0.028503</td>\n",
       "      <td>0.030519</td>\n",
       "      <td>00:00</td>\n",
       "    </tr>\n",
       "    <tr>\n",
       "      <td>3</td>\n",
       "      <td>0.028359</td>\n",
       "      <td>0.030517</td>\n",
       "      <td>00:00</td>\n",
       "    </tr>\n",
       "    <tr>\n",
       "      <td>4</td>\n",
       "      <td>0.028344</td>\n",
       "      <td>0.030510</td>\n",
       "      <td>00:00</td>\n",
       "    </tr>\n",
       "    <tr>\n",
       "      <td>5</td>\n",
       "      <td>0.028459</td>\n",
       "      <td>0.030517</td>\n",
       "      <td>00:00</td>\n",
       "    </tr>\n",
       "    <tr>\n",
       "      <td>6</td>\n",
       "      <td>0.028471</td>\n",
       "      <td>0.030529</td>\n",
       "      <td>00:00</td>\n",
       "    </tr>\n",
       "    <tr>\n",
       "      <td>7</td>\n",
       "      <td>0.028482</td>\n",
       "      <td>0.030514</td>\n",
       "      <td>00:01</td>\n",
       "    </tr>\n",
       "    <tr>\n",
       "      <td>8</td>\n",
       "      <td>0.028565</td>\n",
       "      <td>0.030510</td>\n",
       "      <td>00:00</td>\n",
       "    </tr>\n",
       "    <tr>\n",
       "      <td>9</td>\n",
       "      <td>0.028540</td>\n",
       "      <td>0.030540</td>\n",
       "      <td>00:00</td>\n",
       "    </tr>\n",
       "    <tr>\n",
       "      <td>10</td>\n",
       "      <td>0.028577</td>\n",
       "      <td>0.030510</td>\n",
       "      <td>00:00</td>\n",
       "    </tr>\n",
       "    <tr>\n",
       "      <td>11</td>\n",
       "      <td>0.028509</td>\n",
       "      <td>0.030521</td>\n",
       "      <td>00:01</td>\n",
       "    </tr>\n",
       "    <tr>\n",
       "      <td>12</td>\n",
       "      <td>0.028391</td>\n",
       "      <td>0.030514</td>\n",
       "      <td>00:00</td>\n",
       "    </tr>\n",
       "    <tr>\n",
       "      <td>13</td>\n",
       "      <td>0.028468</td>\n",
       "      <td>0.030514</td>\n",
       "      <td>00:00</td>\n",
       "    </tr>\n",
       "    <tr>\n",
       "      <td>14</td>\n",
       "      <td>0.028321</td>\n",
       "      <td>0.030523</td>\n",
       "      <td>00:01</td>\n",
       "    </tr>\n",
       "    <tr>\n",
       "      <td>15</td>\n",
       "      <td>0.028373</td>\n",
       "      <td>0.030612</td>\n",
       "      <td>00:01</td>\n",
       "    </tr>\n",
       "    <tr>\n",
       "      <td>16</td>\n",
       "      <td>0.028579</td>\n",
       "      <td>0.030515</td>\n",
       "      <td>00:01</td>\n",
       "    </tr>\n",
       "    <tr>\n",
       "      <td>17</td>\n",
       "      <td>0.028627</td>\n",
       "      <td>0.030551</td>\n",
       "      <td>00:00</td>\n",
       "    </tr>\n",
       "    <tr>\n",
       "      <td>18</td>\n",
       "      <td>0.028458</td>\n",
       "      <td>0.030571</td>\n",
       "      <td>00:00</td>\n",
       "    </tr>\n",
       "    <tr>\n",
       "      <td>19</td>\n",
       "      <td>0.028512</td>\n",
       "      <td>0.030551</td>\n",
       "      <td>00:01</td>\n",
       "    </tr>\n",
       "    <tr>\n",
       "      <td>20</td>\n",
       "      <td>0.028588</td>\n",
       "      <td>0.030532</td>\n",
       "      <td>00:00</td>\n",
       "    </tr>\n",
       "    <tr>\n",
       "      <td>21</td>\n",
       "      <td>0.028510</td>\n",
       "      <td>0.030524</td>\n",
       "      <td>00:00</td>\n",
       "    </tr>\n",
       "    <tr>\n",
       "      <td>22</td>\n",
       "      <td>0.028614</td>\n",
       "      <td>0.030581</td>\n",
       "      <td>00:01</td>\n",
       "    </tr>\n",
       "    <tr>\n",
       "      <td>23</td>\n",
       "      <td>0.028658</td>\n",
       "      <td>0.030537</td>\n",
       "      <td>00:00</td>\n",
       "    </tr>\n",
       "    <tr>\n",
       "      <td>24</td>\n",
       "      <td>0.028375</td>\n",
       "      <td>0.030565</td>\n",
       "      <td>00:00</td>\n",
       "    </tr>\n",
       "    <tr>\n",
       "      <td>25</td>\n",
       "      <td>0.028494</td>\n",
       "      <td>0.030526</td>\n",
       "      <td>00:00</td>\n",
       "    </tr>\n",
       "    <tr>\n",
       "      <td>26</td>\n",
       "      <td>0.028568</td>\n",
       "      <td>0.030517</td>\n",
       "      <td>00:00</td>\n",
       "    </tr>\n",
       "    <tr>\n",
       "      <td>27</td>\n",
       "      <td>0.028475</td>\n",
       "      <td>0.030625</td>\n",
       "      <td>00:00</td>\n",
       "    </tr>\n",
       "    <tr>\n",
       "      <td>28</td>\n",
       "      <td>0.028464</td>\n",
       "      <td>0.030828</td>\n",
       "      <td>00:00</td>\n",
       "    </tr>\n",
       "    <tr>\n",
       "      <td>29</td>\n",
       "      <td>0.028455</td>\n",
       "      <td>0.030706</td>\n",
       "      <td>00:00</td>\n",
       "    </tr>\n",
       "    <tr>\n",
       "      <td>30</td>\n",
       "      <td>0.028621</td>\n",
       "      <td>0.030596</td>\n",
       "      <td>00:00</td>\n",
       "    </tr>\n",
       "    <tr>\n",
       "      <td>31</td>\n",
       "      <td>0.028510</td>\n",
       "      <td>0.030536</td>\n",
       "      <td>00:00</td>\n",
       "    </tr>\n",
       "    <tr>\n",
       "      <td>32</td>\n",
       "      <td>0.028524</td>\n",
       "      <td>0.030566</td>\n",
       "      <td>00:00</td>\n",
       "    </tr>\n",
       "    <tr>\n",
       "      <td>33</td>\n",
       "      <td>0.028493</td>\n",
       "      <td>0.030595</td>\n",
       "      <td>00:00</td>\n",
       "    </tr>\n",
       "    <tr>\n",
       "      <td>34</td>\n",
       "      <td>0.028455</td>\n",
       "      <td>0.030521</td>\n",
       "      <td>00:00</td>\n",
       "    </tr>\n",
       "    <tr>\n",
       "      <td>35</td>\n",
       "      <td>0.028453</td>\n",
       "      <td>0.030545</td>\n",
       "      <td>00:00</td>\n",
       "    </tr>\n",
       "    <tr>\n",
       "      <td>36</td>\n",
       "      <td>0.028368</td>\n",
       "      <td>0.030523</td>\n",
       "      <td>00:00</td>\n",
       "    </tr>\n",
       "    <tr>\n",
       "      <td>37</td>\n",
       "      <td>0.028385</td>\n",
       "      <td>0.030541</td>\n",
       "      <td>00:00</td>\n",
       "    </tr>\n",
       "    <tr>\n",
       "      <td>38</td>\n",
       "      <td>0.028338</td>\n",
       "      <td>0.030522</td>\n",
       "      <td>00:00</td>\n",
       "    </tr>\n",
       "    <tr>\n",
       "      <td>39</td>\n",
       "      <td>0.028479</td>\n",
       "      <td>0.030539</td>\n",
       "      <td>00:00</td>\n",
       "    </tr>\n",
       "    <tr>\n",
       "      <td>40</td>\n",
       "      <td>0.028540</td>\n",
       "      <td>0.031053</td>\n",
       "      <td>00:00</td>\n",
       "    </tr>\n",
       "    <tr>\n",
       "      <td>41</td>\n",
       "      <td>0.028593</td>\n",
       "      <td>0.030520</td>\n",
       "      <td>00:00</td>\n",
       "    </tr>\n",
       "    <tr>\n",
       "      <td>42</td>\n",
       "      <td>0.028589</td>\n",
       "      <td>0.030522</td>\n",
       "      <td>00:00</td>\n",
       "    </tr>\n",
       "    <tr>\n",
       "      <td>43</td>\n",
       "      <td>0.028472</td>\n",
       "      <td>0.030545</td>\n",
       "      <td>00:00</td>\n",
       "    </tr>\n",
       "    <tr>\n",
       "      <td>44</td>\n",
       "      <td>0.028532</td>\n",
       "      <td>0.030680</td>\n",
       "      <td>00:00</td>\n",
       "    </tr>\n",
       "    <tr>\n",
       "      <td>45</td>\n",
       "      <td>0.028525</td>\n",
       "      <td>0.030532</td>\n",
       "      <td>00:00</td>\n",
       "    </tr>\n",
       "    <tr>\n",
       "      <td>46</td>\n",
       "      <td>0.028657</td>\n",
       "      <td>0.030519</td>\n",
       "      <td>00:00</td>\n",
       "    </tr>\n",
       "    <tr>\n",
       "      <td>47</td>\n",
       "      <td>0.028634</td>\n",
       "      <td>0.030522</td>\n",
       "      <td>00:00</td>\n",
       "    </tr>\n",
       "    <tr>\n",
       "      <td>48</td>\n",
       "      <td>0.028555</td>\n",
       "      <td>0.030518</td>\n",
       "      <td>00:00</td>\n",
       "    </tr>\n",
       "    <tr>\n",
       "      <td>49</td>\n",
       "      <td>0.028656</td>\n",
       "      <td>0.030835</td>\n",
       "      <td>00:00</td>\n",
       "    </tr>\n",
       "    <tr>\n",
       "      <td>50</td>\n",
       "      <td>0.028524</td>\n",
       "      <td>0.030857</td>\n",
       "      <td>00:00</td>\n",
       "    </tr>\n",
       "    <tr>\n",
       "      <td>51</td>\n",
       "      <td>0.028547</td>\n",
       "      <td>0.030521</td>\n",
       "      <td>00:00</td>\n",
       "    </tr>\n",
       "    <tr>\n",
       "      <td>52</td>\n",
       "      <td>0.028688</td>\n",
       "      <td>0.030641</td>\n",
       "      <td>00:00</td>\n",
       "    </tr>\n",
       "    <tr>\n",
       "      <td>53</td>\n",
       "      <td>0.028566</td>\n",
       "      <td>0.030519</td>\n",
       "      <td>00:00</td>\n",
       "    </tr>\n",
       "    <tr>\n",
       "      <td>54</td>\n",
       "      <td>0.028659</td>\n",
       "      <td>0.030517</td>\n",
       "      <td>00:00</td>\n",
       "    </tr>\n",
       "    <tr>\n",
       "      <td>55</td>\n",
       "      <td>0.028545</td>\n",
       "      <td>0.030524</td>\n",
       "      <td>00:00</td>\n",
       "    </tr>\n",
       "    <tr>\n",
       "      <td>56</td>\n",
       "      <td>0.028574</td>\n",
       "      <td>0.030615</td>\n",
       "      <td>00:00</td>\n",
       "    </tr>\n",
       "    <tr>\n",
       "      <td>57</td>\n",
       "      <td>0.028579</td>\n",
       "      <td>0.030529</td>\n",
       "      <td>00:00</td>\n",
       "    </tr>\n",
       "    <tr>\n",
       "      <td>58</td>\n",
       "      <td>0.028526</td>\n",
       "      <td>0.030593</td>\n",
       "      <td>00:00</td>\n",
       "    </tr>\n",
       "    <tr>\n",
       "      <td>59</td>\n",
       "      <td>0.028569</td>\n",
       "      <td>0.030532</td>\n",
       "      <td>00:00</td>\n",
       "    </tr>\n",
       "    <tr>\n",
       "      <td>60</td>\n",
       "      <td>0.028572</td>\n",
       "      <td>0.030530</td>\n",
       "      <td>00:00</td>\n",
       "    </tr>\n",
       "    <tr>\n",
       "      <td>61</td>\n",
       "      <td>0.028635</td>\n",
       "      <td>0.030648</td>\n",
       "      <td>00:00</td>\n",
       "    </tr>\n",
       "    <tr>\n",
       "      <td>62</td>\n",
       "      <td>0.028568</td>\n",
       "      <td>0.030542</td>\n",
       "      <td>00:00</td>\n",
       "    </tr>\n",
       "    <tr>\n",
       "      <td>63</td>\n",
       "      <td>0.028499</td>\n",
       "      <td>0.030523</td>\n",
       "      <td>00:00</td>\n",
       "    </tr>\n",
       "    <tr>\n",
       "      <td>64</td>\n",
       "      <td>0.028513</td>\n",
       "      <td>0.030552</td>\n",
       "      <td>00:00</td>\n",
       "    </tr>\n",
       "    <tr>\n",
       "      <td>65</td>\n",
       "      <td>0.028392</td>\n",
       "      <td>0.030520</td>\n",
       "      <td>00:00</td>\n",
       "    </tr>\n",
       "    <tr>\n",
       "      <td>66</td>\n",
       "      <td>0.028521</td>\n",
       "      <td>0.030526</td>\n",
       "      <td>00:00</td>\n",
       "    </tr>\n",
       "    <tr>\n",
       "      <td>67</td>\n",
       "      <td>0.028611</td>\n",
       "      <td>0.030534</td>\n",
       "      <td>00:00</td>\n",
       "    </tr>\n",
       "    <tr>\n",
       "      <td>68</td>\n",
       "      <td>0.028534</td>\n",
       "      <td>0.030523</td>\n",
       "      <td>00:00</td>\n",
       "    </tr>\n",
       "    <tr>\n",
       "      <td>69</td>\n",
       "      <td>0.028609</td>\n",
       "      <td>0.030537</td>\n",
       "      <td>00:00</td>\n",
       "    </tr>\n",
       "    <tr>\n",
       "      <td>70</td>\n",
       "      <td>0.028573</td>\n",
       "      <td>0.030541</td>\n",
       "      <td>00:00</td>\n",
       "    </tr>\n",
       "    <tr>\n",
       "      <td>71</td>\n",
       "      <td>0.028547</td>\n",
       "      <td>0.030519</td>\n",
       "      <td>00:00</td>\n",
       "    </tr>\n",
       "    <tr>\n",
       "      <td>72</td>\n",
       "      <td>0.028420</td>\n",
       "      <td>0.030564</td>\n",
       "      <td>00:00</td>\n",
       "    </tr>\n",
       "    <tr>\n",
       "      <td>73</td>\n",
       "      <td>0.028453</td>\n",
       "      <td>0.030536</td>\n",
       "      <td>00:00</td>\n",
       "    </tr>\n",
       "    <tr>\n",
       "      <td>74</td>\n",
       "      <td>0.028455</td>\n",
       "      <td>0.030517</td>\n",
       "      <td>00:00</td>\n",
       "    </tr>\n",
       "    <tr>\n",
       "      <td>75</td>\n",
       "      <td>0.028349</td>\n",
       "      <td>0.030527</td>\n",
       "      <td>00:00</td>\n",
       "    </tr>\n",
       "    <tr>\n",
       "      <td>76</td>\n",
       "      <td>0.028525</td>\n",
       "      <td>0.030517</td>\n",
       "      <td>00:00</td>\n",
       "    </tr>\n",
       "    <tr>\n",
       "      <td>77</td>\n",
       "      <td>0.028506</td>\n",
       "      <td>0.030525</td>\n",
       "      <td>00:00</td>\n",
       "    </tr>\n",
       "    <tr>\n",
       "      <td>78</td>\n",
       "      <td>0.028407</td>\n",
       "      <td>0.030535</td>\n",
       "      <td>00:00</td>\n",
       "    </tr>\n",
       "    <tr>\n",
       "      <td>79</td>\n",
       "      <td>0.028427</td>\n",
       "      <td>0.030516</td>\n",
       "      <td>00:00</td>\n",
       "    </tr>\n",
       "    <tr>\n",
       "      <td>80</td>\n",
       "      <td>0.028507</td>\n",
       "      <td>0.030529</td>\n",
       "      <td>00:00</td>\n",
       "    </tr>\n",
       "    <tr>\n",
       "      <td>81</td>\n",
       "      <td>0.028517</td>\n",
       "      <td>0.030523</td>\n",
       "      <td>00:00</td>\n",
       "    </tr>\n",
       "    <tr>\n",
       "      <td>82</td>\n",
       "      <td>0.028411</td>\n",
       "      <td>0.030517</td>\n",
       "      <td>00:00</td>\n",
       "    </tr>\n",
       "    <tr>\n",
       "      <td>83</td>\n",
       "      <td>0.028411</td>\n",
       "      <td>0.030535</td>\n",
       "      <td>00:00</td>\n",
       "    </tr>\n",
       "    <tr>\n",
       "      <td>84</td>\n",
       "      <td>0.028400</td>\n",
       "      <td>0.030529</td>\n",
       "      <td>00:00</td>\n",
       "    </tr>\n",
       "    <tr>\n",
       "      <td>85</td>\n",
       "      <td>0.028498</td>\n",
       "      <td>0.030522</td>\n",
       "      <td>00:00</td>\n",
       "    </tr>\n",
       "    <tr>\n",
       "      <td>86</td>\n",
       "      <td>0.028599</td>\n",
       "      <td>0.030521</td>\n",
       "      <td>00:00</td>\n",
       "    </tr>\n",
       "    <tr>\n",
       "      <td>87</td>\n",
       "      <td>0.028531</td>\n",
       "      <td>0.030521</td>\n",
       "      <td>00:00</td>\n",
       "    </tr>\n",
       "    <tr>\n",
       "      <td>88</td>\n",
       "      <td>0.028491</td>\n",
       "      <td>0.030536</td>\n",
       "      <td>00:00</td>\n",
       "    </tr>\n",
       "    <tr>\n",
       "      <td>89</td>\n",
       "      <td>0.028526</td>\n",
       "      <td>0.030525</td>\n",
       "      <td>00:00</td>\n",
       "    </tr>\n",
       "    <tr>\n",
       "      <td>90</td>\n",
       "      <td>0.028421</td>\n",
       "      <td>0.030523</td>\n",
       "      <td>00:00</td>\n",
       "    </tr>\n",
       "    <tr>\n",
       "      <td>91</td>\n",
       "      <td>0.028314</td>\n",
       "      <td>0.030524</td>\n",
       "      <td>00:00</td>\n",
       "    </tr>\n",
       "    <tr>\n",
       "      <td>92</td>\n",
       "      <td>0.028372</td>\n",
       "      <td>0.030525</td>\n",
       "      <td>00:00</td>\n",
       "    </tr>\n",
       "    <tr>\n",
       "      <td>93</td>\n",
       "      <td>0.028459</td>\n",
       "      <td>0.030523</td>\n",
       "      <td>00:00</td>\n",
       "    </tr>\n",
       "    <tr>\n",
       "      <td>94</td>\n",
       "      <td>0.028383</td>\n",
       "      <td>0.030525</td>\n",
       "      <td>00:00</td>\n",
       "    </tr>\n",
       "    <tr>\n",
       "      <td>95</td>\n",
       "      <td>0.028439</td>\n",
       "      <td>0.030525</td>\n",
       "      <td>00:00</td>\n",
       "    </tr>\n",
       "    <tr>\n",
       "      <td>96</td>\n",
       "      <td>0.028519</td>\n",
       "      <td>0.030524</td>\n",
       "      <td>00:00</td>\n",
       "    </tr>\n",
       "    <tr>\n",
       "      <td>97</td>\n",
       "      <td>0.028531</td>\n",
       "      <td>0.030524</td>\n",
       "      <td>00:00</td>\n",
       "    </tr>\n",
       "    <tr>\n",
       "      <td>98</td>\n",
       "      <td>0.028514</td>\n",
       "      <td>0.030524</td>\n",
       "      <td>00:00</td>\n",
       "    </tr>\n",
       "    <tr>\n",
       "      <td>99</td>\n",
       "      <td>0.028479</td>\n",
       "      <td>0.030524</td>\n",
       "      <td>00:00</td>\n",
       "    </tr>\n",
       "  </tbody>\n",
       "</table>"
      ],
      "text/plain": [
       "<IPython.core.display.HTML object>"
      ]
     },
     "metadata": {},
     "output_type": "display_data"
    }
   ],
   "source": [
    "learn.fit_one_cycle(100,max_lr=0.001)"
   ]
  },
  {
   "cell_type": "markdown",
   "metadata": {},
   "source": [
    "# Remove outliers"
   ]
  },
  {
   "cell_type": "code",
   "execution_count": 130,
   "metadata": {
    "collapsed": true
   },
   "outputs": [],
   "source": [
    "tz_meta_row = tz_meta"
   ]
  },
  {
   "cell_type": "code",
   "execution_count": 140,
   "metadata": {
    "collapsed": true
   },
   "outputs": [],
   "source": [
    "tz_meta=tz_meta_row.loc[(tz_meta_row[['pc1','pc2','pc3','pc4']]< -0.005).sum(1)==0,:]"
   ]
  },
  {
   "cell_type": "code",
   "execution_count": 141,
   "metadata": {
    "collapsed": true
   },
   "outputs": [],
   "source": [
    "regr = gn_residual(tz_meta,t=False,col=['gender','nationality','pc1','pc2','pc3','pc4'])"
   ]
  },
  {
   "cell_type": "code",
   "execution_count": 142,
   "metadata": {},
   "outputs": [
    {
     "data": {
      "text/plain": [
       "<matplotlib.collections.PathCollection at 0x7f9c01ea37f0>"
      ]
     },
     "execution_count": 142,
     "metadata": {},
     "output_type": "execute_result"
    },
    {
     "data": {
      "image/png": "[encoded data removed]",
      "text/plain": [
       "<Figure size 432x288 with 1 Axes>"
      ]
     },
     "metadata": {},
     "output_type": "display_data"
    }
   ],
   "source": [
    "plt.scatter(tz_meta.residual,tz_meta.height-regr.predict(tz_meta[['gender','nationality','pc1','pc2','pc3','pc4']]),c=tz_meta.gender)"
   ]
  },
  {
   "cell_type": "code",
   "execution_count": 143,
   "metadata": {
    "collapsed": true
   },
   "outputs": [
    {
     "data": {
      "text/plain": [
       "<matplotlib.collections.PathCollection at 0x7f9c01df6e80>"
      ]
     },
     "execution_count": 143,
     "metadata": {},
     "output_type": "execute_result"
    },
    {
     "data": {
      "image/png": "[encoded data removed]",
      "text/plain": [
       "<Figure size 432x288 with 1 Axes>"
      ]
     },
     "metadata": {},
     "output_type": "display_data"
    }
   ],
   "source": [
    "plt.scatter(tz_meta.pc1,tz_meta.pc2,s=(tz_meta.residual-(tz_meta.height-regr.predict(tz_meta[['gender','nationality','pc1','pc2','pc3','pc4']]))).abs())"
   ]
  },
  {
   "cell_type": "code",
   "execution_count": 144,
   "metadata": {},
   "outputs": [
    {
     "data": {
      "text/plain": [
       "<matplotlib.collections.PathCollection at 0x7f9c01fce710>"
      ]
     },
     "execution_count": 144,
     "metadata": {},
     "output_type": "execute_result"
    },
    {
     "data": {
      "image/png": "[encoded data removed]",
      "text/plain": [
       "<Figure size 432x288 with 1 Axes>"
      ]
     },
     "metadata": {},
     "output_type": "display_data"
    }
   ],
   "source": [
    "plt.scatter(pcs.pc1,pcs.pc2)\n",
    "plt.scatter(tz_meta.pc1,tz_meta.pc2)"
   ]
  },
  {
   "cell_type": "code",
   "execution_count": 63,
   "metadata": {
    "collapsed": true
   },
   "outputs": [],
   "source": [
    "def super_model(m,X,y,val_idx,mr,pca=True,rcol=['gender','nationality']):\n",
    "    #pca\n",
    "    if pca:        \n",
    "        pca = PCA(.95)\n",
    "        X=pd.DataFrame(pca.fit_transform(X))\n",
    "        print(X.shape)\n",
    "    #data    \n",
    "    ((val,trn), (y_val,y_trn)) = split_by_idx(val_idx, X.values, np.array(y.residual))\n",
    "    ((gn_val,gn_trn),(gn_y_val,gn_y_trn)) = split_by_idx(val_idx, y[rcol].values, np.array(y.height))\n",
    "    ((yb_val,yb_trn),(yt_val,yt_trn)) = split_by_idx(val_idx,y.biclass,y.triclass)\n",
    "     \n",
    "    tz_idx = boo2idx(y.gender==2)\n",
    "    ((tz,os), (y_tz,y_os)) = split_by_idx(tz_idx, X.values, np.array(y.residual))\n",
    "    ((gn_tz,gn_os),(gn_y_tz,gn_y_os)) = split_by_idx(tz_idx, y[rcol].values, np.array(y.height))\n",
    "    ((yb_tz,yb_os),(yt_tz,yt_os)) = split_by_idx(tz_idx,y.biclass,y.triclass)\n",
    "    print([x.shape for x in [trn,val,tz,os]])\n",
    "    \n",
    "    #sv_idx = boo2idx(gn_val[:,0]==2)\n",
    "    #((val_f,val_m), (y_val_f,y_val_m)) = split_by_idx(sv_idx, val, y_val)\n",
    "    #((gn_val_f,gn_val_m),(gn_y_val_f,gn_y_val_m)) = split_by_idx(sv_idx, gn_val, gn_y_trn)\n",
    "    #((yb_val_f,yb_val_m),(yt_val_f,yt_val_m)) = split_by_idx(sv_idx,yb_val,yt_val)\n",
    "    #model\n",
    "    ml = m\n",
    "    ml.fit(trn, y_trn)\n",
    "    \n",
    "    mb = linear_model.LogisticRegression()\n",
    "    mb.fit(trn, yb_trn)\n",
    "    \n",
    "    mt = linear_model.LogisticRegression()\n",
    "    mt.fit(trn, yt_trn)\n",
    "    \n",
    "    #\n",
    "    yr = [y_trn,y_val,y_tz,y_os]\n",
    "    yh = [gn_y_trn,gn_y_val,gn_y_tz,gn_y_os]\n",
    "    yb = [yb_trn,yb_val,yb_tz,yb_os]\n",
    "    yt = [yt_trn,yt_val,yt_tz,yt_os]\n",
    "    gd = [gn_trn[:,0],gn_val[:,0],gn_tz[:,0],gn_os[:,0]]\n",
    "    #pred\n",
    "    pbase = model_pred(mr,[gn_trn,gn_val,gn_tz,gn_os])\n",
    "    pr = model_pred(ml,[trn,val,tz,os])\n",
    "    pbi = model_pred(mb,[trn,val,tz,os])\n",
    "    pbi_prob = model_pred(mb,[trn,val,tz,os],p=True)\n",
    "    ptri =  model_pred(mt,[trn,val,tz,os])\n",
    "    ptri_prob = model_pred(mt,[trn,val,tz,os],p=True)\n",
    "    ph = [x+y for x,y in zip(pr,pbase)]\n",
    "    pr_c = [np.clip(x,-20,20) for x in pr]\n",
    "    ph_c = [x+y for x,y in zip(pr_c,pbase)]\n",
    "    pr_b = [biclip(x,b) for x,b in zip(pr_c,pbi)]\n",
    "    ph_b = [x+y for x,y in zip(pr_b,pbase)]\n",
    "    pr_t = [triclip(x,b,t) for x,b,t in zip(pr_c,pbi,ptri)]\n",
    "    ph_t = [x+y for x,y in zip(pr_t,pbase)]\n",
    "    \n",
    "    fpr_b,tpr_b,auc_b=[],[],[]\n",
    "    for y,scores in zip(yb,pbi_prob):\n",
    "        #print(y,scores)\n",
    "        fpr, tpr, _ = metrics.roc_curve(y, scores)\n",
    "        auc_b.append(metrics.auc(fpr, tpr))\n",
    "        fpr_b.append(fpr)\n",
    "        tpr_b.append(tpr)\n",
    "    #print('auc_b',auc_b)\n",
    "    fpr_t,tpr_t,auc_t=[],[],[]\n",
    "    for y,scores in zip(yt,ptri_prob):\n",
    "        fpr, tpr, _ = metrics.roc_curve(y, scores,pos_label=1)\n",
    "        auc_t.append(metrics.auc(fpr, tpr))\n",
    "        fpr_t.append(fpr)\n",
    "        tpr_t.append(tpr)  \n",
    "    #print('auc_t',auc_t)\n",
    "    f, axs = plt.subplots(5, 4,figsize=(20, 16))\n",
    "    axs = axs.ravel()\n",
    "    for i,x,y,z in zip(list(range(12)),yh+yr+yh,ph+pr+pbi_prob,gd+gd+gd):\n",
    "        #print(i,x,y)\n",
    "        axs[i].scatter(x,y,marker='o',c=z)\n",
    "    for i,x,y in zip(list(range(12,21)),fpr_b+fpr_t,tpr_b+tpr_t):\n",
    "        axs[i].plot(x,y)\n",
    "    plt.show()\n",
    "    \n",
    "    print(pd.DataFrame({\n",
    "        'auc_b':auc_b,\n",
    "        'auc_t':auc_t,\n",
    "        'R2':[metrics.r2_score(x,y) for x,y in zip(yh,pbase)],\n",
    "        'MSE':[metrics.mean_squared_error(x,y) for x,y in zip(yh,pbase)]\n",
    "    },index=['trn','val','female','male']))\n",
    "    \n",
    "    R2 = pd.DataFrame.from_records([[metrics.r2_score(x,y) for x,y in zip(yr+yh,t)] \n",
    "           for t in [pr+ph,pr_c+ph_c,pr_b+ph_b,pr_t+ph_t]],index=['r','c','b','t'],\n",
    "                                  columns=['rt','rv','rf','rm','ht','hv','hf','hm'])\n",
    "    MSE = pd.DataFrame.from_records([[metrics.mean_squared_error(x,y) for x,y in zip(yr+yh,t)] \n",
    "           for t in [pr+ph,pr_c+ph_c,pr_b+ph_b,pr_t+ph_t]],index=['r','c','b','t'],\n",
    "                                  columns=['rt','rv','rf','rm','ht','hv','hf','hm'])\n",
    "    #max(ml.coef_),min(ml.coef_)\n",
    "    return R2,MSE"
   ]
  },
  {
   "cell_type": "code",
   "execution_count": null,
   "metadata": {
    "collapsed": true
   },
   "outputs": [],
   "source": [
    "def train_model(m,X,y,val_idx,mr):\n",
    "    ((val,trn), (y_val,y_trn)) = split_by_idx(val_idx, X.values, np.array(y.residual))\n",
    "    ((gn_val,gn_trn),(gn_y_val,gn_y_trn)) = split_by_idx(val_idx, y[['gender','nationality']].values, np.array(y.height))\n",
    "\n",
    "    ml = m\n",
    "    ml.fit(trn, y_trn)\n",
    "\n",
    "\n",
    "    pr_trn = np.clip(ml.predict(trn),-20,20)\n",
    "    ph_trn = mr.predict(gn_trn)+pr_trn\n",
    "    pr_val = np.clip(ml.predict(val),-20,20)\n",
    "    ph_val = mr.predict(gn_val)+pr_val\n",
    "    f, ((ax1, ax2),(ax3,ax4)) = plt.subplots(2, 2)\n",
    "    ax1.scatter(y_trn,pr_trn,c=gn_trn[:,0], marker='o')\n",
    "    ax2.scatter(y_val,pr_val,c=gn_val[:,0], marker='o')\n",
    "    ax3.scatter(gn_y_trn,ph_trn,c=gn_trn[:,1], marker='o')\n",
    "    ax4.scatter(gn_y_val,ph_val,c=gn_val[:,1], marker='o')\n",
    "\n",
    "    plt.title(n);\n",
    "    plt.show()\n",
    "\n",
    "    score=(ml.score(trn, y_trn), ml.score(val, y_val),\n",
    "                  rsqure(pr_trn,y_trn),rsqure(pr_val,y_val),\n",
    "                  rsqure(ph_trn,gn_y_trn),rsqure(ph_val,gn_y_val),\n",
    "                  max(ml.coef_),min(ml.coef_))\n",
    "    return (ml,score)\n"
   ]
  },
  {
   "cell_type": "code",
   "execution_count": 176,
   "metadata": {
    "collapsed": true
   },
   "outputs": [],
   "source": [
    "\n",
    "\n",
    "def train_model(m,X,y,val_idx,mr):\n",
    "    ((val,trn), (y_val,y_trn)) = split_by_idx(val_idx, X.values, np.array(y.residual))\n",
    "    ((gn_val,gn_trn),(gn_y_val,gn_y_trn)) = split_by_idx(val_idx, y[['gender','nationality']].values, np.array(y.height))\n",
    "    ((yb_val,yb_trn),(yt_val,yt_trn)) = split_by_idx(val_idx,y.biclass,y.triclass)\n",
    "         \n",
    "    ml = m\n",
    "    ml.fit(trn, y_trn)\n",
    "    \n",
    "    mb = linear_model.LogisticRegression()\n",
    "    mb.fit(trn, yb_trn)\n",
    "    \n",
    "    mt = linear_model.LogisticRegression()\n",
    "    mt.fit(trn, yt_trn)\n",
    "\n",
    "    pr_trn = np.clip(ml.predict(trn),-20,20)\n",
    "    ph_trn = mr.predict(gn_trn)+pr_trn\n",
    "    pr_val = np.clip(ml.predict(val),-20,20)\n",
    "    ph_val = mr.predict(gn_val)+pr_val\n",
    "    f, ((ax1, ax2),(ax3,ax4)) = plt.subplots(2, 2)\n",
    "    ax1.scatter(y_trn,pr_trn,c=gn_trn[:,0], marker='o')\n",
    "    ax2.scatter(y_val,pr_val,c=gn_val[:,0], marker='o')\n",
    "    ax3.scatter(gn_y_trn,ph_trn,c=gn_trn[:,1], marker='o')\n",
    "    ax4.scatter(gn_y_val,ph_val,c=gn_val[:,1], marker='o')\n",
    "\n",
    "    plt.title(n);\n",
    "    plt.show()\n",
    "    pb_val = mb.predict(val)\n",
    "    pt_val = mt.predict(val)\n",
    "    tmp=pd.DataFrame({'yb':yb_val,'yt':yt_val,'pb':pb_val,'pt':pt_val,'v':1})\n",
    "    print(tmp.pivot_table(['v'],index=['yb'],columns=['pb'],aggfunc=np.sum))\n",
    "    print(tmp.pivot_table(['v'],index=['yt'],columns=['pt'],aggfunc=np.sum))\n",
    "    \n",
    "    f, ((ax1, ax2),(ax3,ax4)) = plt.subplots(2, 2)\n",
    "    ax1.scatter(y_trn,pr_trn,c=gn_trn[:,0], marker='o')\n",
    "    ax2.scatter(biclip(pr_val,pb_val,pt_val),pr_val,c=pt_val, marker='o')\n",
    "    ax3.scatter(y_val,pr_val,c=pt_val, marker='o')\n",
    "    ax4.scatter(y_val,biclip(pr_val,pb_val,pt_val),c=pt_val, marker='o')\n",
    "\n",
    "    plt.title(n);\n",
    "    plt.show()\n",
    "    \n",
    "    score=(ml.score(trn, y_trn), ml.score(val, y_val),\n",
    "                  rsqure(pr_trn,y_trn),rsqure(pr_val,y_val),\n",
    "                  rsqure(ph_trn,gn_y_trn),rsqure(ph_val,gn_y_val),\n",
    "                  max(ml.coef_),min(ml.coef_))\n",
    "    return (ml,mb,mt,score)\n",
    "\n",
    "def topsnp_model(m,X,y,val_idx,mr,Xt,yt,topn=[500, 200, 100, 50, 20, 10]):\n",
    "    score={}\n",
    "    for n in topn: \n",
    "        var_idx = list(range(n))\n",
    "        ml,mb,mt,score[n] = train_model(m,X.iloc[:,var_idx],y,val_idx,mr)\n",
    "        ph_test = mr.predict(yt[['gender','nationality']].values)+biclip(np.clip(ml.predict(Xt.iloc[:,var_idx]),-20,20),mb.predict(Xt.iloc[:,var_idx]),mt.predict(Xt.iloc[:,var_idx]))\n",
    "        challenge = crowdai.Challenge(\"OpenSNPChallenge2017\", \"02f5a9824254b85a068fbdfbb1298b8e\")\n",
    "        challenge.submit(ph_test.tolist())\n",
    "        challenge.disconnect()\n",
    "    return pd.DataFrame(score)"
   ]
  },
  {
   "cell_type": "code",
   "execution_count": null,
   "metadata": {
    "collapsed": true
   },
   "outputs": [],
   "source": []
  },
  {
   "cell_type": "markdown",
   "metadata": {},
   "source": [
    "## 2.SNPs from GWAS of TZ2014"
   ]
  },
  {
   "cell_type": "markdown",
   "metadata": {},
   "source": [
    "# Build Model"
   ]
  },
  {
   "cell_type": "markdown",
   "metadata": {},
   "source": [
    "## Data Prepare"
   ]
  },
  {
   "cell_type": "code",
   "execution_count": 10,
   "metadata": {
    "collapsed": true
   },
   "outputs": [],
   "source": [
    "all_bed_T = pd.read_pickle(TMP_PATH/'all_bed_T_top10000.pk')"
   ]
  },
  {
   "cell_type": "code",
   "execution_count": 165,
   "metadata": {},
   "outputs": [
    {
     "data": {
      "text/plain": [
       "783.0"
      ]
     },
     "execution_count": 165,
     "metadata": {},
     "output_type": "execute_result"
    }
   ],
   "source": [
    "sum(tmp.astype(np.float32))"
   ]
  },
  {
   "cell_type": "code",
   "execution_count": 276,
   "metadata": {
    "collapsed": true
   },
   "outputs": [],
   "source": [
    "X = all_bed_T\n",
    "X['gender'] = pd.Series(list(all_meta.gender),index=X.index)\n",
    "X['nationality'] = pd.Series(list((all_meta.nationality=='PROBLEM').astype(np.int)),index=X.index)\n",
    "X.fillna(-1,inplace=True)\n",
    "y = all_meta.height\n",
    "\n",
    "df_test = os_sub_test_align.T\n",
    "df_test['gender']=pd.Series(list(os_meta_test.SNPSEX[[int(x) for x in list(os_plink_test[1].iid)]]),index=df_test.index)\n",
    "df_test['nationality'] = 1\n",
    "#Replace nan values in the training and testing set with an arbitrary number (-1)\n",
    "df_test.fillna(-1,inplace=True)"
   ]
  },
  {
   "cell_type": "markdown",
   "metadata": {},
   "source": [
    "### Linear model for os data"
   ]
  },
  {
   "cell_type": "markdown",
   "metadata": {},
   "source": [
    "## Sample seperation"
   ]
  },
  {
   "cell_type": "code",
   "execution_count": 272,
   "metadata": {},
   "outputs": [
    {
     "name": "stdout",
     "output_type": "stream",
     "text": [
      "3530 2647\n"
     ]
    },
    {
     "data": {
      "image/png": "[encoded data removed]",
      "text/plain": [
       "<Figure size 792x576 with 1 Axes>"
      ]
     },
     "metadata": {},
     "output_type": "display_data"
    },
    {
     "data": {
      "text/plain": [
       "<ggplot: (-9223363300284316977)>"
      ]
     },
     "execution_count": 272,
     "metadata": {},
     "output_type": "execute_result"
    }
   ],
   "source": [
    "samp_size=len(all_meta)\n",
    "train_ratio = 0.75\n",
    "#train_ratio = 0.9\n",
    "train_size = int(samp_size * train_ratio)\n",
    "\n",
    "import random\n",
    "val_idx = random.sample(range(samp_size), samp_size-train_size)\n",
    "print(samp_size,train_size)\n",
    "ggplot( aes(x='height',fill='factor(gender)'),data=all_meta.loc[val_idx]) +\\\n",
    "    geom_histogram(alpha=0.6)"
   ]
  },
  {
   "cell_type": "markdown",
   "metadata": {},
   "source": [
    "## Random Forest"
   ]
  },
  {
   "cell_type": "code",
   "execution_count": 282,
   "metadata": {
    "collapsed": true
   },
   "outputs": [],
   "source": [
    "y = np.array(y)"
   ]
  },
  {
   "cell_type": "code",
   "execution_count": 283,
   "metadata": {},
   "outputs": [
    {
     "data": {
      "text/plain": [
       "RandomForestRegressor(bootstrap=True, criterion='mse', max_depth=None,\n",
       "           max_features=0.99, max_leaf_nodes=None,\n",
       "           min_impurity_split=1e-07, min_samples_leaf=2,\n",
       "           min_samples_split=2, min_weight_fraction_leaf=0.0,\n",
       "           n_estimators=40, n_jobs=-1, oob_score=True, random_state=None,\n",
       "           verbose=0, warm_start=False)"
      ]
     },
     "execution_count": 283,
     "metadata": {},
     "output_type": "execute_result"
    }
   ],
   "source": [
    "from sklearn.ensemble import RandomForestRegressor\n",
    "((val,trn), (y_val,y_trn)) = split_by_idx(val_idx, X.values, y)\n",
    "\n",
    "m = RandomForestRegressor(n_estimators=40, max_features=0.99, min_samples_leaf=2,\n",
    "                          n_jobs=-1, oob_score=True)\n",
    "m.fit(trn, y_trn)"
   ]
  },
  {
   "cell_type": "code",
   "execution_count": 3,
   "metadata": {},
   "outputs": [
    {
     "ename": "NameError",
     "evalue": "name 'm' is not defined",
     "output_type": "error",
     "traceback": [
      "\u001b[0;31m---------------------------------------------------------------------------\u001b[0m",
      "\u001b[0;31mNameError\u001b[0m                                 Traceback (most recent call last)",
      "\u001b[0;32m<ipython-input-3-b3e6a081865c>\u001b[0m in \u001b[0;36m<module>\u001b[0;34m()\u001b[0m\n\u001b[0;32m----> 1\u001b[0;31m \u001b[0mpreds\u001b[0m \u001b[0;34m=\u001b[0m \u001b[0mm\u001b[0m\u001b[0;34m.\u001b[0m\u001b[0mpredict\u001b[0m\u001b[0;34m(\u001b[0m\u001b[0mval\u001b[0m\u001b[0;34m)\u001b[0m\u001b[0;34m\u001b[0m\u001b[0m\n\u001b[0m",
      "\u001b[0;31mNameError\u001b[0m: name 'm' is not defined"
     ]
    }
   ],
   "source": [
    "preds = m.predict(val)"
   ]
  },
  {
   "cell_type": "code",
   "execution_count": 285,
   "metadata": {},
   "outputs": [
    {
     "data": {
      "text/plain": [
       "(0.8439407662079724, 0.11804699118137751, 0.0804589756030738)"
      ]
     },
     "execution_count": 285,
     "metadata": {},
     "output_type": "execute_result"
    }
   ],
   "source": [
    "m.score(trn, y_trn), m.score(val, y_val), m.oob_score_"
   ]
  },
  {
   "cell_type": "code",
   "execution_count": 286,
   "metadata": {},
   "outputs": [
    {
     "data": {
      "text/plain": [
       "<matplotlib.collections.PathCollection at 0x7f1ce073d048>"
      ]
     },
     "execution_count": 286,
     "metadata": {},
     "output_type": "execute_result"
    },
    {
     "data": {
      "image/png": "[encoded data removed]",
      "text/plain": [
       "<Figure size 432x288 with 1 Axes>"
      ]
     },
     "metadata": {},
     "output_type": "display_data"
    }
   ],
   "source": [
    "plt.scatter(y_val,preds,c=list(val[:,7726]), marker='o')"
   ]
  },
  {
   "cell_type": "markdown",
   "metadata": {},
   "source": [
    "## NN1"
   ]
  },
  {
   "cell_type": "code",
   "execution_count": null,
   "metadata": {
    "collapsed": true
   },
   "outputs": [],
   "source": [
    "def NN_model()"
   ]
  },
  {
   "cell_type": "code",
   "execution_count": 85,
   "metadata": {
    "collapsed": true
   },
   "outputs": [],
   "source": [
    "def NN_Learner(meta,snp,tz_plink,ml=linear_model.LinearRegression(),regr=regr,pca=True):\n",
    "\n",
    "    tz_snp_index = [i for i,x in enumerate(tz_plink[0].snp) if x in snp]\n",
    "    tz_sample_index = [i for i,x in enumerate(tz_plink[1].iid) if x in list(meta.index)]\n",
    "    tz_sub=plink_slice(tz_plink,tz_snp_index,tz_sample_index)\n",
    "    \n",
    "    all_bim = tz_sub[0]\n",
    "    all_fam = tz_sub[1]\n",
    "    all_bed_T= pd.DataFrame(tz_sub[2].compute()).T\n",
    "    all_bed_T.fillna(-1,inplace=True)\n",
    "    all_bed_T.index = list(all_fam.iid)\n",
    "    all_bed_T.columns=list(all_bim.snp)\n",
    "    print(all_bim.shape,all_fam.shape,all_bed_T.shape)\n",
    "    \n",
    "    samp_size=len(meta)\n",
    "    train_ratio = 0.8\n",
    "    train_size = int(samp_size * train_ratio)\n",
    "    random.seed(1)\n",
    "    val_idx = random.sample(range(samp_size), samp_size-train_size)\n",
    "    print(samp_size,train_size)\n",
    "    \n",
    "    m=ml\n",
    "    X = all_bed_T\n",
    "    y = meta\n",
    "    mr = regr\n",
    "    \n",
    "    m = nn_model(m,X,y,val_idx,mr,pca=pca)\n",
    "    \n",
    "    return m"
   ]
  },
  {
   "cell_type": "code",
   "execution_count": 89,
   "metadata": {
    "collapsed": true
   },
   "outputs": [],
   "source": [
    "def nn_model(m,X,y,val_idx,mr,pca=True):\n",
    "    #pca\n",
    "    if pca:        \n",
    "        pca = PCA(.95)\n",
    "        X=pd.DataFrame(pca.fit_transform(X))\n",
    "        print(X.shape)\n",
    "    #data\n",
    "    X['gender']=pd.Series(list(y.gender),index=X.index)\n",
    "    X['nationality']=pd.Series(list(y.nationality),index=X.index)\n",
    "    #X=pd.concat([X, y[['gender','nationality']]], axis=1)\n",
    "    print(X.shape)\n",
    "    cat_vars = ['gender','nationality']\n",
    "    y = y.residual\n",
    "    md = ColumnarModelData.from_data_frame(PATH, val_idx, X, y.astype(np.float32), cat_flds=cat_vars, bs=64)\n",
    "    cat_sz = [('gender',3),('nationality',2)]\n",
    "    print(cat_sz)\n",
    "    emb_szs = [(c, min(50, (c+1)//2)) for _,c in cat_sz]\n",
    "    print(emb_szs)\n",
    "\n",
    "    y_range = (130,210)\n",
    "\n",
    "    m = md.get_learner(emb_szs, len(X.columns)-len(cat_vars),\n",
    "                       0, 1, [256,128,64], [0.5,0.3,0])\n",
    "    lr = 1e-3\n",
    "    m.lr_find()\n",
    "    m.sched.plot()\n",
    "    m.fit(lr, 3,metrics=[metrics.r2_score,metrics.mean_squared_error], cycle_len=10)\n",
    "    return m"
   ]
  },
  {
   "cell_type": "code",
   "execution_count": 91,
   "metadata": {},
   "outputs": [
    {
     "name": "stdout",
     "output_type": "stream",
     "text": [
      "(500, 7) (2747, 7) (2747, 500)\n",
      "2747 2197\n",
      "(2747, 502)\n",
      "[('gender', 3), ('nationality', 2)]\n",
      "[(3, 2), (2, 1)]\n"
     ]
    },
    {
     "data": {
      "application/vnd.jupyter.widget-view+json": {
       "model_id": "5b3c94208d114f1f9467ad21a84e5c3a",
       "version_major": 2,
       "version_minor": 0
      },
      "text/plain": [
       "HBox(children=(IntProgress(value=0, description='Epoch: ', max=1), HTML(value='')))"
      ]
     },
     "metadata": {},
     "output_type": "display_data"
    },
    {
     "name": "stdout",
     "output_type": "stream",
     "text": [
      " 49%|████▊     | 17/35 [00:00<00:00, 167.80it/s, loss=39.4]\n",
      "                                                           \r"
     ]
    },
    {
     "data": {
      "application/vnd.jupyter.widget-view+json": {
       "model_id": "e98eade77edc4ebd921c41cc8a6a1a86",
       "version_major": 2,
       "version_minor": 0
      },
      "text/plain": [
       "HBox(children=(IntProgress(value=0, description='Epoch: ', max=30), HTML(value='')))"
      ]
     },
     "metadata": {},
     "output_type": "display_data"
    },
    {
     "name": "stdout",
     "output_type": "stream",
     "text": [
      "epoch      trn_loss   val_loss   r2_score   mean_squared_error \n",
      "    0      38.028437  35.135227  -735.063737 35.135228 \n",
      "    1      33.71138   34.47172   -1565.72258 34.47172      \n",
      "    2      32.159708  33.690207  -871.400868 33.690208     \n",
      "    3      30.947124  32.703393  -284.170785 32.703393     \n",
      "    4      29.949424  31.386429  -80.745528 31.386429      \n",
      "    5      29.236139  29.796558  -37.720747 29.796559      \n",
      "    6      28.052936  27.927441  -15.866077 27.92744       \n",
      "    7      27.03096   27.278334  -12.102844 27.278334      \n",
      "    8      26.131695  26.904948  -10.335055 26.904948      \n",
      "    9      25.499191  26.894388  -10.233735 26.894389      \n",
      "    10     25.515028  26.544644  -7.021991  26.544643      \n",
      "    11     25.081487  23.920877  -4.066026  23.920877      \n",
      "    12     23.449426  24.228447  -4.866455  24.228446      \n",
      "    13     22.65313   22.989453  -3.305938  22.989453      \n",
      "    14     21.610464  21.75661   -1.915976  21.756611      \n",
      "    15     20.871992  21.604129  -1.355279  21.604128      \n",
      "    16     20.063571  21.197532  -1.47165   21.197532      \n",
      "    17     19.549356  20.872896  -1.103033  20.872896      \n",
      "    18     19.6408    20.953132  -1.190171  20.953131    \n",
      "    19     19.199839  20.948642  -1.173037  20.948643      \n",
      "    20     19.788023  21.358794  -1.732145  21.358793      \n",
      "    21     19.853285  24.172253  -1.833598  24.172253      \n",
      "    22     20.05121   21.553407  -2.036964  21.553407      \n",
      "    23     19.417191  20.95727   -1.309435  20.957271      \n",
      "    24     19.183753  20.855456  -1.322301  20.855457      \n",
      "    25     18.529879  20.796983  -1.362253  20.796984      \n",
      "    26     18.435443  20.302298  -0.941059  20.302298      \n",
      "    27     18.141054  20.221215  -0.856128  20.221215      \n",
      "    28     17.841649  20.157446  -0.880157  20.157447      \n",
      "    29     17.581302  20.12577   -0.850492  20.125769      \n",
      "\n"
     ]
    },
    {
     "data": {
      "image/png": "[encoded data removed]",
      "text/plain": [
       "<Figure size 432x288 with 1 Axes>"
      ]
     },
     "metadata": {},
     "output_type": "display_data"
    }
   ],
   "source": [
    "m=NN_Learner(tz_meta,snp_list[4]['tz_a'],tz_plink,pca=False)"
   ]
  },
  {
   "cell_type": "code",
   "execution_count": null,
   "metadata": {
    "collapsed": true
   },
   "outputs": [],
   "source": []
  },
  {
   "cell_type": "code",
   "execution_count": 1,
   "metadata": {},
   "outputs": [
    {
     "ename": "NameError",
     "evalue": "name 'X' is not defined",
     "output_type": "error",
     "traceback": [
      "\u001b[0;31m---------------------------------------------------------------------------\u001b[0m",
      "\u001b[0;31mNameError\u001b[0m                                 Traceback (most recent call last)",
      "\u001b[0;32m<ipython-input-1-771b17e9082d>\u001b[0m in \u001b[0;36m<module>\u001b[0;34m()\u001b[0m\n\u001b[1;32m      1\u001b[0m \u001b[0mcat_vars\u001b[0m \u001b[0;34m=\u001b[0m \u001b[0;34m[\u001b[0m\u001b[0;34m'gender'\u001b[0m\u001b[0;34m,\u001b[0m\u001b[0;34m'nationality'\u001b[0m\u001b[0;34m]\u001b[0m\u001b[0;34m\u001b[0m\u001b[0m\n\u001b[0;32m----> 2\u001b[0;31m \u001b[0mcontin_vars\u001b[0m \u001b[0;34m=\u001b[0m \u001b[0mX\u001b[0m\u001b[0;34m.\u001b[0m\u001b[0mcolumns\u001b[0m\u001b[0;34m[\u001b[0m\u001b[0;34m:\u001b[0m\u001b[0;34m-\u001b[0m\u001b[0;36m2\u001b[0m\u001b[0;34m]\u001b[0m\u001b[0;34m\u001b[0m\u001b[0m\n\u001b[0m",
      "\u001b[0;31mNameError\u001b[0m: name 'X' is not defined"
     ]
    }
   ],
   "source": [
    "cat_vars = ['gender','nationality']\n",
    "\n",
    "md = ColumnarModelData.from_data_frame(PATH, val_idx, X, y.astype(np.float32), cat_flds=cat_vars, bs=128)\n",
    "cat_sz = [('gender':3,'nationality':2)]\n",
    "print(cat_sz)\n",
    "emb_szs = [(c, min(50, (c+1)//2)) for _,c in cat_sz]\n",
    "print(emb_szs)\n",
    "\n",
    "y_range = (130,210)\n",
    "\n",
    "m = md.get_learner(emb_szs, len(X.columns)-len(cat_vars),\n",
    "                   0, 1, [128,64,16], [0,0.1,0.1])\n",
    "lr = 1e-3\n",
    "m.lr_find()\n",
    "m.sched.plot()\n",
    "m.fit(lr, 3, cycle_len=3)"
   ]
  },
  {
   "cell_type": "code",
   "execution_count": 198,
   "metadata": {
    "collapsed": true
   },
   "outputs": [],
   "source": [
    "#m = md.get_learner(emb_szs, len(X.columns)-len(cat_vars),\n",
    "#                   0, 1, [256,128,64], [0.3,0.5,0.3], y_range=y_range)"
   ]
  },
  {
   "cell_type": "code",
   "execution_count": 213,
   "metadata": {
    "collapsed": true
   },
   "outputs": [],
   "source": [
    "m = md.get_learner(emb_szs, len(X.columns)-len(cat_vars),\n",
    "                   0, 1, [128,64,16], [0,0.1,0.1])\n",
    "\n",
    "lr = 1e-3\n",
    "m.lr_find()\n",
    "m.sched.plot()\n",
    "m.fit(lr, 3, cycle_len=3)"
   ]
  },
  {
   "cell_type": "code",
   "execution_count": 230,
   "metadata": {
    "scrolled": true
   },
   "outputs": [
    {
     "data": {
      "application/vnd.jupyter.widget-view+json": {
       "model_id": "559df712f32d4ead92b25a7a230d10d5",
       "version_major": 2,
       "version_minor": 0
      },
      "text/plain": [
       "HBox(children=(IntProgress(value=0, description='Epoch: ', max=10), HTML(value='')))"
      ]
     },
     "metadata": {},
     "output_type": "display_data"
    },
    {
     "name": "stdout",
     "output_type": "stream",
     "text": [
      "epoch      trn_loss   val_loss                            \n",
      "    0      56.733091  62.744966 \n",
      "    1      49.164127  62.002885                            \n",
      "    2      44.179577  61.256397                          \n",
      "    3      42.012801  60.872404                            \n",
      "    4      39.967664  60.322566                          \n",
      "    5      43.533669  60.629964                            \n",
      "    6      42.154946  58.021469                          \n",
      "    7      41.29138   57.008608                          \n",
      "    8      40.034128  56.676835                          \n",
      "    9      40.916238  60.169139                            \n",
      "\n"
     ]
    },
    {
     "data": {
      "text/plain": [
       "[array([60.16914])]"
      ]
     },
     "execution_count": 230,
     "metadata": {},
     "output_type": "execute_result"
    }
   ],
   "source": [
    "m.fit(lr, 10, cycle_len=1)"
   ]
  },
  {
   "cell_type": "code",
   "execution_count": 983,
   "metadata": {
    "collapsed": true
   },
   "outputs": [],
   "source": [
    "m.save('nn_model1') #R2=0.355"
   ]
  },
  {
   "cell_type": "code",
   "execution_count": 984,
   "metadata": {},
   "outputs": [
    {
     "data": {
      "application/vnd.jupyter.widget-view+json": {
       "model_id": "18471436333b4d51b62bb3af5a7d97cc",
       "version_major": 2,
       "version_minor": 0
      },
      "text/plain": [
       "HBox(children=(IntProgress(value=0, description='Epoch: ', max=1), HTML(value='')))"
      ]
     },
     "metadata": {},
     "output_type": "display_data"
    },
    {
     "name": "stdout",
     "output_type": "stream",
     "text": [
      " 24%|██▍       | 12/50 [00:00<00:00, 119.82it/s, loss=43.2]"
     ]
    },
    {
     "name": "stderr",
     "output_type": "stream",
     "text": [
      "\n"
     ]
    },
    {
     "name": "stdout",
     "output_type": "stream",
     "text": [
      "epoch      trn_loss   val_loss                             \n",
      "    0      80.888028  151.194055\n",
      "\n"
     ]
    },
    {
     "data": {
      "image/png": "[encoded data removed]",
      "text/plain": [
       "<Figure size 432x288 with 1 Axes>"
      ]
     },
     "metadata": {},
     "output_type": "display_data"
    }
   ],
   "source": [
    "m.lr_find()\n",
    "m.sched.plot()"
   ]
  },
  {
   "cell_type": "code",
   "execution_count": 985,
   "metadata": {},
   "outputs": [
    {
     "data": {
      "application/vnd.jupyter.widget-view+json": {
       "model_id": "fbf6ef6860254eae83fa9c4f34af346b",
       "version_major": 2,
       "version_minor": 0
      },
      "text/plain": [
       "HBox(children=(IntProgress(value=0, description='Epoch: ', max=3), HTML(value='')))"
      ]
     },
     "metadata": {},
     "output_type": "display_data"
    },
    {
     "name": "stdout",
     "output_type": "stream",
     "text": [
      "epoch      trn_loss   val_loss                             \n",
      "    0      50.995664  42.544632 \n",
      "    1      43.480691  41.338056                            \n",
      "    2      42.126355  41.464497                            \n",
      "\n"
     ]
    },
    {
     "data": {
      "text/plain": [
       "[array([41.4645])]"
      ]
     },
     "execution_count": 985,
     "metadata": {},
     "output_type": "execute_result"
    }
   ],
   "source": [
    "m.fit(0.01, 3, cycle_len=1)"
   ]
  },
  {
   "cell_type": "code",
   "execution_count": 1026,
   "metadata": {},
   "outputs": [
    {
     "data": {
      "application/vnd.jupyter.widget-view+json": {
       "model_id": "3564f595b0a94b869b0f9f8152ca1d35",
       "version_major": 2,
       "version_minor": 0
      },
      "text/plain": [
       "HBox(children=(IntProgress(value=0, description='Epoch: ', max=10), HTML(value='')))"
      ]
     },
     "metadata": {},
     "output_type": "display_data"
    },
    {
     "name": "stdout",
     "output_type": "stream",
     "text": [
      "epoch      trn_loss   val_loss                            \n",
      "    0      57.78584   49.578513 \n",
      "    1      53.775634  46.085355                            \n",
      "    2      51.614049  43.825487                            \n",
      "    3      50.302809  40.732563                            \n",
      "    4      49.565065  43.737697                           \n",
      "    5      47.954103  40.983987                            \n",
      "    6      47.264173  38.763312                          \n",
      "    7      46.305101  38.572067                            \n",
      "    8      45.49319   38.968085                            \n",
      "    9      46.022123  39.092998                            \n",
      "\n"
     ]
    },
    {
     "data": {
      "text/plain": [
       "[array([39.093])]"
      ]
     },
     "execution_count": 1026,
     "metadata": {},
     "output_type": "execute_result"
    }
   ],
   "source": [
    "m.fit(lr, 10, cycle_len=1)"
   ]
  },
  {
   "cell_type": "code",
   "execution_count": 987,
   "metadata": {
    "collapsed": true
   },
   "outputs": [],
   "source": [
    "m.save('nn_model2') #R2=0.436"
   ]
  },
  {
   "cell_type": "code",
   "execution_count": 9,
   "metadata": {},
   "outputs": [
    {
     "ename": "NameError",
     "evalue": "name 'm' is not defined",
     "output_type": "error",
     "traceback": [
      "\u001b[0;31m---------------------------------------------------------------------------\u001b[0m",
      "\u001b[0;31mNameError\u001b[0m                                 Traceback (most recent call last)",
      "\u001b[0;32m<ipython-input-9-54a0629e61d8>\u001b[0m in \u001b[0;36m<module>\u001b[0;34m()\u001b[0m\n\u001b[0;32m----> 1\u001b[0;31m \u001b[0mm\u001b[0m\u001b[0;34m.\u001b[0m\u001b[0mload\u001b[0m\u001b[0;34m(\u001b[0m\u001b[0;34m'nn_model2'\u001b[0m\u001b[0;34m)\u001b[0m\u001b[0;34m\u001b[0m\u001b[0m\n\u001b[0m",
      "\u001b[0;31mNameError\u001b[0m: name 'm' is not defined"
     ]
    }
   ],
   "source": [
    "m.load('nn_model2')"
   ]
  },
  {
   "cell_type": "code",
   "execution_count": 231,
   "metadata": {},
   "outputs": [
    {
     "name": "stdout",
     "output_type": "stream",
     "text": [
      "\u001b[1m\u001b[36mCrowdAI.Event.Authentication\u001b[0m : Authenticating for challenge = \u001b[4m\u001b[1m\u001b[34mOpenSNPChallenge2017\u001b[0m\n",
      "\u001b[1m\u001b[32mCrowdAI.Event.Connection.CONNECTED\u001b[0m\u001b[1m\u001b[32m\u001b[0m\n"
     ]
    },
    {
     "name": "stderr",
     "output_type": "stream",
     "text": [
      "\r",
      "  0% |          |[00:00<?]  ?% /s] "
     ]
    },
    {
     "name": "stdout",
     "output_type": "stream",
     "text": [
      "\u001b[1m\u001b[32mCrowdAI.Event.Authentication.SUCCESS\u001b[0m : \u001b[1m\u001b[32mAuthentication Successful\u001b[0m\n"
     ]
    },
    {
     "name": "stderr",
     "output_type": "stream",
     "text": [
      "\r",
      "          \r",
      "\r",
      "          \r",
      "  0% |          |[00:00<?]  ?% /s] "
     ]
    },
    {
     "name": "stdout",
     "output_type": "stream",
     "text": [
      "\u001b[1m\u001b[33mCrowdAI.Event.Job.ENQUEUED\u001b[0m : adf40834-afd7-4b4d-bb1d-a0116c14b777\n"
     ]
    },
    {
     "name": "stderr",
     "output_type": "stream",
     "text": [
      "\r",
      "          \r",
      "\r",
      "          \r",
      "  0% |          |[00:00<?]  ?% /s] "
     ]
    },
    {
     "name": "stdout",
     "output_type": "stream",
     "text": [
      "\u001b[1m\u001b[34mCrowdAI.Event.Job.RUNNING\u001b[0m : adf40834-afd7-4b4d-bb1d-a0116c14b777\n"
     ]
    },
    {
     "name": "stderr",
     "output_type": "stream",
     "text": [
      "100% |██████████|[00:00<00:00]  109.49% /s] \n"
     ]
    },
    {
     "name": "stdout",
     "output_type": "stream",
     "text": [
      "\u001b[1m\u001b[36mCrowdAI.Event.Job.INFO\u001b[0m : (adf40834-afd7-4b4d-bb1d-a0116c14b777) Scores Submitted Successfully ! Coefficient of Determination(R^2) : 0.073840333075 ; MSE : 94.1487447856\n",
      "\u001b[1m\u001b[32mCrowdAI.Event.Job.COMPLETE\u001b[0m : \u001b[1m\u001b[32madf40834-afd7-4b4d-bb1d-a0116c14b777\u001b[0m\t   🍺 \n"
     ]
    }
   ],
   "source": [
    "# Predict the heights for the test set\n",
    "heights = m.predict(True)\n",
    "heights=heights.reshape(137)\n",
    "heights = heights.tolist()\n",
    "challenge = crowdai.Challenge(\"OpenSNPChallenge2017\", \"02f5a9824254b85a068fbdfbb1298b8e\")\n",
    "challenge.submit(heights)\n",
    "challenge.disconnect()"
   ]
  },
  {
   "cell_type": "markdown",
   "metadata": {},
   "source": [
    "## NN2"
   ]
  },
  {
   "cell_type": "code",
   "execution_count": null,
   "metadata": {
    "collapsed": true
   },
   "outputs": [],
   "source": []
  },
  {
   "cell_type": "code",
   "execution_count": 972,
   "metadata": {
    "collapsed": true
   },
   "outputs": [],
   "source": [
    "def inv_y(a): return np.exp(a)\n",
    "\n",
    "def exp_rmspe(y_pred, targ):\n",
    "    targ = inv_y(targ)\n",
    "    pct_var = (targ - inv_y(y_pred))/targ\n",
    "    return math.sqrt((pct_var**2).mean())\n",
    "\n",
    "max_log_y = np.max(y)\n",
    "y_range = (140,200)"
   ]
  },
  {
   "cell_type": "code",
   "execution_count": null,
   "metadata": {
    "collapsed": true
   },
   "outputs": [],
   "source": []
  },
  {
   "cell_type": "code",
   "execution_count": 317,
   "metadata": {
    "collapsed": true
   },
   "outputs": [],
   "source": [
    "maf=pd.read_csv('../predict_height/lib/maf.csv',index_col=0)"
   ]
  },
  {
   "cell_type": "code",
   "execution_count": 321,
   "metadata": {},
   "outputs": [
    {
     "data": {
      "text/plain": [
       "628"
      ]
     },
     "execution_count": 321,
     "metadata": {},
     "output_type": "execute_result"
    }
   ],
   "source": [
    "sum([x in maf.index for x in all_bim.snp])"
   ]
  },
  {
   "cell_type": "code",
   "execution_count": 792,
   "metadata": {
    "collapsed": true
   },
   "outputs": [],
   "source": [
    "# Instantiate a linear model\n",
    "x_train=X\n",
    "y_train=y\n",
    "x_test=df_test\n",
    "regr = linear_model.LinearRegression()\n",
    "regr.fit(x_train, y_train)\n",
    "\n",
    "# Predict the heights for the test set\n",
    "heights = regr.predict(x_test)"
   ]
  },
  {
   "cell_type": "code",
   "execution_count": 793,
   "metadata": {},
   "outputs": [
    {
     "name": "stdout",
     "output_type": "stream",
     "text": [
      "\u001b[1m\u001b[36mCrowdAI.Event.Authentication\u001b[0m : Authenticating for challenge = \u001b[4m\u001b[1m\u001b[34mOpenSNPChallenge2017\u001b[0m\n",
      "\u001b[1m\u001b[32mCrowdAI.Event.Connection.CONNECTED\u001b[0m\u001b[1m\u001b[32m\u001b[0m\n"
     ]
    },
    {
     "name": "stderr",
     "output_type": "stream",
     "text": [
      "\n",
      "\r",
      "  0% |          |[00:00<?]  ?% /s] "
     ]
    },
    {
     "name": "stdout",
     "output_type": "stream",
     "text": [
      "\u001b[1m\u001b[32mCrowdAI.Event.Authentication.SUCCESS\u001b[0m : \u001b[1m\u001b[32mAuthentication Successful\u001b[0m\n"
     ]
    },
    {
     "name": "stderr",
     "output_type": "stream",
     "text": [
      "\u001b[A\n",
      "          \n",
      "  0% |          |[16:49<?]  ?% /s] \u001b[A"
     ]
    },
    {
     "name": "stdout",
     "output_type": "stream",
     "text": [
      "\u001b[1m\u001b[33mCrowdAI.Event.Job.ENQUEUED\u001b[0m : bc1ef311-9598-4a6c-a9a2-cce75662d779\n"
     ]
    },
    {
     "name": "stderr",
     "output_type": "stream",
     "text": [
      "\n",
      "\r",
      "          \r",
      "\u001b[A\r",
      "          \r\n",
      "\r",
      "          \r",
      "  0% |          |[00:00<?]  ?% /s] \u001b[A\r",
      "          \r",
      "  0% |          |[16:49<?]  ?% /s] "
     ]
    },
    {
     "name": "stdout",
     "output_type": "stream",
     "text": [
      "\u001b[1m\u001b[34mCrowdAI.Event.Job.RUNNING\u001b[0m : bc1ef311-9598-4a6c-a9a2-cce75662d779\n"
     ]
    },
    {
     "name": "stderr",
     "output_type": "stream",
     "text": [
      "\n",
      "          \n",
      "  0% |          |[16:49<?]  ?% /s] \u001b[A\n",
      "100% |██████████|[00:00<00:00]  102.69% /s] \u001b[A\n",
      "          \n",
      "  0% |          |[16:49<?]  ?% /s] .69% /s] \u001b[A\n",
      "\u001b[A"
     ]
    },
    {
     "name": "stdout",
     "output_type": "stream",
     "text": [
      "\u001b[1m\u001b[36mCrowdAI.Event.Job.INFO\u001b[0m : (bc1ef311-9598-4a6c-a9a2-cce75662d779) Scores Submitted Successfully ! Coefficient of Determination(R^2) : -0.0365818509984 ; MSE : 105.373709981\n",
      "\u001b[1m\u001b[32mCrowdAI.Event.Job.COMPLETE\u001b[0m : \u001b[1m\u001b[32mbc1ef311-9598-4a6c-a9a2-cce75662d779\u001b[0m\t   🍺 \n"
     ]
    }
   ],
   "source": [
    "#Convert heights from np.array to a list (to ensure it is JSON serializable)\n",
    "challenge = crowdai.Challenge(\"OpenSNPChallenge2017\", \"02f5a9824254b85a068fbdfbb1298b8e\")\n",
    "\n",
    "heights = heights.tolist()\n",
    "challenge.submit(heights)\n",
    "challenge.disconnect()"
   ]
  },
  {
   "cell_type": "code",
   "execution_count": null,
   "metadata": {
    "collapsed": true
   },
   "outputs": [],
   "source": [
    "import preprocess\n",
    "import argparse\n",
    "import models\n",
    "\n",
    "\n",
    "def init_args():\n",
    "    parser = argparse.ArgumentParser(description='Train and save models')\n",
    "    parser.add_argument('train_datesets', help='Input csv file for training output from parse_inputs.py')\n",
    "    parser.add_argument('-m', '--model', help='Train model, comma to separate', default='gbr')\n",
    "    parser.add_argument('-d', '--model-dir', help='Model directory', default='models')\n",
    "    parser.add_argument('-l', '--list-models', help='List available models', action='store_true')\n",
    "    args = parser.parse_args()\n",
    "    return args\n",
    "\n",
    "\n",
    "def main():\n",
    "    args = init_args()\n",
    "    if args.list_models:\n",
    "        print('\\n'.join(models.get_model_names()))\n",
    "        exit()\n",
    "    m = args.model.split(',')\n",
    "    dict_m = models.get_models(m)\n",
    "    x, y = preprocess.load_data(args.train_datesets)\n",
    "    for model_name in dict_m:\n",
    "        model = dict_m[model_name]\n",
    "        print('Training model %s' % model_name)\n",
    "        model.fit(x, y)\n",
    "        models.save_model(model, model_name, args.model_dir)\n",
    "        print('Train finished, save to %s' % args.model_dir)\n",
    "\n"
   ]
  }
 ],
 "metadata": {
  "kernelspec": {
   "display_name": "Python 3",
   "language": "python",
   "name": "python3"
  },
  "language_info": {
   "codemirror_mode": {
    "name": "ipython",
    "version": 3
   },
   "file_extension": ".py",
   "mimetype": "text/x-python",
   "name": "python",
   "nbconvert_exporter": "python",
   "pygments_lexer": "ipython3",
   "version": "3.6.7"
  }
 },
 "nbformat": 4,
 "nbformat_minor": 2
}
