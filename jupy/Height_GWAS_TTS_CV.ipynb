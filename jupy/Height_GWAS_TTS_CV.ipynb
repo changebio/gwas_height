{
 "cells": [
  {
   "cell_type": "markdown",
   "metadata": {},
   "source": [
    "# Height GWAS Separate train and test"
   ]
  },
  {
   "cell_type": "markdown",
   "metadata": {},
   "source": [
    "This is GWAS analysis for tz2014 data to find snps associate with height"
   ]
  },
  {
   "cell_type": "markdown",
   "metadata": {},
   "source": [
    "## 1. Import"
   ]
  },
  {
   "cell_type": "code",
   "execution_count": 1,
   "metadata": {},
   "outputs": [],
   "source": [
    "import parse_inputs\n",
    "\n",
    "from pathlib import Path\n",
    "\n",
    "import numpy as np\n",
    "import pandas as pd\n",
    "from pandas_plink import read_plink\n",
    "\n",
    "from sklearn import linear_model\n",
    "from sklearn.svm import SVR\n",
    "from scipy import stats\n",
    "\n",
    "import matplotlib.pyplot as plt\n",
    "\n",
    "#from ggplot import *\n",
    "PATH=Path('ddat/crowdAI/')\n",
    "TMP_PATH = PATH/'tmp'\n",
    "TMP_PATH.mkdir(exist_ok=True)"
   ]
  },
  {
   "cell_type": "code",
   "execution_count": 2,
   "metadata": {},
   "outputs": [],
   "source": [
    "from sklearn.ensemble import RandomForestRegressor"
   ]
  },
  {
   "cell_type": "code",
   "execution_count": 3,
   "metadata": {},
   "outputs": [],
   "source": [
    "from fastai.structured import *\n",
    "from fastai.column_data import *\n",
    "np.set_printoptions(threshold=50, edgeitems=20)\n",
    "from sklearn import linear_model\n",
    "import random"
   ]
  },
  {
   "cell_type": "markdown",
   "metadata": {},
   "source": [
    "## 2. Load Data"
   ]
  },
  {
   "cell_type": "code",
   "execution_count": 4,
   "metadata": {},
   "outputs": [
    {
     "name": "stderr",
     "output_type": "stream",
     "text": [
      "Mapping files: 100%|██████████| 3/3 [00:02<00:00,  1.27s/it]\n"
     ]
    }
   ],
   "source": [
    "(tz_bim,tz_fam,tz_bed) = read_plink('ddat/crowdAI/all2964/bin_final_strand')"
   ]
  },
  {
   "cell_type": "code",
   "execution_count": 5,
   "metadata": {},
   "outputs": [],
   "source": [
    "tz_maf =  pd.read_csv(PATH/'TZ14_one.frq',delim_whitespace=True)"
   ]
  },
  {
   "cell_type": "code",
   "execution_count": 6,
   "metadata": {},
   "outputs": [],
   "source": [
    "all_meta = pd.read_csv(TMP_PATH/'tz_and_os_meta.csv',index_col=0)"
   ]
  },
  {
   "cell_type": "markdown",
   "metadata": {},
   "source": [
    "## 3. Clean Data"
   ]
  },
  {
   "cell_type": "code",
   "execution_count": 7,
   "metadata": {},
   "outputs": [],
   "source": [
    "def select_snp(arr):\n",
    "    if arr[0]==0 or arr[0]==26:\n",
    "        return 0\n",
    "    elif arr[4]<0.05 or arr[4]>0.95:\n",
    "        return 0\n",
    "    elif arr[2]=='A' and arr[3]=='T':\n",
    "        return 0\n",
    "    elif arr[2]=='T' and arr[3]=='A':\n",
    "        return 0\n",
    "    elif arr[2]=='G' and arr[3]=='C':\n",
    "        return 0\n",
    "    elif arr[2]=='C' and arr[3]=='G':\n",
    "        return 0\n",
    "    else:\n",
    "        return 1"
   ]
  },
  {
   "cell_type": "code",
   "execution_count": 8,
   "metadata": {},
   "outputs": [],
   "source": [
    "def plink_slice(p,pb=None,pf=None):\n",
    "    \"\"\"\n",
    "    p: list of bim, fam, bed\n",
    "    pb: index of bim\n",
    "    pf: index of fam\n",
    "    \"\"\"\n",
    "    (bim,fam,bed)=p\n",
    "    if pb:\n",
    "        bim = bim.iloc[pb]\n",
    "        bed = bed[pb,:]\n",
    "    if pf:\n",
    "        fam = fam.iloc[pf]\n",
    "        bed = bed[:,pf]\n",
    "    return(bim,fam,bed)"
   ]
  },
  {
   "cell_type": "code",
   "execution_count": 9,
   "metadata": {},
   "outputs": [],
   "source": [
    "tz_maf_filter = tz_maf.apply(select_snp, axis=1)\n",
    "tz_maf_new=tz_maf.loc[tz_maf_filter==1,]"
   ]
  },
  {
   "cell_type": "code",
   "execution_count": 10,
   "metadata": {},
   "outputs": [],
   "source": [
    "tz_sample_index = [i for i,x in enumerate(tz_fam.iid) if x in list(all_meta.ChipID)]\n",
    "tz_sub=plink_slice((tz_bim,tz_fam,tz_bed),list(tz_maf_new.index),tz_sample_index)"
   ]
  },
  {
   "cell_type": "markdown",
   "metadata": {},
   "source": [
    "## 4. GWAS Model"
   ]
  },
  {
   "cell_type": "markdown",
   "metadata": {},
   "source": [
    "### 4.1 Linear GWAS"
   ]
  },
  {
   "cell_type": "code",
   "execution_count": 11,
   "metadata": {},
   "outputs": [],
   "source": [
    "tz_meta=all_meta.loc[tz_sub[1].iid,]"
   ]
  },
  {
   "cell_type": "code",
   "execution_count": 22,
   "metadata": {},
   "outputs": [],
   "source": [
    "val_idx = pd.read_csv('TTS_Model/gwas_val_idx.csv',index_col=0,header=None)\n",
    "val_idx = list(val_idx.iloc[:,0])"
   ]
  },
  {
   "cell_type": "code",
   "execution_count": 26,
   "metadata": {},
   "outputs": [],
   "source": [
    "tz_snps=tz_sub[2].compute()\n",
    "tz_snps = pd.DataFrame(tz_snps)\n",
    "tz_snps.fillna(-1,inplace=True)"
   ]
  },
  {
   "cell_type": "code",
   "execution_count": 27,
   "metadata": {},
   "outputs": [],
   "source": [
    "((val,trn), (y_val,y_trn)) = split_by_idx(val_idx, tz_snps.T, tz_meta)"
   ]
  },
  {
   "cell_type": "code",
   "execution_count": 28,
   "metadata": {},
   "outputs": [
    {
     "data": {
      "text/plain": [
       "((550, 684066), (2197, 684066), (550, 8), (2197, 8))"
      ]
     },
     "execution_count": 28,
     "metadata": {},
     "output_type": "execute_result"
    }
   ],
   "source": [
    "val.shape,trn.shape,y_val.shape,y_trn.shape"
   ]
  },
  {
   "cell_type": "code",
   "execution_count": 29,
   "metadata": {},
   "outputs": [
    {
     "data": {
      "text/plain": [
       "208"
      ]
     },
     "execution_count": 29,
     "metadata": {},
     "output_type": "execute_result"
    }
   ],
   "source": [
    "sum(y_val.gender==1)"
   ]
  },
  {
   "cell_type": "code",
   "execution_count": 155,
   "metadata": {},
   "outputs": [],
   "source": [
    "from snp2h import *"
   ]
  },
  {
   "cell_type": "code",
   "execution_count": 255,
   "metadata": {},
   "outputs": [
    {
     "data": {
      "text/plain": [
       "['rs710841',\n",
       " 'rs1712374',\n",
       " 'rs710839',\n",
       " 'rs7624084',\n",
       " 'rs16932725',\n",
       " 'rs1901568',\n",
       " 'kgp5403113',\n",
       " 'rs6535239',\n",
       " 'rs724016']"
      ]
     },
     "execution_count": 255,
     "metadata": {},
     "output_type": "execute_result"
    }
   ],
   "source": [
    "list(tmpr_rs_c.index[tmpr_rs_c>=10])"
   ]
  },
  {
   "cell_type": "code",
   "execution_count": 382,
   "metadata": {},
   "outputs": [],
   "source": [
    "tmpr_rs_c_pos=[boo2idx(tz_sub[0].snp==rs)[0] for rs in list(tmpr_rs_c.index[tmpr_rs_c>=10])]"
   ]
  },
  {
   "cell_type": "code",
   "execution_count": 383,
   "metadata": {},
   "outputs": [],
   "source": [
    "tz_sub_c = plink_slice(tz_sub,tmpr_rs_c_pos)"
   ]
  },
  {
   "cell_type": "code",
   "execution_count": 384,
   "metadata": {},
   "outputs": [],
   "source": [
    "tz_sub_c_g=pd.DataFrame(tz_sub_c[2].compute().T)"
   ]
  },
  {
   "cell_type": "code",
   "execution_count": 385,
   "metadata": {},
   "outputs": [],
   "source": [
    "tz_sub_c_g.columns=list(tmpr_rs_c.index[tmpr_rs_c>=10])"
   ]
  },
  {
   "cell_type": "code",
   "execution_count": 386,
   "metadata": {},
   "outputs": [],
   "source": [
    "corr=tz_sub_c_g.corr()\n",
    "m = ~(corr.mask(np.eye(len(corr), dtype=bool)).abs() > 0.75).any()\n",
    "\n",
    "raw = corr.loc[m, m]"
   ]
  },
  {
   "cell_type": "code",
   "execution_count": 387,
   "metadata": {},
   "outputs": [
    {
     "data": {
      "text/html": [
       "<div>\n",
       "<style scoped>\n",
       "    .dataframe tbody tr th:only-of-type {\n",
       "        vertical-align: middle;\n",
       "    }\n",
       "\n",
       "    .dataframe tbody tr th {\n",
       "        vertical-align: top;\n",
       "    }\n",
       "\n",
       "    .dataframe thead th {\n",
       "        text-align: right;\n",
       "    }\n",
       "</style>\n",
       "<table border=\"1\" class=\"dataframe\">\n",
       "  <thead>\n",
       "    <tr style=\"text-align: right;\">\n",
       "      <th></th>\n",
       "      <th>rs16932725</th>\n",
       "      <th>kgp5403113</th>\n",
       "    </tr>\n",
       "  </thead>\n",
       "  <tbody>\n",
       "    <tr>\n",
       "      <th>0</th>\n",
       "      <td>2.0</td>\n",
       "      <td>1.0</td>\n",
       "    </tr>\n",
       "    <tr>\n",
       "      <th>1</th>\n",
       "      <td>1.0</td>\n",
       "      <td>1.0</td>\n",
       "    </tr>\n",
       "    <tr>\n",
       "      <th>2</th>\n",
       "      <td>2.0</td>\n",
       "      <td>0.0</td>\n",
       "    </tr>\n",
       "    <tr>\n",
       "      <th>3</th>\n",
       "      <td>1.0</td>\n",
       "      <td>2.0</td>\n",
       "    </tr>\n",
       "    <tr>\n",
       "      <th>4</th>\n",
       "      <td>0.0</td>\n",
       "      <td>2.0</td>\n",
       "    </tr>\n",
       "  </tbody>\n",
       "</table>\n",
       "</div>"
      ],
      "text/plain": [
       "   rs16932725  kgp5403113\n",
       "0         2.0         1.0\n",
       "1         1.0         1.0\n",
       "2         2.0         0.0\n",
       "3         1.0         2.0\n",
       "4         0.0         2.0"
      ]
     },
     "execution_count": 387,
     "metadata": {},
     "output_type": "execute_result"
    }
   ],
   "source": [
    "tz_sub_c_g.loc[:,m].head()"
   ]
  },
  {
   "cell_type": "code",
   "execution_count": 388,
   "metadata": {},
   "outputs": [
    {
     "data": {
      "text/html": [
       "<div>\n",
       "<style scoped>\n",
       "    .dataframe tbody tr th:only-of-type {\n",
       "        vertical-align: middle;\n",
       "    }\n",
       "\n",
       "    .dataframe tbody tr th {\n",
       "        vertical-align: top;\n",
       "    }\n",
       "\n",
       "    .dataframe thead th {\n",
       "        text-align: right;\n",
       "    }\n",
       "</style>\n",
       "<table border=\"1\" class=\"dataframe\">\n",
       "  <thead>\n",
       "    <tr style=\"text-align: right;\">\n",
       "      <th></th>\n",
       "      <th>rs16932725</th>\n",
       "      <th>kgp5403113</th>\n",
       "    </tr>\n",
       "  </thead>\n",
       "  <tbody>\n",
       "    <tr>\n",
       "      <th>rs16932725</th>\n",
       "      <td>1.000000</td>\n",
       "      <td>0.030876</td>\n",
       "    </tr>\n",
       "    <tr>\n",
       "      <th>kgp5403113</th>\n",
       "      <td>0.030876</td>\n",
       "      <td>1.000000</td>\n",
       "    </tr>\n",
       "  </tbody>\n",
       "</table>\n",
       "</div>"
      ],
      "text/plain": [
       "            rs16932725  kgp5403113\n",
       "rs16932725    1.000000    0.030876\n",
       "kgp5403113    0.030876    1.000000"
      ]
     },
     "execution_count": 388,
     "metadata": {},
     "output_type": "execute_result"
    }
   ],
   "source": [
    "raw"
   ]
  },
  {
   "cell_type": "code",
   "execution_count": 223,
   "metadata": {},
   "outputs": [],
   "source": [
    "from sklearn.decomposition import PCA"
   ]
  },
  {
   "cell_type": "code",
   "execution_count": 389,
   "metadata": {},
   "outputs": [],
   "source": [
    "tz_sub_c_g.fillna(1,inplace=True)\n",
    "#pca = PCA(.99)\n",
    "#X=pd.DataFrame(pca.fit_transform(tz_sub_c_g.iloc[:,0:10]))\n",
    "X=tz_sub_c_g.loc[:,m]"
   ]
  },
  {
   "cell_type": "code",
   "execution_count": 332,
   "metadata": {},
   "outputs": [
    {
     "data": {
      "text/plain": [
       "((2747, 22), (2747, 61))"
      ]
     },
     "execution_count": 332,
     "metadata": {},
     "output_type": "execute_result"
    }
   ],
   "source": [
    "X.shape,tz_sub_c_g.shape"
   ]
  },
  {
   "cell_type": "code",
   "execution_count": 427,
   "metadata": {},
   "outputs": [],
   "source": [
    "X = tz_sub_c_g.iloc[:,[0,3,4,6]]"
   ]
  },
  {
   "cell_type": "code",
   "execution_count": 263,
   "metadata": {},
   "outputs": [],
   "source": [
    "from sklearn.ensemble import RandomForestRegressor"
   ]
  },
  {
   "cell_type": "code",
   "execution_count": 442,
   "metadata": {},
   "outputs": [],
   "source": [
    "set_rf_samples(2000)"
   ]
  },
  {
   "cell_type": "code",
   "execution_count": 443,
   "metadata": {},
   "outputs": [
    {
     "data": {
      "text/plain": [
       "RandomForestRegressor(bootstrap=True, criterion='mse', max_depth=None,\n",
       "           max_features='auto', max_leaf_nodes=None,\n",
       "           min_impurity_split=1e-07, min_samples_leaf=5,\n",
       "           min_samples_split=2, min_weight_fraction_leaf=0.0,\n",
       "           n_estimators=30, n_jobs=-1, oob_score=True, random_state=None,\n",
       "           verbose=0, warm_start=False)"
      ]
     },
     "execution_count": 443,
     "metadata": {},
     "output_type": "execute_result"
    }
   ],
   "source": [
    "#for i in list([[0],[3],[4],[6],[0,3],[0,4],[0,6],[3,4],[3,6],[4,6],[0,3,4],[0,4,6],[3,4,6]]):\n",
    "#    print(i)\n",
    "((val,trn), (y_val,y_trn)) = split_by_idx(val_idx, X, tz_meta)\n",
    "\n",
    "val.shape,trn.shape,y_val.shape,y_trn.shape\n",
    "\n",
    "#trn['gender']=list(y_trn.gender)\n",
    "\n",
    "trn.fillna(1,inplace=True)\n",
    "\n",
    "#val['gender']=list(y_val.gender)\n",
    "val.fillna(1,inplace=True)\n",
    "\n",
    "#m = linear_model.LinearRegression()\n",
    "    #y= tz_meta.height - regr.predict(tz_meta[['gender','nationality']])  \n",
    "m=RandomForestRegressor(n_estimators=30, min_samples_leaf=5, n_jobs=-1, oob_score=True)\n",
    "m.fit(trn.values,np.array(y_residual))"
   ]
  },
  {
   "cell_type": "code",
   "execution_count": 444,
   "metadata": {},
   "outputs": [
    {
     "name": "stdout",
     "output_type": "stream",
     "text": [
      "0.06846950431188792 35.23979304706898\n",
      "0.0011558680036155566 38.098684733498764\n"
     ]
    },
    {
     "data": {
      "text/plain": [
       "<matplotlib.collections.PathCollection at 0x7f20d21b2f98>"
      ]
     },
     "execution_count": 444,
     "metadata": {},
     "output_type": "execute_result"
    },
    {
     "data": {
      "image/png": "[encoded data removed]",
      "text/plain": [
       "<Figure size 432x288 with 1 Axes>"
      ]
     },
     "metadata": {},
     "output_type": "display_data"
    }
   ],
   "source": [
    "y=y_residual[list(y_trn.gender==1)]\n",
    "y_pred = model_pred(m,[trn.iloc[list(y_trn.gender==1),:]])[0]\n",
    "print(metrics.r2_score(y,y_pred),metrics.mean_squared_error(y,y_pred))\n",
    "plt.scatter(y,y_pred,marker='o')\n",
    "\n",
    "y=y_rtest[list(y_val.gender==1)]\n",
    "y_pred = model_pred(m,[val.iloc[list(y_val.gender==1),:]])[0]\n",
    "print(metrics.r2_score(y,y_pred),metrics.mean_squared_error(y,y_pred))\n",
    "plt.scatter(y,y_pred,marker='o')"
   ]
  },
  {
   "cell_type": "code",
   "execution_count": 445,
   "metadata": {},
   "outputs": [
    {
     "name": "stdout",
     "output_type": "stream",
     "text": [
      "0.06033264203348254 25.71971959141726\n",
      "-0.011266568386051334 31.09103766575524\n"
     ]
    },
    {
     "data": {
      "text/plain": [
       "<matplotlib.collections.PathCollection at 0x7f20d2d71470>"
      ]
     },
     "execution_count": 445,
     "metadata": {},
     "output_type": "execute_result"
    },
    {
     "data": {
      "image/png": "[encoded data removed]",
      "text/plain": [
       "<Figure size 432x288 with 1 Axes>"
      ]
     },
     "metadata": {},
     "output_type": "display_data"
    }
   ],
   "source": [
    "y=y_residual[list(y_trn.gender==2)]\n",
    "y_pred = model_pred(m,[trn.iloc[list(y_trn.gender==2),:]])[0]\n",
    "print(metrics.r2_score(y,y_pred),metrics.mean_squared_error(y,y_pred))\n",
    "plt.scatter(y,y_pred,marker='o')\n",
    "\n",
    "y=y_rtest[list(y_val.gender==2)]\n",
    "y_pred = model_pred(m,[val.iloc[list(y_val.gender==2),:]])[0]\n",
    "print(metrics.r2_score(y,y_pred),metrics.mean_squared_error(y,y_pred))\n",
    "plt.scatter(y,y_pred,marker='o')"
   ]
  },
  {
   "cell_type": "code",
   "execution_count": 421,
   "metadata": {},
   "outputs": [],
   "source": [
    "from models import save_model"
   ]
  },
  {
   "cell_type": "code",
   "execution_count": 422,
   "metadata": {},
   "outputs": [],
   "source": [
    "save_model(m,'best_rf',out_dir='TTS_Model/')"
   ]
  },
  {
   "cell_type": "code",
   "execution_count": 423,
   "metadata": {},
   "outputs": [
    {
     "data": {
      "text/html": [
       "<div>\n",
       "<style scoped>\n",
       "    .dataframe tbody tr th:only-of-type {\n",
       "        vertical-align: middle;\n",
       "    }\n",
       "\n",
       "    .dataframe tbody tr th {\n",
       "        vertical-align: top;\n",
       "    }\n",
       "\n",
       "    .dataframe thead th {\n",
       "        text-align: right;\n",
       "    }\n",
       "</style>\n",
       "<table border=\"1\" class=\"dataframe\">\n",
       "  <thead>\n",
       "    <tr style=\"text-align: right;\">\n",
       "      <th></th>\n",
       "      <th>cols</th>\n",
       "      <th>imp</th>\n",
       "    </tr>\n",
       "  </thead>\n",
       "  <tbody>\n",
       "    <tr>\n",
       "      <th>6</th>\n",
       "      <td>kgp5403113</td>\n",
       "      <td>0.246135</td>\n",
       "    </tr>\n",
       "    <tr>\n",
       "      <th>4</th>\n",
       "      <td>rs16932725</td>\n",
       "      <td>0.219535</td>\n",
       "    </tr>\n",
       "    <tr>\n",
       "      <th>3</th>\n",
       "      <td>rs7624084</td>\n",
       "      <td>0.151963</td>\n",
       "    </tr>\n",
       "    <tr>\n",
       "      <th>8</th>\n",
       "      <td>rs724016</td>\n",
       "      <td>0.149973</td>\n",
       "    </tr>\n",
       "    <tr>\n",
       "      <th>1</th>\n",
       "      <td>rs1712374</td>\n",
       "      <td>0.072751</td>\n",
       "    </tr>\n",
       "    <tr>\n",
       "      <th>7</th>\n",
       "      <td>rs6535239</td>\n",
       "      <td>0.047712</td>\n",
       "    </tr>\n",
       "    <tr>\n",
       "      <th>0</th>\n",
       "      <td>rs710841</td>\n",
       "      <td>0.045648</td>\n",
       "    </tr>\n",
       "    <tr>\n",
       "      <th>5</th>\n",
       "      <td>rs1901568</td>\n",
       "      <td>0.034193</td>\n",
       "    </tr>\n",
       "    <tr>\n",
       "      <th>2</th>\n",
       "      <td>rs710839</td>\n",
       "      <td>0.032090</td>\n",
       "    </tr>\n",
       "  </tbody>\n",
       "</table>\n",
       "</div>"
      ],
      "text/plain": [
       "         cols       imp\n",
       "6  kgp5403113  0.246135\n",
       "4  rs16932725  0.219535\n",
       "3   rs7624084  0.151963\n",
       "8    rs724016  0.149973\n",
       "1   rs1712374  0.072751\n",
       "7   rs6535239  0.047712\n",
       "0    rs710841  0.045648\n",
       "5   rs1901568  0.034193\n",
       "2    rs710839  0.032090"
      ]
     },
     "execution_count": 423,
     "metadata": {},
     "output_type": "execute_result"
    }
   ],
   "source": [
    "rf_feat_importance(m,trn)"
   ]
  },
  {
   "cell_type": "code",
   "execution_count": 426,
   "metadata": {},
   "outputs": [],
   "source": [
    "m1=m"
   ]
  },
  {
   "cell_type": "code",
   "execution_count": 30,
   "metadata": {},
   "outputs": [],
   "source": [
    "x = y_trn.gender.values\n",
    "y = y_trn.height.values\n",
    "slope, intercept, r_value, p_value, std_err = stats.linregress(x,y)\n",
    "y_residual = y-(intercept + slope*x)\n",
    "y_rtest = y_val.height-(intercept+slope*y_val.gender)"
   ]
  },
  {
   "cell_type": "code",
   "execution_count": 31,
   "metadata": {
    "scrolled": true
   },
   "outputs": [
    {
     "data": {
      "image/png": "[encoded data removed]",
      "text/plain": [
       "<Figure size 432x288 with 1 Axes>"
      ]
     },
     "metadata": {},
     "output_type": "display_data"
    }
   ],
   "source": [
    "plt.hist(y_residual,density=True,alpha=0.5)\n",
    "plt.hist(y_rtest,density=True,alpha=0.5)\n",
    "plt.show()"
   ]
  },
  {
   "cell_type": "code",
   "execution_count": 45,
   "metadata": {},
   "outputs": [],
   "source": [
    "from sklearn.model_selection import KFold"
   ]
  },
  {
   "cell_type": "code",
   "execution_count": null,
   "metadata": {},
   "outputs": [],
   "source": []
  },
  {
   "cell_type": "code",
   "execution_count": 49,
   "metadata": {},
   "outputs": [],
   "source": [
    "X=trn.values\n",
    "y = y_residual"
   ]
  },
  {
   "cell_type": "code",
   "execution_count": 51,
   "metadata": {},
   "outputs": [
    {
     "data": {
      "text/plain": [
       "684066"
      ]
     },
     "execution_count": 51,
     "metadata": {},
     "output_type": "execute_result"
    }
   ],
   "source": [
    "X.shape[1]"
   ]
  },
  {
   "cell_type": "code",
   "execution_count": 119,
   "metadata": {},
   "outputs": [
    {
     "name": "stdout",
     "output_type": "stream",
     "text": [
      "TRAIN: [   0    2    3    4    5    7    8   10   11   12   13   16   19   20   21   22   24   25   26   28 ... 2170\n",
      " 2171 2172 2174 2176 2177 2178 2179 2180 2181 2182 2183 2187 2189 2190 2191 2193 2194 2195 2196] TEST: [   1    6    9   14   15   17   18   23   27   30   31   37   39   41   47   48   53   57   70   76 ... 2117\n",
      " 2119 2124 2125 2133 2136 2139 2149 2158 2160 2162 2164 2166 2173 2175 2184 2185 2186 2188 2192]\n",
      "TRAIN: [   0    1    3    6    7    8    9   12   13   14   15   16   17   18   20   21   23   24   25   26 ... 2174\n",
      " 2175 2177 2178 2179 2180 2181 2182 2183 2184 2185 2186 2187 2188 2189 2191 2192 2193 2194 2195] TEST: [   2    4    5   10   11   19   22   34   40   45   52   54   55   58   61   64   66   82   87   89 ... 2088\n",
      " 2089 2090 2091 2102 2114 2115 2123 2129 2131 2134 2143 2144 2146 2167 2169 2170 2176 2190 2196]\n",
      "TRAIN: [   0    1    2    3    4    5    6    7    9   10   11   12   14   15   17   18   19   20   21   22 ... 2169\n",
      " 2170 2171 2172 2173 2175 2176 2177 2178 2180 2181 2182 2184 2185 2186 2187 2188 2190 2192 2196] TEST: [   8   13   16   29   35   38   42   44   49   51   56   60   65   68   71   75   78   81   83   88 ... 2128\n",
      " 2137 2142 2147 2148 2150 2151 2153 2156 2157 2159 2161 2174 2179 2183 2189 2191 2193 2194 2195]\n",
      "TRAIN: [   1    2    4    5    6    7    8    9   10   11   13   14   15   16   17   18   19   22   23   24 ... 2174\n",
      " 2175 2176 2179 2180 2181 2182 2183 2184 2185 2186 2188 2189 2190 2191 2192 2193 2194 2195 2196] TEST: [   0    3   12   20   21   26   28   46   50   62   63   72   74   79   90   95  100  101  102  104 ... 2068\n",
      " 2069 2072 2074 2082 2087 2094 2101 2106 2111 2116 2132 2138 2141 2145 2155 2168 2177 2178 2187]\n",
      "TRAIN: [   0    1    2    3    4    5    6    8    9   10   11   12   13   14   15   16   17   18   19   20 ... 2174\n",
      " 2175 2176 2177 2178 2179 2183 2184 2185 2186 2187 2188 2189 2190 2191 2192 2193 2194 2195 2196] TEST: [   7   24   25   32   33   36   43   59   67   69   73   84   86   91   93   94   99  106  112  126 ... 2109\n",
      " 2110 2118 2120 2121 2122 2126 2127 2130 2135 2140 2152 2154 2163 2165 2171 2172 2180 2181 2182]\n",
      "TRAIN: [   0    1    2    4    5    7    9   10   11   12   13   14   15   16   18   19   20   21   22   23 ... 2175\n",
      " 2176 2177 2178 2180 2181 2182 2183 2184 2185 2186 2187 2188 2189 2190 2191 2193 2194 2195 2196] TEST: [   3    6    8   17   37   40   47   48   56   65   67   75   76   87  102  107  108  111  119  120 ... 2061\n",
      " 2064 2065 2072 2073 2078 2096 2098 2109 2121 2133 2139 2144 2145 2148 2164 2167 2170 2179 2192]\n",
      "TRAIN: [   2    3    4    5    6    7    8    9   10   12   13   14   15   17   18   20   21   23   24   25 ... 2173\n",
      " 2175 2176 2177 2178 2179 2180 2181 2182 2183 2184 2186 2187 2188 2189 2191 2192 2193 2195 2196] TEST: [   0    1   11   16   19   22   30   34   39   45   49   50   51   53   58   59   60   62   64   80 ... 2093\n",
      " 2101 2102 2107 2112 2118 2119 2124 2126 2132 2135 2140 2142 2143 2151 2162 2174 2185 2190 2194]\n",
      "TRAIN: [   0    1    3    4    6    7    8   11   14   15   16   17   18   19   20   22   23   24   25   28 ... 2168\n",
      " 2170 2174 2175 2176 2179 2180 2181 2183 2184 2185 2186 2189 2190 2191 2192 2193 2194 2195 2196] TEST: [   2    5    9   10   12   13   21   26   27   35   41   54   55   72   73   74   78   84   85   90 ... 2123\n",
      " 2128 2129 2131 2134 2136 2141 2155 2156 2159 2163 2169 2171 2172 2173 2177 2178 2182 2187 2188]\n",
      "TRAIN: [   0    1    2    3    5    6    8    9   10   11   12   13   15   16   17   19   20   21   22   24 ... 2175\n",
      " 2176 2177 2178 2179 2180 2181 2182 2183 2184 2185 2186 2187 2188 2190 2192 2193 2194 2195 2196] TEST: [   4    7   14   18   23   28   29   31   32   33   38   42   46   52   57   61   66   68   69   71 ... 2077\n",
      " 2083 2088 2091 2094 2097 2099 2100 2106 2113 2116 2138 2146 2150 2152 2154 2157 2166 2189 2191]\n",
      "TRAIN: [   0    1    2    3    4    5    6    7    8    9   10   11   12   13   14   16   17   18   19   21 ... 2166\n",
      " 2167 2169 2170 2171 2172 2173 2174 2177 2178 2179 2182 2185 2187 2188 2189 2190 2191 2192 2194] TEST: [  15   20   24   25   36   43   44   63   70   77   79   86   93   96  100  105  109  112  123  128 ... 2130\n",
      " 2137 2147 2149 2153 2158 2160 2161 2165 2168 2175 2176 2180 2181 2183 2184 2186 2193 2195 2196]\n",
      "TRAIN: [   0    1    2    3    5    7    8    9   10   11   12   13   14   16   17   18   19   20   21   22 ... 2171\n",
      " 2172 2173 2174 2175 2176 2178 2179 2180 2181 2183 2184 2185 2186 2188 2191 2192 2193 2194 2195] TEST: [   4    6   15   33   36   37   43   45   52   61   65   71   76   80   83  101  111  112  114  122 ... 2088\n",
      " 2095 2101 2105 2135 2137 2138 2139 2142 2147 2150 2153 2158 2163 2177 2182 2187 2189 2190 2196]\n",
      "TRAIN: [   0    1    4    5    6    8    9   10   11   12   13   15   16   19   20   21   22   23   24   25 ... 2172\n",
      " 2174 2175 2176 2177 2178 2179 2180 2182 2183 2184 2186 2187 2188 2189 2190 2191 2193 2194 2196] TEST: [   2    3    7   14   17   18   34   40   46   58   60   62   66   68   69   79   82   84   85   86 ... 2100\n",
      " 2108 2110 2117 2118 2120 2123 2126 2131 2136 2141 2144 2146 2161 2162 2173 2181 2185 2192 2195]\n",
      "TRAIN: [   2    3    4    5    6    7    8    9   10   12   13   14   15   17   18   19   22   24   25   26 ... 2173\n",
      " 2174 2175 2177 2179 2181 2182 2183 2184 2185 2186 2187 2189 2190 2191 2192 2193 2194 2195 2196] TEST: [   0    1   11   16   20   21   23   28   41   44   47   67   70   75   77   87   90   91   99  102 ... 2115\n",
      " 2116 2124 2127 2128 2130 2132 2133 2134 2143 2149 2151 2160 2168 2170 2171 2176 2178 2180 2188]\n",
      "TRAIN: [   0    1    2    3    4    5    6    7    8    9   11   14   15   16   17   18   19   20   21   23 ... 2170\n",
      " 2171 2173 2174 2176 2177 2178 2180 2181 2182 2184 2185 2187 2188 2189 2190 2192 2193 2195 2196] TEST: [  10   12   13   22   24   25   26   29   30   32   35   38   42   48   50   53   55   56   72   74 ... 2094\n",
      " 2104 2111 2113 2114 2121 2140 2145 2152 2154 2156 2165 2166 2172 2175 2179 2183 2186 2191 2194]\n",
      "TRAIN: [   0    1    2    3    4    6    7   10   11   12   13   14   15   16   17   18   20   21   22   23 ... 2175\n",
      " 2176 2177 2178 2179 2180 2181 2182 2183 2185 2186 2187 2188 2189 2190 2191 2192 2194 2195 2196] TEST: [   5    8    9   19   27   31   39   49   51   54   57   59   63   64   73   81   88   92   95   96 ... 2075\n",
      " 2082 2089 2091 2103 2112 2119 2122 2125 2129 2148 2155 2157 2159 2164 2167 2169 2174 2184 2193]\n",
      "TRAIN: [   0    1    2    4    5    6    7    8    9   10   11   12   13   14   15   17   18   19   20   21 ... 2172\n",
      " 2173 2174 2175 2176 2178 2180 2181 2183 2184 2185 2186 2187 2188 2189 2190 2191 2192 2193 2195] TEST: [   3   16   25   27   28   31   34   36   37   38   40   46   58   59   61   62   65   69   70   81 ... 2101\n",
      " 2103 2105 2112 2125 2133 2138 2140 2142 2149 2151 2160 2168 2170 2171 2177 2179 2182 2194 2196]\n",
      "TRAIN: [   0    2    3    7    8    9   10   11   12   13   14   15   16   17   18   19   20   21   22   23 ... 2175\n",
      " 2176 2177 2178 2179 2180 2181 2182 2183 2185 2186 2187 2188 2190 2191 2192 2193 2194 2195 2196] TEST: [   1    4    5    6   30   48   50   72   73   76   80   86   97   99  101  105  107  111  114  115 ... 2073\n",
      " 2095 2098 2119 2122 2128 2132 2135 2137 2144 2145 2146 2153 2158 2162 2164 2167 2169 2184 2189]\n",
      "TRAIN: [   0    1    3    4    5    6    9   11   12   13   14   15   16   17   18   20   21   23   25   26 ... 2168\n",
      " 2169 2170 2171 2172 2173 2176 2177 2178 2179 2180 2181 2182 2183 2184 2189 2192 2194 2195 2196] TEST: [   2    7    8   10   19   22   24   42   45   51   54   55   57   60   63   64   67   75   78   91 ... 2104\n",
      " 2107 2111 2120 2127 2131 2134 2141 2148 2156 2157 2174 2175 2185 2186 2187 2188 2190 2191 2193]\n",
      "TRAIN: [   1    2    3    4    5    6    7    8    9   10   11   12   13   15   16   17   19   22   23   24 ... 2176\n",
      " 2177 2178 2179 2180 2181 2182 2184 2185 2186 2187 2188 2189 2190 2191 2192 2193 2194 2195 2196] TEST: [   0   14   18   20   21   29   33   39   41   43   47   49   53   56   66   68   74   79   89  102 ... 2096\n",
      " 2100 2106 2108 2115 2116 2117 2121 2123 2126 2130 2143 2152 2155 2161 2163 2165 2166 2172 2183]\n",
      "TRAIN: [   0    1    2    3    4    5    6    7    8   10   14   16   18   19   20   21   22   24   25   27 ... 2170\n",
      " 2171 2172 2174 2175 2177 2179 2182 2183 2184 2185 2186 2187 2188 2189 2190 2191 2193 2194 2196] TEST: [   9   11   12   13   15   17   23   26   32   35   44   52   71   77   82   84   88   90   94   96 ... 2109\n",
      " 2110 2113 2114 2118 2124 2129 2136 2139 2147 2150 2154 2159 2173 2176 2178 2180 2181 2192 2195]\n"
     ]
    },
    {
     "name": "stdout",
     "output_type": "stream",
     "text": [
      "TRAIN: [   0    1    2    3    4    5    6    7    9   10   12   13   14   15   16   17   18   19   21   22 ... 2168\n",
      " 2169 2171 2172 2174 2175 2176 2179 2180 2182 2183 2184 2185 2186 2187 2188 2193 2194 2195 2196] TEST: [   8   11   20   26   29   31   41   47   49   57   58   67   68   70   75   76   87   88   98  104 ... 2127\n",
      " 2131 2135 2137 2138 2139 2146 2149 2153 2164 2166 2170 2173 2177 2178 2181 2189 2190 2191 2192]\n",
      "TRAIN: [   0    1    3    4    6    7    8    9   11   12   14   16   17   18   19   20   21   22   23   24 ... 2170\n",
      " 2171 2172 2173 2174 2177 2178 2180 2181 2182 2185 2186 2187 2188 2189 2190 2191 2192 2193 2195] TEST: [   2    5   10   13   15   34   38   40   53   55   63   64   65   66   71   72   74   83   89   90 ... 2089\n",
      " 2098 2103 2105 2107 2114 2120 2129 2136 2141 2145 2156 2160 2175 2176 2179 2183 2184 2194 2196]\n",
      "TRAIN: [   0    1    2    3    5    6    7    8    9   10   11   12   13   14   15   16   18   20   22   23 ... 2175\n",
      " 2176 2177 2178 2179 2180 2181 2182 2183 2184 2185 2187 2188 2189 2190 2191 2192 2194 2195 2196] TEST: [   4   17   19   21   25   27   30   33   35   36   42   44   45   46   50   51   59   78   79   99 ... 2077\n",
      " 2088 2092 2096 2108 2115 2116 2118 2130 2132 2133 2134 2147 2150 2151 2152 2167 2174 2186 2193]\n",
      "TRAIN: [   2    4    5    8    9   10   11   12   13   15   17   19   20   21   23   25   26   27   28   29 ... 2174\n",
      " 2175 2176 2177 2178 2179 2181 2183 2184 2186 2187 2188 2189 2190 2191 2192 2193 2194 2195 2196] TEST: [   0    1    3    6    7   14   16   18   22   24   32   39   52   54   60   61   62   73   77   80 ... 2097\n",
      " 2109 2110 2111 2117 2124 2128 2144 2148 2154 2158 2161 2162 2165 2169 2171 2172 2180 2182 2185]\n",
      "TRAIN: [   0    1    2    3    4    5    6    7    8   10   11   13   14   15   16   17   18   19   20   21 ... 2174\n",
      " 2175 2176 2177 2178 2179 2180 2181 2182 2183 2184 2185 2186 2189 2190 2191 2192 2193 2194 2196] TEST: [   9   12   23   28   37   43   48   56   69   82   84   86   91   94   96  107  116  119  121  129 ... 2104\n",
      " 2106 2112 2113 2119 2121 2123 2125 2126 2140 2142 2143 2155 2157 2159 2163 2168 2187 2188 2195]\n",
      "TRAIN: [   0    2    3    4    5    6    7    8    9   10   11   13   14   16   17   18   19   21   22   23 ... 2169\n",
      " 2171 2172 2173 2175 2176 2177 2179 2181 2184 2186 2187 2188 2189 2190 2191 2192 2193 2195 2196] TEST: [   1   12   15   20   26   29   33   47   51   54   65   71   72   86   88  104  115  117  120  124 ... 2095\n",
      " 2100 2114 2124 2130 2134 2135 2148 2149 2150 2154 2156 2170 2174 2178 2180 2182 2183 2185 2194]\n",
      "TRAIN: [   0    1    3    5    6    8    9   10   11   12   13   14   15   16   17   18   19   20   22   24 ... 2164\n",
      " 2165 2166 2170 2172 2173 2174 2175 2176 2178 2180 2181 2182 2183 2185 2188 2189 2190 2192 2194] TEST: [   2    4    7   21   23   27   32   34   35   40   46   50   61   70   73   78   84   87  107  108 ... 2142\n",
      " 2143 2144 2145 2146 2155 2157 2167 2168 2169 2171 2177 2179 2184 2186 2187 2191 2193 2195 2196]\n",
      "TRAIN: [   0    1    2    4    5    7    9   10   12   14   15   16   17   19   20   21   22   23   24   25 ... 2170\n",
      " 2171 2174 2177 2178 2179 2180 2182 2183 2184 2185 2186 2187 2188 2190 2191 2193 2194 2195 2196] TEST: [   3    6    8   11   13   18   28   37   45   57   58   59   60   69   75   80   85   93   95   97 ... 2093\n",
      " 2096 2104 2105 2109 2113 2117 2120 2122 2125 2131 2133 2166 2172 2173 2175 2176 2181 2189 2192]\n",
      "TRAIN: [   0    1    2    3    4    5    6    7    8    9   11   12   13   14   15   17   18   19   20   21 ... 2176\n",
      " 2177 2178 2179 2180 2181 2182 2183 2184 2185 2186 2187 2189 2190 2191 2192 2193 2194 2195 2196] TEST: [  10   16   22   25   30   31   38   42   43   48   49   52   53   56   62   64   66   68   77   89 ... 2088\n",
      " 2089 2101 2106 2108 2110 2118 2128 2129 2137 2138 2141 2147 2151 2158 2159 2161 2163 2165 2188]\n",
      "TRAIN: [   1    2    3    4    6    7    8   10   11   12   13   15   16   18   20   21   22   23   25   26 ... 2176\n",
      " 2177 2178 2179 2180 2181 2182 2183 2184 2185 2186 2187 2188 2189 2191 2192 2193 2194 2195 2196] TEST: [   0    5    9   14   17   19   24   36   39   41   44   55   63   67   74   76   79   81   82   83 ... 2073\n",
      " 2075 2078 2079 2082 2083 2094 2098 2099 2112 2116 2121 2126 2139 2152 2153 2160 2162 2164 2190]\n",
      "TRAIN: [   1    2    3    5    6    7    8    9   10   11   13   14   15   16   17   18   19   20   22   23 ... 2170\n",
      " 2173 2174 2175 2176 2177 2178 2179 2183 2184 2185 2186 2188 2189 2190 2191 2192 2194 2195 2196] TEST: [   0    4   12   21   24   30   35   40   50   51   52   55   56   57   59   60   80   87   88   91 ... 2097\n",
      " 2099 2102 2104 2112 2121 2122 2125 2134 2138 2152 2157 2158 2171 2172 2180 2181 2182 2187 2193]\n",
      "TRAIN: [   0    1    3    4    5    6    7    8    9   10   11   12   13   16   17   18   19   20   21   22 ... 2175\n",
      " 2176 2177 2178 2179 2180 2181 2182 2183 2185 2186 2187 2189 2190 2191 2192 2193 2194 2195 2196] TEST: [   2   14   15   25   33   37   58   66   71   73   79   83   85   92  101  105  109  111  115  117 ... 2110\n",
      " 2111 2113 2116 2117 2123 2126 2127 2137 2141 2144 2146 2151 2156 2160 2161 2166 2168 2184 2188]\n",
      "TRAIN: [   0    2    3    4    5    6    7    8    9   10   12   13   14   15   16   18   19   21   23   24 ... 2171\n",
      " 2172 2173 2175 2176 2177 2179 2180 2181 2182 2183 2184 2185 2186 2187 2188 2190 2192 2193 2196] TEST: [   1   11   17   20   22   28   31   43   45   46   53   63   65   70   78   89   94   95   98  107 ... 2115\n",
      " 2119 2128 2130 2131 2135 2139 2140 2148 2150 2159 2164 2169 2170 2174 2178 2189 2191 2194 2195]\n",
      "TRAIN: [   0    1    2    3    4    5    9   11   12   14   15   17   19   20   21   22   24   25   26   28 ... 2174\n",
      " 2175 2178 2179 2180 2181 2182 2183 2184 2185 2186 2187 2188 2189 2191 2192 2193 2194 2195 2196] TEST: [   6    7    8   10   13   16   18   23   27   32   41   44   48   49   61   69   72   76   82   90 ... 2086\n",
      " 2088 2090 2095 2103 2106 2108 2114 2118 2124 2142 2145 2155 2162 2163 2165 2173 2176 2177 2190]\n",
      "TRAIN: [   0    1    2    4    6    7    8   10   11   12   13   14   15   16   17   18   20   21   22   23 ... 2170\n",
      " 2171 2172 2173 2174 2176 2177 2178 2180 2181 2182 2184 2187 2188 2189 2190 2191 2193 2194 2195] TEST: [   3    5    9   19   26   29   34   36   38   39   42   47   54   62   64   67   68   74   75   77 ... 2101\n",
      " 2105 2120 2129 2132 2133 2136 2143 2147 2149 2153 2154 2167 2175 2179 2183 2185 2186 2192 2196]\n",
      "TRAIN: [   0    1    3    4    5    6    8   10   11   13   14   15   16   17   18   19   21   22   23   25 ... 2171\n",
      " 2173 2175 2176 2178 2179 2180 2181 2182 2183 2184 2185 2186 2187 2188 2189 2190 2191 2192 2196] TEST: [   2    7    9   12   20   24   28   34   36   37   43   51   54   58   60   70   71   94   99  108 ... 2103\n",
      " 2105 2106 2110 2126 2128 2133 2134 2137 2149 2154 2159 2160 2168 2172 2174 2177 2193 2194 2195]\n",
      "TRAIN: [   0    1    2    5    6    7    9   10   11   12   14   16   18   20   22   24   28   29   30   31 ... 2175\n",
      " 2176 2177 2178 2179 2180 2181 2182 2184 2185 2186 2187 2188 2189 2190 2192 2193 2194 2195 2196] TEST: [   3    4    8   13   15   17   19   21   23   25   26   27   42   46   63   75   81   95   96   97 ... 2084\n",
      " 2085 2087 2092 2100 2113 2117 2119 2121 2129 2130 2141 2144 2146 2150 2156 2157 2161 2183 2191]\n",
      "TRAIN: [   0    2    3    4    5    7    8    9   10   11   12   13   14   15   17   18   19   20   21   22 ... 2169\n",
      " 2170 2172 2174 2175 2176 2177 2178 2182 2183 2184 2185 2186 2187 2189 2190 2191 2193 2194 2195] TEST: [   1    6   16   30   35   38   40   41   48   53   55   56   57   61   62   67   68   72   74   83 ... 2116\n",
      " 2120 2123 2127 2131 2136 2139 2142 2143 2151 2152 2166 2171 2173 2179 2180 2181 2188 2192 2196]\n",
      "TRAIN: [   1    2    3    4    5    6    7    8    9   11   12   13   14   15   16   17   18   19   20   21 ... 2174\n",
      " 2175 2176 2177 2178 2179 2180 2181 2182 2183 2184 2187 2188 2189 2191 2192 2193 2194 2195 2196] TEST: [   0   10   22   31   32   50   52   64   65   66   76   77   80   82   84   89   90   93  100  107 ... 2079\n",
      " 2088 2097 2101 2122 2124 2125 2132 2135 2138 2140 2147 2148 2153 2163 2164 2167 2185 2186 2190]\n",
      "TRAIN: [   0    1    2    3    4    6    7    8    9   10   12   13   15   16   17   19   20   21   22   23 ... 2168\n",
      " 2171 2172 2173 2174 2177 2179 2180 2181 2183 2185 2186 2188 2190 2191 2192 2193 2194 2195 2196] TEST: [   5   11   14   18   29   33   39   44   45   47   49   59   69   73   78   79   85   91   92  102 ... 2096\n",
      " 2107 2108 2109 2115 2118 2145 2155 2158 2162 2165 2169 2170 2175 2176 2178 2182 2184 2187 2189]\n"
     ]
    },
    {
     "name": "stdout",
     "output_type": "stream",
     "text": [
      "TRAIN: [   0    1    2    3    4    5    6    7    8    9   10   11   13   14   16   17   18   19   20   21 ... 2172\n",
      " 2176 2177 2178 2179 2180 2181 2182 2183 2184 2185 2186 2187 2188 2190 2191 2192 2193 2194 2196] TEST: [  12   15   32   49   54   58   61   64   70   73   77   78   83   84   89   92   94  101  102  108 ... 2111\n",
      " 2119 2121 2127 2133 2136 2137 2138 2143 2147 2148 2152 2160 2166 2171 2173 2174 2175 2189 2195]\n",
      "TRAIN: [   1    2    3    4    5    6    7    8    9   10   11   12   13   15   17   19   20   21   23   24 ... 2173\n",
      " 2174 2175 2177 2178 2180 2181 2183 2184 2185 2186 2187 2188 2189 2190 2191 2192 2194 2195 2196] TEST: [   0   14   16   18   22   26   30   37   40   41   43   48   51   60   63   65   74   75   80   81 ... 2075\n",
      " 2078 2083 2084 2112 2118 2123 2128 2129 2140 2141 2145 2157 2168 2169 2172 2176 2179 2182 2193]\n",
      "TRAIN: [   0    1    2    3    5    6    7   11   12   13   14   15   16   17   18   19   21   22   23   24 ... 2174\n",
      " 2175 2176 2177 2178 2179 2180 2181 2182 2183 2184 2185 2188 2189 2190 2191 2193 2194 2195 2196] TEST: [   4    8    9   10   20   35   39   45   50   53   56   76   79   86   91   96  100  107  112  113 ... 2060\n",
      " 2064 2068 2070 2073 2088 2093 2094 2100 2103 2106 2113 2117 2120 2158 2163 2167 2186 2187 2192]\n",
      "TRAIN: [   0    2    4    8    9   10   11   12   14   15   16   17   18   20   22   23   24   26   28   30 ... 2169\n",
      " 2171 2172 2173 2174 2175 2176 2177 2179 2180 2181 2182 2184 2185 2186 2187 2189 2192 2193 2195] TEST: [   1    3    5    6    7   13   19   21   25   27   29   31   33   36   38   44   47   57   59   62 ... 2125\n",
      " 2132 2146 2150 2151 2153 2154 2155 2159 2162 2164 2165 2170 2178 2183 2188 2190 2191 2194 2196]\n",
      "TRAIN: [   0    1    3    4    5    6    7    8    9   10   12   13   14   15   16   18   19   20   21   22 ... 2172\n",
      " 2173 2174 2175 2176 2178 2179 2182 2183 2186 2187 2188 2189 2190 2191 2192 2193 2194 2195 2196] TEST: [   2   11   17   23   24   28   34   42   46   52   55   67   69   72   82   97   98   99  104  115 ... 2104\n",
      " 2107 2115 2122 2126 2130 2131 2134 2135 2139 2142 2144 2149 2156 2161 2177 2180 2181 2184 2185]\n",
      "TRAIN: [   0    1    3    4    5    6    7    8    9   10   11   12   13   14   15   16   17   20   22   23 ... 2172\n",
      " 2173 2174 2176 2177 2178 2179 2180 2181 2182 2183 2185 2186 2188 2189 2190 2191 2192 2194 2195] TEST: [   2   18   19   21   25   34   51   55   59   62   72   74   77   97   98  102  107  108  109  114 ... 2093\n",
      " 2096 2111 2126 2127 2129 2133 2137 2139 2141 2150 2156 2160 2162 2168 2175 2184 2187 2193 2196]\n",
      "TRAIN: [   0    1    2    3    4    8   10   11   12   13   14   15   16   17   18   19   20   21   22   23 ... 2171\n",
      " 2173 2174 2175 2176 2177 2180 2181 2184 2185 2186 2187 2188 2189 2191 2192 2193 2194 2195 2196] TEST: [   5    6    7    9   24   27   39   52   53   56   57   60   63   65   68   73   75   80   81   88 ... 2100\n",
      " 2103 2112 2115 2119 2122 2135 2138 2143 2149 2153 2154 2161 2163 2172 2178 2179 2182 2183 2190]\n",
      "TRAIN: [   0    1    2    3    4    5    6    7    8    9   11   12   14   15   18   19   20   21   22   23 ... 2174\n",
      " 2175 2176 2177 2178 2179 2181 2182 2183 2184 2185 2186 2187 2188 2190 2191 2192 2193 2195 2196] TEST: [  10   13   16   17   29   30   31   37   38   40   45   50   54   64   87   89  103  105  106  111 ... 2109\n",
      " 2114 2120 2121 2123 2130 2131 2132 2134 2136 2144 2147 2152 2157 2167 2169 2170 2180 2189 2194]\n",
      "TRAIN: [   0    1    2    5    6    7    9   10   12   13   15   16   17   18   19   21   22   24   25   27 ... 2171\n",
      " 2172 2174 2175 2177 2178 2179 2180 2182 2183 2184 2185 2186 2187 2189 2190 2193 2194 2195 2196] TEST: [   3    4    8   11   14   20   23   26   28   32   36   41   42   44   46   47   48   58   66   67 ... 2065\n",
      " 2079 2080 2082 2092 2095 2098 2101 2107 2113 2118 2124 2125 2165 2173 2176 2181 2188 2191 2192]\n",
      "TRAIN: [   2    3    4    5    6    7    8    9   10   11   13   14   16   17   18   19   20   21   23   24 ... 2172\n",
      " 2173 2175 2176 2178 2179 2180 2181 2182 2183 2184 2187 2188 2189 2190 2191 2192 2193 2194 2196] TEST: [   0    1   12   15   22   33   35   43   49   61   69   76   78   79   82   85   92   96  101  110 ... 2116\n",
      " 2117 2128 2140 2142 2145 2146 2148 2151 2155 2158 2159 2164 2166 2171 2174 2177 2185 2186 2195]\n"
     ]
    }
   ],
   "source": [
    "result={}\n",
    "for j in range(10):\n",
    "    kf=KFold(n_splits=5, random_state=j, shuffle=True)\n",
    "    result[j]=[]\n",
    "    for train_index, test_index in kf.split(X):\n",
    "        print(\"TRAIN:\", train_index, \"TEST:\", test_index)\n",
    "        X_train, X_test = X[train_index], X[test_index]\n",
    "        y_train, y_test = y[train_index], y[test_index]\n",
    "        trn_result={}\n",
    "        val_result={}\n",
    "        for i,t,v in zip(list(range(X.shape[1])),X_train.T,X_test.T):\n",
    "            trn_result[i]=list(stats.linregress(t,y_train))\n",
    "            val_result[i]=list(stats.linregress(v,y_test))\n",
    "        result[j].append(pd_gwas(trn_result,tz_sub,val_result))"
   ]
  },
  {
   "cell_type": "code",
   "execution_count": 120,
   "metadata": {},
   "outputs": [],
   "source": [
    "with open(TMP_PATH/'heigt_gwas_5cv10rep.pickle', 'wb') as handle:\n",
    "    pickle.dump(result, handle, protocol=pickle.HIGHEST_PROTOCOL)\n"
   ]
  },
  {
   "cell_type": "code",
   "execution_count": 68,
   "metadata": {},
   "outputs": [
    {
     "ename": "ValueError",
     "evalue": "The truth value of a DataFrame is ambiguous. Use a.empty, a.bool(), a.item(), a.any() or a.all().",
     "output_type": "error",
     "traceback": [
      "\u001b[0;31m---------------------------------------------------------------------------\u001b[0m",
      "\u001b[0;31mValueError\u001b[0m                                Traceback (most recent call last)",
      "\u001b[0;32m<ipython-input-68-898889974131>\u001b[0m in \u001b[0;36m<module>\u001b[0;34m()\u001b[0m\n\u001b[1;32m      2\u001b[0m     \u001b[0mb\u001b[0m \u001b[0;34m=\u001b[0m \u001b[0mpickle\u001b[0m\u001b[0;34m.\u001b[0m\u001b[0mload\u001b[0m\u001b[0;34m(\u001b[0m\u001b[0mhandle\u001b[0m\u001b[0;34m)\u001b[0m\u001b[0;34m\u001b[0m\u001b[0m\n\u001b[1;32m      3\u001b[0m \u001b[0;34m\u001b[0m\u001b[0m\n\u001b[0;32m----> 4\u001b[0;31m \u001b[0mprint\u001b[0m\u001b[0;34m(\u001b[0m\u001b[0mall\u001b[0m\u001b[0;34m(\u001b[0m\u001b[0mresult\u001b[0m \u001b[0;34m==\u001b[0m \u001b[0mb\u001b[0m\u001b[0;34m)\u001b[0m\u001b[0;34m)\u001b[0m\u001b[0;34m\u001b[0m\u001b[0m\n\u001b[0m",
      "\u001b[0;32m~/anaconda3/envs/fastai/lib/python3.6/site-packages/pandas/core/generic.py\u001b[0m in \u001b[0;36m__nonzero__\u001b[0;34m(self)\u001b[0m\n\u001b[1;32m   1119\u001b[0m         raise ValueError(\"The truth value of a {0} is ambiguous. \"\n\u001b[1;32m   1120\u001b[0m                          \u001b[0;34m\"Use a.empty, a.bool(), a.item(), a.any() or a.all().\"\u001b[0m\u001b[0;34m\u001b[0m\u001b[0m\n\u001b[0;32m-> 1121\u001b[0;31m                          .format(self.__class__.__name__))\n\u001b[0m\u001b[1;32m   1122\u001b[0m \u001b[0;34m\u001b[0m\u001b[0m\n\u001b[1;32m   1123\u001b[0m     \u001b[0m__bool__\u001b[0m \u001b[0;34m=\u001b[0m \u001b[0m__nonzero__\u001b[0m\u001b[0;34m\u001b[0m\u001b[0m\n",
      "\u001b[0;31mValueError\u001b[0m: The truth value of a DataFrame is ambiguous. Use a.empty, a.bool(), a.item(), a.any() or a.all()."
     ]
    }
   ],
   "source": [
    "with open(TMP_PATH/'heigt_gwas_5cv10rep.pickle', 'rb') as handle:\n",
    "    b = pickle.load(handle)\n",
    "\n",
    "print(all(result == b))"
   ]
  },
  {
   "cell_type": "code",
   "execution_count": 121,
   "metadata": {},
   "outputs": [
    {
     "data": {
      "text/plain": [
       "684066"
      ]
     },
     "execution_count": 121,
     "metadata": {},
     "output_type": "execute_result"
    }
   ],
   "source": [
    "len(result[0][0])"
   ]
  },
  {
   "cell_type": "code",
   "execution_count": 122,
   "metadata": {},
   "outputs": [],
   "source": [
    "tmpr = result[0][1]"
   ]
  },
  {
   "cell_type": "code",
   "execution_count": 123,
   "metadata": {},
   "outputs": [
    {
     "data": {
      "text/html": [
       "<div>\n",
       "<style scoped>\n",
       "    .dataframe tbody tr th:only-of-type {\n",
       "        vertical-align: middle;\n",
       "    }\n",
       "\n",
       "    .dataframe tbody tr th {\n",
       "        vertical-align: top;\n",
       "    }\n",
       "\n",
       "    .dataframe thead th {\n",
       "        text-align: right;\n",
       "    }\n",
       "</style>\n",
       "<table border=\"1\" class=\"dataframe\">\n",
       "  <thead>\n",
       "    <tr style=\"text-align: right;\">\n",
       "      <th></th>\n",
       "      <th>slope</th>\n",
       "      <th>intercept</th>\n",
       "      <th>rvalue</th>\n",
       "      <th>pvalue</th>\n",
       "      <th>stderr</th>\n",
       "      <th>valp</th>\n",
       "      <th>prank</th>\n",
       "    </tr>\n",
       "  </thead>\n",
       "  <tbody>\n",
       "    <tr>\n",
       "      <th>rs4612347</th>\n",
       "      <td>-1.078284</td>\n",
       "      <td>1.506921</td>\n",
       "      <td>-0.126586</td>\n",
       "      <td>1.016678e-07</td>\n",
       "      <td>0.201697</td>\n",
       "      <td>0.484618</td>\n",
       "      <td>344056</td>\n",
       "    </tr>\n",
       "    <tr>\n",
       "      <th>rs7624084</th>\n",
       "      <td>-0.998996</td>\n",
       "      <td>1.291344</td>\n",
       "      <td>-0.124712</td>\n",
       "      <td>1.569105e-07</td>\n",
       "      <td>0.189720</td>\n",
       "      <td>0.771497</td>\n",
       "      <td>138650</td>\n",
       "    </tr>\n",
       "    <tr>\n",
       "      <th>rs1057308</th>\n",
       "      <td>-1.050580</td>\n",
       "      <td>1.510806</td>\n",
       "      <td>-0.120735</td>\n",
       "      <td>3.859234e-07</td>\n",
       "      <td>0.206191</td>\n",
       "      <td>0.303639</td>\n",
       "      <td>344060</td>\n",
       "    </tr>\n",
       "    <tr>\n",
       "      <th>rs724016</th>\n",
       "      <td>-0.967797</td>\n",
       "      <td>1.277458</td>\n",
       "      <td>-0.118402</td>\n",
       "      <td>6.457451e-07</td>\n",
       "      <td>0.193740</td>\n",
       "      <td>0.709557</td>\n",
       "      <td>138655</td>\n",
       "    </tr>\n",
       "    <tr>\n",
       "      <th>rs978580</th>\n",
       "      <td>-1.031455</td>\n",
       "      <td>1.487092</td>\n",
       "      <td>-0.118080</td>\n",
       "      <td>6.927736e-07</td>\n",
       "      <td>0.207054</td>\n",
       "      <td>0.255485</td>\n",
       "      <td>344061</td>\n",
       "    </tr>\n",
       "  </tbody>\n",
       "</table>\n",
       "</div>"
      ],
      "text/plain": [
       "              slope  intercept    rvalue        pvalue    stderr      valp  \\\n",
       "rs4612347 -1.078284   1.506921 -0.126586  1.016678e-07  0.201697  0.484618   \n",
       "rs7624084 -0.998996   1.291344 -0.124712  1.569105e-07  0.189720  0.771497   \n",
       "rs1057308 -1.050580   1.510806 -0.120735  3.859234e-07  0.206191  0.303639   \n",
       "rs724016  -0.967797   1.277458 -0.118402  6.457451e-07  0.193740  0.709557   \n",
       "rs978580  -1.031455   1.487092 -0.118080  6.927736e-07  0.207054  0.255485   \n",
       "\n",
       "            prank  \n",
       "rs4612347  344056  \n",
       "rs7624084  138650  \n",
       "rs1057308  344060  \n",
       "rs724016   138655  \n",
       "rs978580   344061  "
      ]
     },
     "execution_count": 123,
     "metadata": {},
     "output_type": "execute_result"
    }
   ],
   "source": [
    "tmpr.head()"
   ]
  },
  {
   "cell_type": "code",
   "execution_count": 124,
   "metadata": {},
   "outputs": [],
   "source": [
    "def trnvalpcut(r,tp=0.0001,vp=0.05):\n",
    "    return r[(r.valp<vp) & (r.pvalue<tp)]"
   ]
  },
  {
   "cell_type": "code",
   "execution_count": 125,
   "metadata": {},
   "outputs": [
    {
     "data": {
      "text/plain": [
       "[5, 5, 5, 5, 5, 5, 5, 5, 5, 5]"
      ]
     },
     "execution_count": 125,
     "metadata": {},
     "output_type": "execute_result"
    }
   ],
   "source": [
    "[len(re) for re in result.values()]"
   ]
  },
  {
   "cell_type": "code",
   "execution_count": 141,
   "metadata": {},
   "outputs": [],
   "source": [
    "tmpr = [trnvalpcut(r,tp=0.001) for re in result.values() for r in re]"
   ]
  },
  {
   "cell_type": "code",
   "execution_count": 142,
   "metadata": {},
   "outputs": [
    {
     "data": {
      "text/plain": [
       "50"
      ]
     },
     "execution_count": 142,
     "metadata": {},
     "output_type": "execute_result"
    }
   ],
   "source": [
    "len(tmpr)"
   ]
  },
  {
   "cell_type": "code",
   "execution_count": 99,
   "metadata": {},
   "outputs": [],
   "source": [
    "tmpr = [[trnvalpcut(r,tp=0.001) for r in re] for re in result]"
   ]
  },
  {
   "cell_type": "code",
   "execution_count": 143,
   "metadata": {},
   "outputs": [],
   "source": [
    "tmpr_rs = pd.Series([rs for t in tmpr for rs in list(t.index)])"
   ]
  },
  {
   "cell_type": "code",
   "execution_count": 144,
   "metadata": {},
   "outputs": [],
   "source": [
    "tmpr_rs_c1=tmpr_rs.value_counts()"
   ]
  },
  {
   "cell_type": "code",
   "execution_count": 135,
   "metadata": {},
   "outputs": [],
   "source": [
    "tmpr_rs_c=tmpr_rs.value_counts()"
   ]
  },
  {
   "cell_type": "code",
   "execution_count": 140,
   "metadata": {},
   "outputs": [],
   "source": [
    "tmpr_rs_c.to_csv('TTS_Model/gwas_snp_5cv10rep_p0001.csv',index=None)"
   ]
  },
  {
   "cell_type": "code",
   "execution_count": 146,
   "metadata": {},
   "outputs": [],
   "source": [
    "tmpr_rs_c1.to_csv('TTS_Model/gwas_snp_5cv10rep_p001.csv',index=None)"
   ]
  },
  {
   "cell_type": "code",
   "execution_count": 33,
   "metadata": {},
   "outputs": [],
   "source": [
    "trn_result={}\n",
    "val_result={}\n",
    "for i,t,v in zip(list(range(trn.shape[1])),trn.T.values,val.T.values):\n",
    "    trn_result[i]=list(stats.linregress(t,y_residual))\n",
    "    val_result[i]=list(stats.linregress(v,y_rtest))\n"
   ]
  },
  {
   "cell_type": "code",
   "execution_count": 39,
   "metadata": {},
   "outputs": [],
   "source": [
    "def pd_gwas(gwas,plink,val_gwas):\n",
    "    snps_gwas=pd.DataFrame(gwas)\n",
    "    snp_pv_idx=list(np.argsort(snps_gwas.iloc[3,:]))\n",
    "    snps_gwas=snps_gwas.T\n",
    "    snps_gwas.columns=['slope', 'intercept', 'rvalue', 'pvalue', 'stderr']\n",
    "    snps_val_gwas=pd.DataFrame(val_gwas).T\n",
    "    snps_val_gwas.columns=['slope', 'intercept', 'rvalue', 'pvalue', 'stderr']\n",
    "    \n",
    "    snps_gwas['valp']=snps_val_gwas.pvalue\n",
    "    snps_gwas=snps_gwas.iloc[snp_pv_idx,:]\n",
    "    snps_gwas['prank'] = snp_pv_idx\n",
    "    new_plink=plink_slice(plink,snp_pv_idx)\n",
    "    snps_gwas.index = list(new_plink[0].snp)\n",
    "    return snps_gwas\n",
    "    "
   ]
  },
  {
   "cell_type": "code",
   "execution_count": 40,
   "metadata": {},
   "outputs": [],
   "source": [
    "tmp = pd_gwas(trn_result,tz_sub,val_result)"
   ]
  },
  {
   "cell_type": "code",
   "execution_count": 43,
   "metadata": {},
   "outputs": [
    {
     "data": {
      "text/html": [
       "<div>\n",
       "<style scoped>\n",
       "    .dataframe tbody tr th:only-of-type {\n",
       "        vertical-align: middle;\n",
       "    }\n",
       "\n",
       "    .dataframe tbody tr th {\n",
       "        vertical-align: top;\n",
       "    }\n",
       "\n",
       "    .dataframe thead th {\n",
       "        text-align: right;\n",
       "    }\n",
       "</style>\n",
       "<table border=\"1\" class=\"dataframe\">\n",
       "  <thead>\n",
       "    <tr style=\"text-align: right;\">\n",
       "      <th></th>\n",
       "      <th>slope</th>\n",
       "      <th>intercept</th>\n",
       "      <th>rvalue</th>\n",
       "      <th>pvalue</th>\n",
       "      <th>stderr</th>\n",
       "      <th>valp</th>\n",
       "      <th>prank</th>\n",
       "    </tr>\n",
       "  </thead>\n",
       "  <tbody>\n",
       "    <tr>\n",
       "      <th>rs710839</th>\n",
       "      <td>-1.026587</td>\n",
       "      <td>1.695246</td>\n",
       "      <td>-0.101594</td>\n",
       "      <td>0.000002</td>\n",
       "      <td>0.214565</td>\n",
       "      <td>0.048868</td>\n",
       "      <td>169458</td>\n",
       "    </tr>\n",
       "    <tr>\n",
       "      <th>kgp5403113</th>\n",
       "      <td>0.794079</td>\n",
       "      <td>-0.986002</td>\n",
       "      <td>0.099140</td>\n",
       "      <td>0.000003</td>\n",
       "      <td>0.170118</td>\n",
       "      <td>0.037357</td>\n",
       "      <td>599101</td>\n",
       "    </tr>\n",
       "    <tr>\n",
       "      <th>rs13837</th>\n",
       "      <td>0.836877</td>\n",
       "      <td>-1.210557</td>\n",
       "      <td>0.096648</td>\n",
       "      <td>0.000006</td>\n",
       "      <td>0.183955</td>\n",
       "      <td>0.035125</td>\n",
       "      <td>176333</td>\n",
       "    </tr>\n",
       "    <tr>\n",
       "      <th>kgp11672887</th>\n",
       "      <td>-1.011053</td>\n",
       "      <td>1.685242</td>\n",
       "      <td>-0.094454</td>\n",
       "      <td>0.000009</td>\n",
       "      <td>0.227453</td>\n",
       "      <td>0.049819</td>\n",
       "      <td>169475</td>\n",
       "    </tr>\n",
       "    <tr>\n",
       "      <th>kgp1942428</th>\n",
       "      <td>0.823122</td>\n",
       "      <td>-1.229625</td>\n",
       "      <td>0.091671</td>\n",
       "      <td>0.000017</td>\n",
       "      <td>0.190847</td>\n",
       "      <td>0.043223</td>\n",
       "      <td>59802</td>\n",
       "    </tr>\n",
       "    <tr>\n",
       "      <th>rs7287557</th>\n",
       "      <td>0.928266</td>\n",
       "      <td>-1.597952</td>\n",
       "      <td>0.082958</td>\n",
       "      <td>0.000099</td>\n",
       "      <td>0.238011</td>\n",
       "      <td>0.024128</td>\n",
       "      <td>659728</td>\n",
       "    </tr>\n",
       "    <tr>\n",
       "      <th>rs924164</th>\n",
       "      <td>0.660176</td>\n",
       "      <td>-0.802908</td>\n",
       "      <td>0.081082</td>\n",
       "      <td>0.000142</td>\n",
       "      <td>0.173216</td>\n",
       "      <td>0.023933</td>\n",
       "      <td>340825</td>\n",
       "    </tr>\n",
       "    <tr>\n",
       "      <th>rs13440292</th>\n",
       "      <td>0.831306</td>\n",
       "      <td>-1.375420</td>\n",
       "      <td>0.080015</td>\n",
       "      <td>0.000174</td>\n",
       "      <td>0.221044</td>\n",
       "      <td>0.035278</td>\n",
       "      <td>372832</td>\n",
       "    </tr>\n",
       "    <tr>\n",
       "      <th>kgp4088554</th>\n",
       "      <td>0.638954</td>\n",
       "      <td>-0.782334</td>\n",
       "      <td>0.079462</td>\n",
       "      <td>0.000193</td>\n",
       "      <td>0.171087</td>\n",
       "      <td>0.018391</td>\n",
       "      <td>340814</td>\n",
       "    </tr>\n",
       "    <tr>\n",
       "      <th>kgp1631988</th>\n",
       "      <td>-0.746402</td>\n",
       "      <td>1.164958</td>\n",
       "      <td>-0.079103</td>\n",
       "      <td>0.000206</td>\n",
       "      <td>0.200771</td>\n",
       "      <td>0.030202</td>\n",
       "      <td>560329</td>\n",
       "    </tr>\n",
       "    <tr>\n",
       "      <th>kgp3784449</th>\n",
       "      <td>-0.735678</td>\n",
       "      <td>1.123441</td>\n",
       "      <td>-0.079101</td>\n",
       "      <td>0.000206</td>\n",
       "      <td>0.197890</td>\n",
       "      <td>0.047131</td>\n",
       "      <td>86653</td>\n",
       "    </tr>\n",
       "    <tr>\n",
       "      <th>rs6734194</th>\n",
       "      <td>-0.719298</td>\n",
       "      <td>1.087624</td>\n",
       "      <td>-0.079049</td>\n",
       "      <td>0.000208</td>\n",
       "      <td>0.193612</td>\n",
       "      <td>0.010704</td>\n",
       "      <td>86650</td>\n",
       "    </tr>\n",
       "    <tr>\n",
       "      <th>rs7781896</th>\n",
       "      <td>0.980496</td>\n",
       "      <td>-1.745434</td>\n",
       "      <td>0.078947</td>\n",
       "      <td>0.000212</td>\n",
       "      <td>0.264261</td>\n",
       "      <td>0.042484</td>\n",
       "      <td>309123</td>\n",
       "    </tr>\n",
       "    <tr>\n",
       "      <th>rs7671048</th>\n",
       "      <td>-0.744450</td>\n",
       "      <td>1.147002</td>\n",
       "      <td>-0.078920</td>\n",
       "      <td>0.000213</td>\n",
       "      <td>0.200713</td>\n",
       "      <td>0.005700</td>\n",
       "      <td>187309</td>\n",
       "    </tr>\n",
       "    <tr>\n",
       "      <th>rs2304558</th>\n",
       "      <td>-0.940453</td>\n",
       "      <td>1.653606</td>\n",
       "      <td>-0.078234</td>\n",
       "      <td>0.000242</td>\n",
       "      <td>0.255796</td>\n",
       "      <td>0.004414</td>\n",
       "      <td>86652</td>\n",
       "    </tr>\n",
       "    <tr>\n",
       "      <th>rs2327457</th>\n",
       "      <td>-0.928894</td>\n",
       "      <td>1.653575</td>\n",
       "      <td>-0.077936</td>\n",
       "      <td>0.000256</td>\n",
       "      <td>0.253624</td>\n",
       "      <td>0.026337</td>\n",
       "      <td>268838</td>\n",
       "    </tr>\n",
       "    <tr>\n",
       "      <th>rs7698598</th>\n",
       "      <td>0.850452</td>\n",
       "      <td>-1.429936</td>\n",
       "      <td>0.077893</td>\n",
       "      <td>0.000258</td>\n",
       "      <td>0.232335</td>\n",
       "      <td>0.030734</td>\n",
       "      <td>176332</td>\n",
       "    </tr>\n",
       "    <tr>\n",
       "      <th>kgp4135620</th>\n",
       "      <td>-0.963354</td>\n",
       "      <td>1.714043</td>\n",
       "      <td>-0.077665</td>\n",
       "      <td>0.000269</td>\n",
       "      <td>0.263954</td>\n",
       "      <td>0.000571</td>\n",
       "      <td>521499</td>\n",
       "    </tr>\n",
       "    <tr>\n",
       "      <th>kgp6984886</th>\n",
       "      <td>0.924583</td>\n",
       "      <td>-1.626543</td>\n",
       "      <td>0.077639</td>\n",
       "      <td>0.000270</td>\n",
       "      <td>0.253416</td>\n",
       "      <td>0.014242</td>\n",
       "      <td>126970</td>\n",
       "    </tr>\n",
       "    <tr>\n",
       "      <th>kgp10482756</th>\n",
       "      <td>-0.746394</td>\n",
       "      <td>1.163587</td>\n",
       "      <td>-0.077565</td>\n",
       "      <td>0.000274</td>\n",
       "      <td>0.204775</td>\n",
       "      <td>0.000432</td>\n",
       "      <td>187310</td>\n",
       "    </tr>\n",
       "    <tr>\n",
       "      <th>rs2276677</th>\n",
       "      <td>0.806306</td>\n",
       "      <td>-1.338827</td>\n",
       "      <td>0.077480</td>\n",
       "      <td>0.000278</td>\n",
       "      <td>0.221455</td>\n",
       "      <td>0.029292</td>\n",
       "      <td>96472</td>\n",
       "    </tr>\n",
       "    <tr>\n",
       "      <th>rs181455</th>\n",
       "      <td>-0.840217</td>\n",
       "      <td>1.419610</td>\n",
       "      <td>-0.077178</td>\n",
       "      <td>0.000294</td>\n",
       "      <td>0.231677</td>\n",
       "      <td>0.038049</td>\n",
       "      <td>519797</td>\n",
       "    </tr>\n",
       "    <tr>\n",
       "      <th>kgp7730121</th>\n",
       "      <td>-0.826407</td>\n",
       "      <td>1.392893</td>\n",
       "      <td>-0.077175</td>\n",
       "      <td>0.000294</td>\n",
       "      <td>0.227878</td>\n",
       "      <td>0.023303</td>\n",
       "      <td>496865</td>\n",
       "    </tr>\n",
       "    <tr>\n",
       "      <th>rs2660035</th>\n",
       "      <td>0.962040</td>\n",
       "      <td>-1.755056</td>\n",
       "      <td>0.077055</td>\n",
       "      <td>0.000300</td>\n",
       "      <td>0.265694</td>\n",
       "      <td>0.012137</td>\n",
       "      <td>398914</td>\n",
       "    </tr>\n",
       "    <tr>\n",
       "      <th>rs2555674</th>\n",
       "      <td>-0.638392</td>\n",
       "      <td>0.876082</td>\n",
       "      <td>-0.075977</td>\n",
       "      <td>0.000365</td>\n",
       "      <td>0.178827</td>\n",
       "      <td>0.000859</td>\n",
       "      <td>187300</td>\n",
       "    </tr>\n",
       "    <tr>\n",
       "      <th>rs1681630</th>\n",
       "      <td>-0.599813</td>\n",
       "      <td>0.744783</td>\n",
       "      <td>-0.075447</td>\n",
       "      <td>0.000401</td>\n",
       "      <td>0.169207</td>\n",
       "      <td>0.018386</td>\n",
       "      <td>430152</td>\n",
       "    </tr>\n",
       "    <tr>\n",
       "      <th>rs12368662</th>\n",
       "      <td>0.676575</td>\n",
       "      <td>-0.999003</td>\n",
       "      <td>0.075300</td>\n",
       "      <td>0.000412</td>\n",
       "      <td>0.191236</td>\n",
       "      <td>0.033514</td>\n",
       "      <td>460849</td>\n",
       "    </tr>\n",
       "    <tr>\n",
       "      <th>kgp5773782</th>\n",
       "      <td>-1.084310</td>\n",
       "      <td>1.997854</td>\n",
       "      <td>-0.075084</td>\n",
       "      <td>0.000428</td>\n",
       "      <td>0.307370</td>\n",
       "      <td>0.001429</td>\n",
       "      <td>163707</td>\n",
       "    </tr>\n",
       "    <tr>\n",
       "      <th>kgp9859647</th>\n",
       "      <td>-0.654650</td>\n",
       "      <td>0.901969</td>\n",
       "      <td>-0.074998</td>\n",
       "      <td>0.000434</td>\n",
       "      <td>0.185788</td>\n",
       "      <td>0.041997</td>\n",
       "      <td>116959</td>\n",
       "    </tr>\n",
       "    <tr>\n",
       "      <th>rs11027822</th>\n",
       "      <td>0.753967</td>\n",
       "      <td>-1.237507</td>\n",
       "      <td>0.074973</td>\n",
       "      <td>0.000436</td>\n",
       "      <td>0.214046</td>\n",
       "      <td>0.043023</td>\n",
       "      <td>424970</td>\n",
       "    </tr>\n",
       "    <tr>\n",
       "      <th>...</th>\n",
       "      <td>...</td>\n",
       "      <td>...</td>\n",
       "      <td>...</td>\n",
       "      <td>...</td>\n",
       "      <td>...</td>\n",
       "      <td>...</td>\n",
       "      <td>...</td>\n",
       "    </tr>\n",
       "    <tr>\n",
       "      <th>kgp9074716</th>\n",
       "      <td>-0.580622</td>\n",
       "      <td>1.026461</td>\n",
       "      <td>-0.048247</td>\n",
       "      <td>0.023731</td>\n",
       "      <td>0.256569</td>\n",
       "      <td>0.022471</td>\n",
       "      <td>231365</td>\n",
       "    </tr>\n",
       "    <tr>\n",
       "      <th>rs4141161</th>\n",
       "      <td>0.388279</td>\n",
       "      <td>-0.435113</td>\n",
       "      <td>0.048211</td>\n",
       "      <td>0.023835</td>\n",
       "      <td>0.171702</td>\n",
       "      <td>0.037613</td>\n",
       "      <td>589060</td>\n",
       "    </tr>\n",
       "    <tr>\n",
       "      <th>rs218984</th>\n",
       "      <td>0.400125</td>\n",
       "      <td>-0.526519</td>\n",
       "      <td>0.048191</td>\n",
       "      <td>0.023894</td>\n",
       "      <td>0.177015</td>\n",
       "      <td>0.006580</td>\n",
       "      <td>9654</td>\n",
       "    </tr>\n",
       "    <tr>\n",
       "      <th>rs1035149</th>\n",
       "      <td>-0.558033</td>\n",
       "      <td>0.961889</td>\n",
       "      <td>-0.048186</td>\n",
       "      <td>0.023906</td>\n",
       "      <td>0.246895</td>\n",
       "      <td>0.022299</td>\n",
       "      <td>288645</td>\n",
       "    </tr>\n",
       "    <tr>\n",
       "      <th>rs6772028</th>\n",
       "      <td>-0.668384</td>\n",
       "      <td>1.228159</td>\n",
       "      <td>-0.048185</td>\n",
       "      <td>0.023910</td>\n",
       "      <td>0.295726</td>\n",
       "      <td>0.019694</td>\n",
       "      <td>146324</td>\n",
       "    </tr>\n",
       "    <tr>\n",
       "      <th>rs10183967</th>\n",
       "      <td>-0.524255</td>\n",
       "      <td>0.891495</td>\n",
       "      <td>-0.048182</td>\n",
       "      <td>0.023919</td>\n",
       "      <td>0.231972</td>\n",
       "      <td>0.027121</td>\n",
       "      <td>72106</td>\n",
       "    </tr>\n",
       "    <tr>\n",
       "      <th>rs1541587</th>\n",
       "      <td>0.388442</td>\n",
       "      <td>-0.486747</td>\n",
       "      <td>0.048146</td>\n",
       "      <td>0.024026</td>\n",
       "      <td>0.172008</td>\n",
       "      <td>0.001628</td>\n",
       "      <td>455197</td>\n",
       "    </tr>\n",
       "    <tr>\n",
       "      <th>kgp11067413</th>\n",
       "      <td>0.389692</td>\n",
       "      <td>-0.464366</td>\n",
       "      <td>0.048140</td>\n",
       "      <td>0.024043</td>\n",
       "      <td>0.172582</td>\n",
       "      <td>0.013673</td>\n",
       "      <td>573819</td>\n",
       "    </tr>\n",
       "    <tr>\n",
       "      <th>rs2071431</th>\n",
       "      <td>-0.395318</td>\n",
       "      <td>0.517315</td>\n",
       "      <td>-0.048137</td>\n",
       "      <td>0.024050</td>\n",
       "      <td>0.175083</td>\n",
       "      <td>0.032646</td>\n",
       "      <td>657833</td>\n",
       "    </tr>\n",
       "    <tr>\n",
       "      <th>rs2279350</th>\n",
       "      <td>0.474755</td>\n",
       "      <td>-0.756972</td>\n",
       "      <td>0.048118</td>\n",
       "      <td>0.024106</td>\n",
       "      <td>0.210347</td>\n",
       "      <td>0.046958</td>\n",
       "      <td>573702</td>\n",
       "    </tr>\n",
       "    <tr>\n",
       "      <th>rs4642381</th>\n",
       "      <td>-0.450168</td>\n",
       "      <td>0.706909</td>\n",
       "      <td>-0.048118</td>\n",
       "      <td>0.024106</td>\n",
       "      <td>0.199454</td>\n",
       "      <td>0.046962</td>\n",
       "      <td>200168</td>\n",
       "    </tr>\n",
       "    <tr>\n",
       "      <th>rs10896717</th>\n",
       "      <td>-0.613406</td>\n",
       "      <td>1.093353</td>\n",
       "      <td>-0.048101</td>\n",
       "      <td>0.024157</td>\n",
       "      <td>0.271877</td>\n",
       "      <td>0.012040</td>\n",
       "      <td>430868</td>\n",
       "    </tr>\n",
       "    <tr>\n",
       "      <th>rs5930521</th>\n",
       "      <td>-0.335405</td>\n",
       "      <td>0.403647</td>\n",
       "      <td>-0.048089</td>\n",
       "      <td>0.024193</td>\n",
       "      <td>0.148699</td>\n",
       "      <td>0.002117</td>\n",
       "      <td>680233</td>\n",
       "    </tr>\n",
       "    <tr>\n",
       "      <th>rs442319</th>\n",
       "      <td>-0.412357</td>\n",
       "      <td>0.570018</td>\n",
       "      <td>-0.048087</td>\n",
       "      <td>0.024200</td>\n",
       "      <td>0.182823</td>\n",
       "      <td>0.011059</td>\n",
       "      <td>582001</td>\n",
       "    </tr>\n",
       "    <tr>\n",
       "      <th>kgp5556493</th>\n",
       "      <td>-0.399522</td>\n",
       "      <td>0.513177</td>\n",
       "      <td>-0.048080</td>\n",
       "      <td>0.024219</td>\n",
       "      <td>0.177156</td>\n",
       "      <td>0.004692</td>\n",
       "      <td>10356</td>\n",
       "    </tr>\n",
       "    <tr>\n",
       "      <th>rs1579819</th>\n",
       "      <td>-0.518939</td>\n",
       "      <td>0.878204</td>\n",
       "      <td>-0.048067</td>\n",
       "      <td>0.024258</td>\n",
       "      <td>0.230171</td>\n",
       "      <td>0.017824</td>\n",
       "      <td>137617</td>\n",
       "    </tr>\n",
       "    <tr>\n",
       "      <th>rs6118505</th>\n",
       "      <td>-0.389536</td>\n",
       "      <td>0.518081</td>\n",
       "      <td>-0.048061</td>\n",
       "      <td>0.024275</td>\n",
       "      <td>0.172796</td>\n",
       "      <td>0.012116</td>\n",
       "      <td>632357</td>\n",
       "    </tr>\n",
       "    <tr>\n",
       "      <th>rs7140847</th>\n",
       "      <td>0.372690</td>\n",
       "      <td>-0.401697</td>\n",
       "      <td>0.048057</td>\n",
       "      <td>0.024287</td>\n",
       "      <td>0.165337</td>\n",
       "      <td>0.012407</td>\n",
       "      <td>522215</td>\n",
       "    </tr>\n",
       "    <tr>\n",
       "      <th>rs6907655</th>\n",
       "      <td>0.817931</td>\n",
       "      <td>-1.539810</td>\n",
       "      <td>0.048048</td>\n",
       "      <td>0.024312</td>\n",
       "      <td>0.362926</td>\n",
       "      <td>0.009358</td>\n",
       "      <td>271739</td>\n",
       "    </tr>\n",
       "    <tr>\n",
       "      <th>kgp5622464</th>\n",
       "      <td>0.797299</td>\n",
       "      <td>-1.504598</td>\n",
       "      <td>0.048043</td>\n",
       "      <td>0.024328</td>\n",
       "      <td>0.353809</td>\n",
       "      <td>0.021294</td>\n",
       "      <td>595365</td>\n",
       "    </tr>\n",
       "    <tr>\n",
       "      <th>rs9659997</th>\n",
       "      <td>-0.477891</td>\n",
       "      <td>0.777198</td>\n",
       "      <td>-0.048039</td>\n",
       "      <td>0.024340</td>\n",
       "      <td>0.212086</td>\n",
       "      <td>0.047750</td>\n",
       "      <td>5717</td>\n",
       "    </tr>\n",
       "    <tr>\n",
       "      <th>rs9540832</th>\n",
       "      <td>-0.431340</td>\n",
       "      <td>0.645145</td>\n",
       "      <td>-0.048039</td>\n",
       "      <td>0.024340</td>\n",
       "      <td>0.191428</td>\n",
       "      <td>0.040740</td>\n",
       "      <td>494722</td>\n",
       "    </tr>\n",
       "    <tr>\n",
       "      <th>kgp13607830</th>\n",
       "      <td>-0.413559</td>\n",
       "      <td>0.587680</td>\n",
       "      <td>-0.048037</td>\n",
       "      <td>0.024346</td>\n",
       "      <td>0.183544</td>\n",
       "      <td>0.047954</td>\n",
       "      <td>286140</td>\n",
       "    </tr>\n",
       "    <tr>\n",
       "      <th>rs12576062</th>\n",
       "      <td>0.695741</td>\n",
       "      <td>-1.281912</td>\n",
       "      <td>0.048030</td>\n",
       "      <td>0.024368</td>\n",
       "      <td>0.308829</td>\n",
       "      <td>0.034817</td>\n",
       "      <td>442401</td>\n",
       "    </tr>\n",
       "    <tr>\n",
       "      <th>rs1397481</th>\n",
       "      <td>-0.374566</td>\n",
       "      <td>0.430487</td>\n",
       "      <td>-0.048029</td>\n",
       "      <td>0.024369</td>\n",
       "      <td>0.166266</td>\n",
       "      <td>0.041192</td>\n",
       "      <td>96456</td>\n",
       "    </tr>\n",
       "    <tr>\n",
       "      <th>rs10487038</th>\n",
       "      <td>0.376883</td>\n",
       "      <td>-0.430748</td>\n",
       "      <td>0.048026</td>\n",
       "      <td>0.024379</td>\n",
       "      <td>0.167306</td>\n",
       "      <td>0.041840</td>\n",
       "      <td>300296</td>\n",
       "    </tr>\n",
       "    <tr>\n",
       "      <th>rs16913417</th>\n",
       "      <td>-0.385672</td>\n",
       "      <td>0.484329</td>\n",
       "      <td>-0.048006</td>\n",
       "      <td>0.024440</td>\n",
       "      <td>0.171281</td>\n",
       "      <td>0.022445</td>\n",
       "      <td>397293</td>\n",
       "    </tr>\n",
       "    <tr>\n",
       "      <th>rs11146986</th>\n",
       "      <td>0.642607</td>\n",
       "      <td>-1.168216</td>\n",
       "      <td>0.048005</td>\n",
       "      <td>0.024441</td>\n",
       "      <td>0.285390</td>\n",
       "      <td>0.023851</td>\n",
       "      <td>482709</td>\n",
       "    </tr>\n",
       "    <tr>\n",
       "      <th>rs1951419</th>\n",
       "      <td>-0.413259</td>\n",
       "      <td>0.582174</td>\n",
       "      <td>-0.047987</td>\n",
       "      <td>0.024496</td>\n",
       "      <td>0.183604</td>\n",
       "      <td>0.049257</td>\n",
       "      <td>508212</td>\n",
       "    </tr>\n",
       "    <tr>\n",
       "      <th>rs6129003</th>\n",
       "      <td>-0.492013</td>\n",
       "      <td>0.810467</td>\n",
       "      <td>-0.047983</td>\n",
       "      <td>0.024508</td>\n",
       "      <td>0.218611</td>\n",
       "      <td>0.035156</td>\n",
       "      <td>645106</td>\n",
       "    </tr>\n",
       "  </tbody>\n",
       "</table>\n",
       "<p>1000 rows × 7 columns</p>\n",
       "</div>"
      ],
      "text/plain": [
       "                slope  intercept    rvalue    pvalue    stderr      valp  \\\n",
       "rs710839    -1.026587   1.695246 -0.101594  0.000002  0.214565  0.048868   \n",
       "kgp5403113   0.794079  -0.986002  0.099140  0.000003  0.170118  0.037357   \n",
       "rs13837      0.836877  -1.210557  0.096648  0.000006  0.183955  0.035125   \n",
       "kgp11672887 -1.011053   1.685242 -0.094454  0.000009  0.227453  0.049819   \n",
       "kgp1942428   0.823122  -1.229625  0.091671  0.000017  0.190847  0.043223   \n",
       "rs7287557    0.928266  -1.597952  0.082958  0.000099  0.238011  0.024128   \n",
       "rs924164     0.660176  -0.802908  0.081082  0.000142  0.173216  0.023933   \n",
       "rs13440292   0.831306  -1.375420  0.080015  0.000174  0.221044  0.035278   \n",
       "kgp4088554   0.638954  -0.782334  0.079462  0.000193  0.171087  0.018391   \n",
       "kgp1631988  -0.746402   1.164958 -0.079103  0.000206  0.200771  0.030202   \n",
       "kgp3784449  -0.735678   1.123441 -0.079101  0.000206  0.197890  0.047131   \n",
       "rs6734194   -0.719298   1.087624 -0.079049  0.000208  0.193612  0.010704   \n",
       "rs7781896    0.980496  -1.745434  0.078947  0.000212  0.264261  0.042484   \n",
       "rs7671048   -0.744450   1.147002 -0.078920  0.000213  0.200713  0.005700   \n",
       "rs2304558   -0.940453   1.653606 -0.078234  0.000242  0.255796  0.004414   \n",
       "rs2327457   -0.928894   1.653575 -0.077936  0.000256  0.253624  0.026337   \n",
       "rs7698598    0.850452  -1.429936  0.077893  0.000258  0.232335  0.030734   \n",
       "kgp4135620  -0.963354   1.714043 -0.077665  0.000269  0.263954  0.000571   \n",
       "kgp6984886   0.924583  -1.626543  0.077639  0.000270  0.253416  0.014242   \n",
       "kgp10482756 -0.746394   1.163587 -0.077565  0.000274  0.204775  0.000432   \n",
       "rs2276677    0.806306  -1.338827  0.077480  0.000278  0.221455  0.029292   \n",
       "rs181455    -0.840217   1.419610 -0.077178  0.000294  0.231677  0.038049   \n",
       "kgp7730121  -0.826407   1.392893 -0.077175  0.000294  0.227878  0.023303   \n",
       "rs2660035    0.962040  -1.755056  0.077055  0.000300  0.265694  0.012137   \n",
       "rs2555674   -0.638392   0.876082 -0.075977  0.000365  0.178827  0.000859   \n",
       "rs1681630   -0.599813   0.744783 -0.075447  0.000401  0.169207  0.018386   \n",
       "rs12368662   0.676575  -0.999003  0.075300  0.000412  0.191236  0.033514   \n",
       "kgp5773782  -1.084310   1.997854 -0.075084  0.000428  0.307370  0.001429   \n",
       "kgp9859647  -0.654650   0.901969 -0.074998  0.000434  0.185788  0.041997   \n",
       "rs11027822   0.753967  -1.237507  0.074973  0.000436  0.214046  0.043023   \n",
       "...               ...        ...       ...       ...       ...       ...   \n",
       "kgp9074716  -0.580622   1.026461 -0.048247  0.023731  0.256569  0.022471   \n",
       "rs4141161    0.388279  -0.435113  0.048211  0.023835  0.171702  0.037613   \n",
       "rs218984     0.400125  -0.526519  0.048191  0.023894  0.177015  0.006580   \n",
       "rs1035149   -0.558033   0.961889 -0.048186  0.023906  0.246895  0.022299   \n",
       "rs6772028   -0.668384   1.228159 -0.048185  0.023910  0.295726  0.019694   \n",
       "rs10183967  -0.524255   0.891495 -0.048182  0.023919  0.231972  0.027121   \n",
       "rs1541587    0.388442  -0.486747  0.048146  0.024026  0.172008  0.001628   \n",
       "kgp11067413  0.389692  -0.464366  0.048140  0.024043  0.172582  0.013673   \n",
       "rs2071431   -0.395318   0.517315 -0.048137  0.024050  0.175083  0.032646   \n",
       "rs2279350    0.474755  -0.756972  0.048118  0.024106  0.210347  0.046958   \n",
       "rs4642381   -0.450168   0.706909 -0.048118  0.024106  0.199454  0.046962   \n",
       "rs10896717  -0.613406   1.093353 -0.048101  0.024157  0.271877  0.012040   \n",
       "rs5930521   -0.335405   0.403647 -0.048089  0.024193  0.148699  0.002117   \n",
       "rs442319    -0.412357   0.570018 -0.048087  0.024200  0.182823  0.011059   \n",
       "kgp5556493  -0.399522   0.513177 -0.048080  0.024219  0.177156  0.004692   \n",
       "rs1579819   -0.518939   0.878204 -0.048067  0.024258  0.230171  0.017824   \n",
       "rs6118505   -0.389536   0.518081 -0.048061  0.024275  0.172796  0.012116   \n",
       "rs7140847    0.372690  -0.401697  0.048057  0.024287  0.165337  0.012407   \n",
       "rs6907655    0.817931  -1.539810  0.048048  0.024312  0.362926  0.009358   \n",
       "kgp5622464   0.797299  -1.504598  0.048043  0.024328  0.353809  0.021294   \n",
       "rs9659997   -0.477891   0.777198 -0.048039  0.024340  0.212086  0.047750   \n",
       "rs9540832   -0.431340   0.645145 -0.048039  0.024340  0.191428  0.040740   \n",
       "kgp13607830 -0.413559   0.587680 -0.048037  0.024346  0.183544  0.047954   \n",
       "rs12576062   0.695741  -1.281912  0.048030  0.024368  0.308829  0.034817   \n",
       "rs1397481   -0.374566   0.430487 -0.048029  0.024369  0.166266  0.041192   \n",
       "rs10487038   0.376883  -0.430748  0.048026  0.024379  0.167306  0.041840   \n",
       "rs16913417  -0.385672   0.484329 -0.048006  0.024440  0.171281  0.022445   \n",
       "rs11146986   0.642607  -1.168216  0.048005  0.024441  0.285390  0.023851   \n",
       "rs1951419   -0.413259   0.582174 -0.047987  0.024496  0.183604  0.049257   \n",
       "rs6129003   -0.492013   0.810467 -0.047983  0.024508  0.218611  0.035156   \n",
       "\n",
       "              prank  \n",
       "rs710839     169458  \n",
       "kgp5403113   599101  \n",
       "rs13837      176333  \n",
       "kgp11672887  169475  \n",
       "kgp1942428    59802  \n",
       "rs7287557    659728  \n",
       "rs924164     340825  \n",
       "rs13440292   372832  \n",
       "kgp4088554   340814  \n",
       "kgp1631988   560329  \n",
       "kgp3784449    86653  \n",
       "rs6734194     86650  \n",
       "rs7781896    309123  \n",
       "rs7671048    187309  \n",
       "rs2304558     86652  \n",
       "rs2327457    268838  \n",
       "rs7698598    176332  \n",
       "kgp4135620   521499  \n",
       "kgp6984886   126970  \n",
       "kgp10482756  187310  \n",
       "rs2276677     96472  \n",
       "rs181455     519797  \n",
       "kgp7730121   496865  \n",
       "rs2660035    398914  \n",
       "rs2555674    187300  \n",
       "rs1681630    430152  \n",
       "rs12368662   460849  \n",
       "kgp5773782   163707  \n",
       "kgp9859647   116959  \n",
       "rs11027822   424970  \n",
       "...             ...  \n",
       "kgp9074716   231365  \n",
       "rs4141161    589060  \n",
       "rs218984       9654  \n",
       "rs1035149    288645  \n",
       "rs6772028    146324  \n",
       "rs10183967    72106  \n",
       "rs1541587    455197  \n",
       "kgp11067413  573819  \n",
       "rs2071431    657833  \n",
       "rs2279350    573702  \n",
       "rs4642381    200168  \n",
       "rs10896717   430868  \n",
       "rs5930521    680233  \n",
       "rs442319     582001  \n",
       "kgp5556493    10356  \n",
       "rs1579819    137617  \n",
       "rs6118505    632357  \n",
       "rs7140847    522215  \n",
       "rs6907655    271739  \n",
       "kgp5622464   595365  \n",
       "rs9659997      5717  \n",
       "rs9540832    494722  \n",
       "kgp13607830  286140  \n",
       "rs12576062   442401  \n",
       "rs1397481     96456  \n",
       "rs10487038   300296  \n",
       "rs16913417   397293  \n",
       "rs11146986   482709  \n",
       "rs1951419    508212  \n",
       "rs6129003    645106  \n",
       "\n",
       "[1000 rows x 7 columns]"
      ]
     },
     "execution_count": 43,
     "metadata": {},
     "output_type": "execute_result"
    }
   ],
   "source": [
    "tmp.loc[tmp.valp<0.05,:].head(1000)"
   ]
  },
  {
   "cell_type": "code",
   "execution_count": 62,
   "metadata": {},
   "outputs": [],
   "source": [
    "save_gwas(trn_result,tz_sub,path='TTS_Model/gwas_trn_result.csv')"
   ]
  },
  {
   "cell_type": "code",
   "execution_count": 63,
   "metadata": {},
   "outputs": [],
   "source": [
    "save_gwas(val_result,tz_sub,path='TTS_Model/gwas_val_result.csv')"
   ]
  },
  {
   "cell_type": "code",
   "execution_count": null,
   "metadata": {},
   "outputs": [],
   "source": []
  },
  {
   "cell_type": "code",
   "execution_count": 50,
   "metadata": {},
   "outputs": [],
   "source": [
    "from snp2h import boo2idx"
   ]
  },
  {
   "cell_type": "code",
   "execution_count": 51,
   "metadata": {},
   "outputs": [],
   "source": [
    "f_trn_idx = boo2idx(y_trn.gender==2)"
   ]
  },
  {
   "cell_type": "code",
   "execution_count": 64,
   "metadata": {},
   "outputs": [],
   "source": [
    "((f_trn,m_trn), (f_ytr,m_ytr)) = split_by_idx(f_trn_idx, trn, y_residual)"
   ]
  },
  {
   "cell_type": "code",
   "execution_count": 65,
   "metadata": {},
   "outputs": [
    {
     "data": {
      "text/plain": [
       "((1416, 684066), (781, 684066))"
      ]
     },
     "execution_count": 65,
     "metadata": {},
     "output_type": "execute_result"
    }
   ],
   "source": [
    "f_trn.shape,m_trn.shape"
   ]
  },
  {
   "cell_type": "code",
   "execution_count": 67,
   "metadata": {},
   "outputs": [],
   "source": [
    "f_trn_result={}\n",
    "m_trn_result={}\n",
    "for i,t,v in zip(list(range(f_trn.shape[1])),f_trn.T,m_trn.T):\n",
    "    f_trn_result[i]=list(stats.linregress(t,f_ytr))\n",
    "    m_trn_result[i]=list(stats.linregress(v,m_ytr))"
   ]
  },
  {
   "cell_type": "code",
   "execution_count": 68,
   "metadata": {},
   "outputs": [],
   "source": [
    "save_gwas(f_trn_result,tz_sub,path='TTS_Model/gwas_trn_result_female.csv')\n",
    "save_gwas(m_trn_result,tz_sub,path='TTS_Model/gwas_trn_result_male.csv')"
   ]
  }
 ],
 "metadata": {
  "kernelspec": {
   "display_name": "Python 3",
   "language": "python",
   "name": "python3"
  },
  "language_info": {
   "codemirror_mode": {
    "name": "ipython",
    "version": 3
   },
   "file_extension": ".py",
   "mimetype": "text/x-python",
   "name": "python",
   "nbconvert_exporter": "python",
   "pygments_lexer": "ipython3",
   "version": "3.6.5"
  }
 },
 "nbformat": 4,
 "nbformat_minor": 2
}
