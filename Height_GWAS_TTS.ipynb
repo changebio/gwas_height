{
 "cells": [
  {
   "cell_type": "markdown",
   "metadata": {},
   "source": [
    "# Height GWAS Separate train and test"
   ]
  },
  {
   "cell_type": "markdown",
   "metadata": {},
   "source": [
    "This is GWAS analysis for tz2014 data to find snps associate with height"
   ]
  },
  {
   "cell_type": "markdown",
   "metadata": {},
   "source": [
    "## 1. Import"
   ]
  },
  {
   "cell_type": "code",
   "execution_count": 1,
   "metadata": {},
   "outputs": [],
   "source": [
    "import parse_inputs\n",
    "\n",
    "from pathlib import Path\n",
    "\n",
    "import numpy as np\n",
    "import pandas as pd\n",
    "from pandas_plink import read_plink\n",
    "\n",
    "from sklearn import linear_model\n",
    "from sklearn.svm import SVR\n",
    "from scipy import stats\n",
    "\n",
    "import matplotlib.pyplot as plt\n",
    "\n",
    "#from ggplot import *\n",
    "PATH=Path('ddat/crowdAI/')\n",
    "TMP_PATH = PATH/'tmp'\n",
    "TMP_PATH.mkdir(exist_ok=True)"
   ]
  },
  {
   "cell_type": "code",
   "execution_count": 2,
   "metadata": {},
   "outputs": [],
   "source": [
    "from sklearn.ensemble import RandomForestRegressor"
   ]
  },
  {
   "cell_type": "code",
   "execution_count": 3,
   "metadata": {},
   "outputs": [],
   "source": [
    "from fastai.structured import *\n",
    "from fastai.column_data import *\n",
    "np.set_printoptions(threshold=50, edgeitems=20)\n",
    "from sklearn import linear_model\n",
    "import random"
   ]
  },
  {
   "cell_type": "markdown",
   "metadata": {},
   "source": [
    "## 2. Load Data"
   ]
  },
  {
   "cell_type": "code",
   "execution_count": 4,
   "metadata": {},
   "outputs": [
    {
     "name": "stderr",
     "output_type": "stream",
     "text": [
      "Mapping files: 100%|██████████| 3/3 [00:02<00:00,  1.18s/it]\n"
     ]
    }
   ],
   "source": [
    "(tz_bim,tz_fam,tz_bed) = read_plink('ddat/crowdAI/all2964/bin_final_strand')"
   ]
  },
  {
   "cell_type": "code",
   "execution_count": 5,
   "metadata": {},
   "outputs": [],
   "source": [
    "tz_maf =  pd.read_csv(PATH/'TZ14_one.frq',delim_whitespace=True)"
   ]
  },
  {
   "cell_type": "code",
   "execution_count": 6,
   "metadata": {},
   "outputs": [],
   "source": [
    "all_meta = pd.read_csv(TMP_PATH/'tz_and_os_meta.csv',index_col=0)"
   ]
  },
  {
   "cell_type": "markdown",
   "metadata": {},
   "source": [
    "## 3. Clean Data"
   ]
  },
  {
   "cell_type": "code",
   "execution_count": 7,
   "metadata": {},
   "outputs": [],
   "source": [
    "def select_snp(arr):\n",
    "    if arr[0]==0 or arr[0]==26:\n",
    "        return 0\n",
    "    elif arr[4]<0.05 or arr[4]>0.95:\n",
    "        return 0\n",
    "    elif arr[2]=='A' and arr[3]=='T':\n",
    "        return 0\n",
    "    elif arr[2]=='T' and arr[3]=='A':\n",
    "        return 0\n",
    "    elif arr[2]=='G' and arr[3]=='C':\n",
    "        return 0\n",
    "    elif arr[2]=='C' and arr[3]=='G':\n",
    "        return 0\n",
    "    else:\n",
    "        return 1"
   ]
  },
  {
   "cell_type": "code",
   "execution_count": 8,
   "metadata": {},
   "outputs": [],
   "source": [
    "def plink_slice(p,pb=None,pf=None):\n",
    "    \"\"\"\n",
    "    p: list of bim, fam, bed\n",
    "    pb: index of bim\n",
    "    pf: index of fam\n",
    "    \"\"\"\n",
    "    (bim,fam,bed)=p\n",
    "    if pb:\n",
    "        bim = bim.iloc[pb]\n",
    "        bed = bed[pb,:]\n",
    "    if pf:\n",
    "        fam = fam.iloc[pf]\n",
    "        bed = bed[:,pf]\n",
    "    return(bim,fam,bed)"
   ]
  },
  {
   "cell_type": "code",
   "execution_count": 9,
   "metadata": {},
   "outputs": [],
   "source": [
    "tz_maf_filter = tz_maf.apply(select_snp, axis=1)\n",
    "tz_maf_new=tz_maf.loc[tz_maf_filter==1,]"
   ]
  },
  {
   "cell_type": "code",
   "execution_count": 10,
   "metadata": {},
   "outputs": [],
   "source": [
    "tz_sample_index = [i for i,x in enumerate(tz_fam.iid) if x in list(all_meta.ChipID)]\n",
    "tz_sub=plink_slice((tz_bim,tz_fam,tz_bed),list(tz_maf_new.index),tz_sample_index)"
   ]
  },
  {
   "cell_type": "markdown",
   "metadata": {},
   "source": [
    "## 4. GWAS Model"
   ]
  },
  {
   "cell_type": "markdown",
   "metadata": {},
   "source": [
    "### 4.1 Linear GWAS"
   ]
  },
  {
   "cell_type": "code",
   "execution_count": 11,
   "metadata": {},
   "outputs": [],
   "source": [
    "tz_meta=all_meta.loc[tz_sub[1].iid,]"
   ]
  },
  {
   "cell_type": "code",
   "execution_count": 12,
   "metadata": {},
   "outputs": [
    {
     "name": "stdout",
     "output_type": "stream",
     "text": [
      "2747 2197\n"
     ]
    }
   ],
   "source": [
    "samp_size=len(tz_meta)\n",
    "train_ratio = 0.8\n",
    "train_size = int(samp_size * train_ratio)\n",
    "val_idx = random.sample(range(samp_size), samp_size-train_size)\n",
    "print(samp_size,train_size)"
   ]
  },
  {
   "cell_type": "code",
   "execution_count": 17,
   "metadata": {},
   "outputs": [],
   "source": [
    "pd.Series(val_idx).to_csv('TTS_Model/gwas_val_idx.csv')"
   ]
  },
  {
   "cell_type": "code",
   "execution_count": 18,
   "metadata": {},
   "outputs": [],
   "source": [
    "tz_snps=tz_sub[2].compute()"
   ]
  },
  {
   "cell_type": "code",
   "execution_count": 20,
   "metadata": {},
   "outputs": [],
   "source": [
    "tz_snps = pd.DataFrame(tz_snps)"
   ]
  },
  {
   "cell_type": "code",
   "execution_count": 22,
   "metadata": {},
   "outputs": [],
   "source": [
    "tz_snps.fillna(-1,inplace=True)"
   ]
  },
  {
   "cell_type": "code",
   "execution_count": 25,
   "metadata": {},
   "outputs": [],
   "source": [
    "((val,trn), (y_val,y_trn)) = split_by_idx(val_idx, tz_snps.T.values, tz_meta)"
   ]
  },
  {
   "cell_type": "code",
   "execution_count": 29,
   "metadata": {},
   "outputs": [
    {
     "data": {
      "text/plain": [
       "((550, 684066), (2197, 684066), (550, 8), (2197, 8))"
      ]
     },
     "execution_count": 29,
     "metadata": {},
     "output_type": "execute_result"
    }
   ],
   "source": [
    "val.shape,trn.shape,y_val.shape,y_trn.shape"
   ]
  },
  {
   "cell_type": "code",
   "execution_count": 31,
   "metadata": {},
   "outputs": [
    {
     "data": {
      "text/plain": [
       "208"
      ]
     },
     "execution_count": 31,
     "metadata": {},
     "output_type": "execute_result"
    }
   ],
   "source": [
    "sum(y_val.gender==1)"
   ]
  },
  {
   "cell_type": "code",
   "execution_count": 36,
   "metadata": {},
   "outputs": [],
   "source": [
    "x = y_trn.gender.values\n",
    "y = y_trn.height.values\n",
    "slope, intercept, r_value, p_value, std_err = stats.linregress(x,y)\n",
    "y_residual = y-(intercept + slope*x)\n",
    "y_rtest = y_val.height-(intercept+slope*y_val.gender)"
   ]
  },
  {
   "cell_type": "code",
   "execution_count": 37,
   "metadata": {
    "scrolled": true
   },
   "outputs": [
    {
     "data": {
      "image/png": "[encoded data removed]",
      "text/plain": [
       "<Figure size 432x288 with 1 Axes>"
      ]
     },
     "metadata": {},
     "output_type": "display_data"
    }
   ],
   "source": [
    "plt.hist(y_residual,density=True,alpha=0.5)\n",
    "plt.hist(y_rtest,density=True,alpha=0.5)\n",
    "plt.show()"
   ]
  },
  {
   "cell_type": "code",
   "execution_count": 57,
   "metadata": {},
   "outputs": [],
   "source": [
    "trn_result={}\n",
    "val_result={}\n",
    "for i,t,v in zip(list(range(trn.shape[1])),trn.T,val.T):\n",
    "    trn_result[i]=list(stats.linregress(t,y_residual))\n",
    "    val_result[i]=list(stats.linregress(v,y_rtest))\n"
   ]
  },
  {
   "cell_type": "code",
   "execution_count": 61,
   "metadata": {},
   "outputs": [],
   "source": [
    "def save_gwas(gwas,plink,path=None):\n",
    "    snps_gwas=pd.DataFrame(gwas)\n",
    "    snp_pv_idx=list(np.argsort(snps_gwas.iloc[3,]))\n",
    "    snps_gwas=snps_gwas.iloc[:,snp_pv_idx].T\n",
    "    snps_gwas.columns=['slope', 'intercept', 'rvalue', 'pvalue', 'stderr']\n",
    "    snps_gwas['prank'] = snp_pv_idx\n",
    "    new_plink=plink_slice(plink,snp_pv_idx)\n",
    "    snps_gwas.index = list(new_plink[0].snp)\n",
    "    snps_gwas.to_csv(path)\n",
    "    "
   ]
  },
  {
   "cell_type": "code",
   "execution_count": 62,
   "metadata": {},
   "outputs": [],
   "source": [
    "save_gwas(trn_result,tz_sub,path='TTS_Model/gwas_trn_result.csv')"
   ]
  },
  {
   "cell_type": "code",
   "execution_count": 63,
   "metadata": {},
   "outputs": [],
   "source": [
    "save_gwas(val_result,tz_sub,path='TTS_Model/gwas_val_result.csv')"
   ]
  },
  {
   "cell_type": "code",
   "execution_count": null,
   "metadata": {},
   "outputs": [],
   "source": []
  },
  {
   "cell_type": "code",
   "execution_count": 50,
   "metadata": {},
   "outputs": [],
   "source": [
    "from snp2h import boo2idx"
   ]
  },
  {
   "cell_type": "code",
   "execution_count": 51,
   "metadata": {},
   "outputs": [],
   "source": [
    "f_trn_idx = boo2idx(y_trn.gender==2)"
   ]
  },
  {
   "cell_type": "code",
   "execution_count": 64,
   "metadata": {},
   "outputs": [],
   "source": [
    "((f_trn,m_trn), (f_ytr,m_ytr)) = split_by_idx(f_trn_idx, trn, y_residual)"
   ]
  },
  {
   "cell_type": "code",
   "execution_count": 65,
   "metadata": {},
   "outputs": [
    {
     "data": {
      "text/plain": [
       "((1416, 684066), (781, 684066))"
      ]
     },
     "execution_count": 65,
     "metadata": {},
     "output_type": "execute_result"
    }
   ],
   "source": [
    "f_trn.shape,m_trn.shape"
   ]
  },
  {
   "cell_type": "code",
   "execution_count": 67,
   "metadata": {},
   "outputs": [],
   "source": [
    "f_trn_result={}\n",
    "m_trn_result={}\n",
    "for i,t,v in zip(list(range(f_trn.shape[1])),f_trn.T,m_trn.T):\n",
    "    f_trn_result[i]=list(stats.linregress(t,f_ytr))\n",
    "    m_trn_result[i]=list(stats.linregress(v,m_ytr))"
   ]
  },
  {
   "cell_type": "code",
   "execution_count": 68,
   "metadata": {},
   "outputs": [],
   "source": [
    "save_gwas(f_trn_result,tz_sub,path='TTS_Model/gwas_trn_result_female.csv')\n",
    "save_gwas(m_trn_result,tz_sub,path='TTS_Model/gwas_trn_result_male.csv')"
   ]
  }
 ],
 "metadata": {
  "kernelspec": {
   "display_name": "Python 3",
   "language": "python",
   "name": "python3"
  },
  "language_info": {
   "codemirror_mode": {
    "name": "ipython",
    "version": 3
   },
   "file_extension": ".py",
   "mimetype": "text/x-python",
   "name": "python",
   "nbconvert_exporter": "python",
   "pygments_lexer": "ipython3",
   "version": "3.6.5"
  }
 },
 "nbformat": 4,
 "nbformat_minor": 2
}
