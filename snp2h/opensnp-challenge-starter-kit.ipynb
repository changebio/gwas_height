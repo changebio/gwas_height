{
 "cells": [
  {
   "cell_type": "code",
   "execution_count": 85,
   "metadata": {},
   "outputs": [],
   "source": [
    "import numpy as np\n",
    "import pandas as pd\n",
    "from scipy import stats\n",
    "\n",
    "import matplotlib.pyplot as plt\n",
    "%matplotlib inline\n",
    "\n",
    "from pathlib import Path\n",
    "PATH=Path('ddat/crowdAI/')"
   ]
  },
  {
   "cell_type": "code",
   "execution_count": 26,
   "metadata": {},
   "outputs": [],
   "source": [
    "import numpy as np\n",
    "trn_h = np.load(PATH/'15306e88-6631-4ba7-b1cf-c01ed319b9b5_train_heights.npy')\n",
    "trn_cm = np.load(PATH/'7fb51f6a-ce03-4be5-9c19-0be3333d9122_subset_cm_train.npy')\n",
    "test_cm = np.load(PATH/'7ac1e722-d625-48e6-bc0f-304164a31f61_subset_cm_test.npy')"
   ]
  },
  {
   "cell_type": "code",
   "execution_count": 27,
   "metadata": {
    "scrolled": true
   },
   "outputs": [
    {
     "data": {
      "text/plain": [
       "((784,), (9894, 784), (9894, 137))"
      ]
     },
     "execution_count": 27,
     "metadata": {},
     "output_type": "execute_result"
    }
   ],
   "source": [
    "trn_h.shape,trn_cm.shape,test_cm.shape"
   ]
  },
  {
   "cell_type": "code",
   "execution_count": 86,
   "metadata": {},
   "outputs": [
    {
     "name": "stdout",
     "output_type": "stream",
     "text": [
      "DescribeResult(nobs=784, minmax=(142.24, 203.2), mean=173.21355867346938, variance=110.22950392247897, skewness=0.003018580310472076, kurtosis=-0.7144092919290799)\n",
      "290 379 416 784\n"
     ]
    },
    {
     "data": {
      "text/plain": [
       "(array([  1.,  19.,  97., 113., 127., 173., 121., 107.,  21.,   5.]),\n",
       " array([142.24 , 148.336, 154.432, 160.528, 166.624, 172.72 , 178.816,\n",
       "        184.912, 191.008, 197.104, 203.2  ]),\n",
       " <a list of 10 Patch objects>)"
      ]
     },
     "execution_count": 86,
     "metadata": {},
     "output_type": "execute_result"
    },
    {
     "data": {
      "image/png": "[encoded data removed]",
      "text/plain": [
       "<Figure size 432x288 with 1 Axes>"
      ]
     },
     "metadata": {},
     "output_type": "display_data"
    }
   ],
   "source": [
    "print(stats.describe(trn_h))\n",
    "print(sum(trn_h<170),sum(trn_h<173),sum(trn_h<175),len(trn_h))\n",
    "plt.hist(trn_h)"
   ]
  },
  {
   "cell_type": "code",
   "execution_count": 80,
   "metadata": {},
   "outputs": [],
   "source": [
    "from sklearn import linear_model\n",
    "import numpy as np\n",
    "#Load training data\n",
    "x_train = trn_cm.T\n",
    "y_train = trn_h\n",
    "x_test = test_cm.T\n",
    "\n",
    "#Replace nan values in the training and testing set with an arbitrary number\n",
    "inds = np.where(np.isnan(x_train))\n",
    "x_train[inds] = -100\n",
    "inds = np.where(np.isnan(x_test))\n",
    "x_test[inds] = -100\n",
    "\n",
    "\n",
    "# Instantiate a linear model\n",
    "regr = linear_model.LinearRegression()\n",
    "regr.fit(x_train, y_train)\n",
    "\n",
    "# Predict the heights for the test set\n",
    "heights = regr.predict(x_test)\n",
    "\n",
    "#Convert heights from np.array to a list (to ensure it is JSON serializable)\n",
    "heights = heights.tolist()"
   ]
  },
  {
   "cell_type": "code",
   "execution_count": 50,
   "metadata": {},
   "outputs": [],
   "source": [
    "# Instantiate a linear model\n",
    "regr = linear_model.LinearRegression()\n",
    "regr.fit(x_train, y_train)\n",
    "\n",
    "# Predict the heights for the test set\n",
    "heights = regr.predict(x_test)\n",
    "\n",
    "#Convert heights from np.array to a list (to ensure it is JSON serializable)\n",
    "heights = heights.tolist()"
   ]
  },
  {
   "cell_type": "code",
   "execution_count": 81,
   "metadata": {},
   "outputs": [
    {
     "name": "stdout",
     "output_type": "stream",
     "text": [
      "\u001b[1m\u001b[36mCrowdAI.Event.Authentication\u001b[0m : Authenticating for challenge = \u001b[4m\u001b[1m\u001b[34mOpenSNPChallenge2017\u001b[0m\n",
      "\u001b[1m\u001b[32mCrowdAI.Event.Connection.CONNECTED\u001b[0m\u001b[1m\u001b[32m\u001b[0m\n"
     ]
    },
    {
     "name": "stderr",
     "output_type": "stream",
     "text": [
      "\r",
      "  0% |          |[00:00<?]  ?% /s] "
     ]
    },
    {
     "name": "stdout",
     "output_type": "stream",
     "text": [
      "\u001b[1m\u001b[32mCrowdAI.Event.Authentication.SUCCESS\u001b[0m : \u001b[1m\u001b[32mAuthentication Successful\u001b[0m\n"
     ]
    },
    {
     "name": "stderr",
     "output_type": "stream",
     "text": [
      "\r",
      "          \r",
      "\r",
      "          \r",
      "  0% |          |[00:00<?]  ?% /s] "
     ]
    },
    {
     "name": "stdout",
     "output_type": "stream",
     "text": [
      "\u001b[1m\u001b[33mCrowdAI.Event.Job.ENQUEUED\u001b[0m : 7e46f057-0476-4bdc-b5a9-5a28b1cfdc36\n"
     ]
    },
    {
     "name": "stderr",
     "output_type": "stream",
     "text": [
      "\r",
      "          \r",
      "\r",
      "          \r",
      "  0% |          |[00:00<?]  ?% /s] "
     ]
    },
    {
     "name": "stdout",
     "output_type": "stream",
     "text": [
      "\u001b[1m\u001b[34mCrowdAI.Event.Job.RUNNING\u001b[0m : 7e46f057-0476-4bdc-b5a9-5a28b1cfdc36\n"
     ]
    },
    {
     "name": "stderr",
     "output_type": "stream",
     "text": [
      "100% |██████████|[00:00<00:00]  101.85% /s] \n"
     ]
    },
    {
     "name": "stdout",
     "output_type": "stream",
     "text": [
      "\u001b[1m\u001b[36mCrowdAI.Event.Job.INFO\u001b[0m : (7e46f057-0476-4bdc-b5a9-5a28b1cfdc36) Scores Submitted Successfully ! Coefficient of Determination(R^2) : 0.307562018052 ; MSE : 70.3897709762\n",
      "\u001b[1m\u001b[32mCrowdAI.Event.Job.COMPLETE\u001b[0m : \u001b[1m\u001b[32m7e46f057-0476-4bdc-b5a9-5a28b1cfdc36\u001b[0m\t   🍺 \n"
     ]
    }
   ],
   "source": [
    "import crowdai\n",
    "\n",
    "# Create the challenge object by authentication with crowdAI with your API_KEY\n",
    "challenge = crowdai.Challenge(\"OpenSNPChallenge2017\", \"02f5a9824254b85a068fbdfbb1298b8e\")\n",
    "\n",
    "challenge.submit(heights)\n",
    "challenge.disconnect()\n"
   ]
  },
  {
   "cell_type": "code",
   "execution_count": 82,
   "metadata": {},
   "outputs": [
    {
     "name": "stdout",
     "output_type": "stream",
     "text": [
      "\u001b[1m\u001b[36mCrowdAI.Event.Authentication\u001b[0m : Authenticating for challenge = \u001b[4m\u001b[1m\u001b[34mOpenSNPChallenge2017\u001b[0m\n",
      "\u001b[1m\u001b[32mCrowdAI.Event.Connection.CONNECTED\u001b[0m\u001b[1m\u001b[32m\u001b[0m\n",
      "\u001b[1m\u001b[32mCrowdAI.Event.Authentication.SUCCESS\u001b[0m : \u001b[1m\u001b[32mAuthentication Successful\u001b[0m\n"
     ]
    },
    {
     "name": "stderr",
     "output_type": "stream",
     "text": [
      "  0% |          |[00:00<?]  ?% /s] "
     ]
    },
    {
     "name": "stdout",
     "output_type": "stream",
     "text": [
      "\u001b[1m\u001b[33mCrowdAI.Event.Job.ENQUEUED\u001b[0m : f41dd6a9-edf6-4c37-b81b-3968aa56f09f\n"
     ]
    },
    {
     "name": "stderr",
     "output_type": "stream",
     "text": [
      "\r",
      "          \r",
      "\r",
      "          \r",
      "  0% |          |[00:00<?]  ?% /s] "
     ]
    },
    {
     "name": "stdout",
     "output_type": "stream",
     "text": [
      "\u001b[1m\u001b[34mCrowdAI.Event.Job.RUNNING\u001b[0m : f41dd6a9-edf6-4c37-b81b-3968aa56f09f\n"
     ]
    },
    {
     "name": "stderr",
     "output_type": "stream",
     "text": [
      "100% |██████████|[00:01<00:00]  93.66% /s] \n"
     ]
    },
    {
     "name": "stdout",
     "output_type": "stream",
     "text": [
      "\u001b[1m\u001b[36mCrowdAI.Event.Job.INFO\u001b[0m : (f41dd6a9-edf6-4c37-b81b-3968aa56f09f) Scores Submitted Successfully ! Coefficient of Determination(R^2) : 0.201704860793 ; MSE : 81.1506784509\n",
      "\u001b[1m\u001b[32mCrowdAI.Event.Job.COMPLETE\u001b[0m : \u001b[1m\u001b[32mf41dd6a9-edf6-4c37-b81b-3968aa56f09f\u001b[0m\t   🍺 \n"
     ]
    }
   ],
   "source": [
    "from sklearn.svm import SVR\n",
    "# Create the challenge object by authentication with crowdAI with your API_KEY\n",
    "challenge = crowdai.Challenge(\"OpenSNPChallenge2017\", \"02f5a9824254b85a068fbdfbb1298b8e\")\n",
    "\n",
    "#Load training data\n",
    "x_train = trn_cm.T\n",
    "y_train = trn_h\n",
    "x_test = test_cm.T\n",
    "\n",
    "#Replace nan values in the training and testing set with an arbitrary number\n",
    "inds = np.where(np.isnan(x_train))\n",
    "x_train[inds] = -100\n",
    "inds = np.where(np.isnan(x_test))\n",
    "x_test[inds] = -100\n",
    "\n",
    "\n",
    "# Instantiate a linear model\n",
    "clf = SVR(C=1.0, epsilon=0.2)\n",
    "clf.fit(x_train, y_train)\n",
    "\n",
    "# Predict the heights for the test set\n",
    "heights = clf.predict(x_test)\n",
    "\n",
    "#Convert heights from np.array to a list (to ensure it is JSON serializable)\n",
    "heights = heights.tolist()\n",
    "\n",
    "challenge.submit(heights)\n",
    "challenge.disconnect()"
   ]
  },
  {
   "cell_type": "markdown",
   "metadata": {},
   "source": [
    "# Linear Model"
   ]
  },
  {
   "cell_type": "markdown",
   "metadata": {},
   "source": [
    "## Data Prepare"
   ]
  },
  {
   "cell_type": "code",
   "execution_count": 32,
   "metadata": {},
   "outputs": [],
   "source": [
    "baranger_data=pd.read_csv(PATH/'Baranger_Data_crowdAI.txt',sep='\\t',index_col=0)\n",
    "train = baranger_data[baranger_data.Test==0]\n",
    "test = baranger_data[baranger_data.Test==1]"
   ]
  },
  {
   "cell_type": "code",
   "execution_count": 51,
   "metadata": {},
   "outputs": [],
   "source": [
    "height = pd.read_csv(PATH/'phenotypes.csv',index_col=0)"
   ]
  },
  {
   "cell_type": "code",
   "execution_count": 60,
   "metadata": {},
   "outputs": [],
   "source": [
    "height = height.loc[[x in train.index for x in height.IID]]"
   ]
  },
  {
   "cell_type": "code",
   "execution_count": 41,
   "metadata": {},
   "outputs": [
    {
     "data": {
      "text/html": [
       "<div>\n",
       "<style scoped>\n",
       "    .dataframe tbody tr th:only-of-type {\n",
       "        vertical-align: middle;\n",
       "    }\n",
       "\n",
       "    .dataframe tbody tr th {\n",
       "        vertical-align: top;\n",
       "    }\n",
       "\n",
       "    .dataframe thead th {\n",
       "        text-align: right;\n",
       "    }\n",
       "</style>\n",
       "<table border=\"1\" class=\"dataframe\">\n",
       "  <thead>\n",
       "    <tr style=\"text-align: right;\">\n",
       "      <th></th>\n",
       "      <th>Test</th>\n",
       "      <th>PC1</th>\n",
       "      <th>PC2</th>\n",
       "      <th>PC3</th>\n",
       "      <th>Sex</th>\n",
       "      <th>PRS</th>\n",
       "    </tr>\n",
       "    <tr>\n",
       "      <th>IID</th>\n",
       "      <th></th>\n",
       "      <th></th>\n",
       "      <th></th>\n",
       "      <th></th>\n",
       "      <th></th>\n",
       "      <th></th>\n",
       "    </tr>\n",
       "  </thead>\n",
       "  <tbody>\n",
       "    <tr>\n",
       "      <th>1</th>\n",
       "      <td>0</td>\n",
       "      <td>0.009527</td>\n",
       "      <td>-0.009397</td>\n",
       "      <td>0.018013</td>\n",
       "      <td>1</td>\n",
       "      <td>-0.000608</td>\n",
       "    </tr>\n",
       "    <tr>\n",
       "      <th>2</th>\n",
       "      <td>0</td>\n",
       "      <td>0.011700</td>\n",
       "      <td>-0.011119</td>\n",
       "      <td>0.007663</td>\n",
       "      <td>2</td>\n",
       "      <td>-0.000380</td>\n",
       "    </tr>\n",
       "    <tr>\n",
       "      <th>3</th>\n",
       "      <td>0</td>\n",
       "      <td>-0.051658</td>\n",
       "      <td>0.175381</td>\n",
       "      <td>-0.008953</td>\n",
       "      <td>1</td>\n",
       "      <td>-0.001026</td>\n",
       "    </tr>\n",
       "    <tr>\n",
       "      <th>4</th>\n",
       "      <td>0</td>\n",
       "      <td>0.011943</td>\n",
       "      <td>-0.014508</td>\n",
       "      <td>0.030367</td>\n",
       "      <td>1</td>\n",
       "      <td>-0.000254</td>\n",
       "    </tr>\n",
       "    <tr>\n",
       "      <th>5</th>\n",
       "      <td>0</td>\n",
       "      <td>0.001568</td>\n",
       "      <td>-0.007269</td>\n",
       "      <td>-0.040122</td>\n",
       "      <td>1</td>\n",
       "      <td>-0.000781</td>\n",
       "    </tr>\n",
       "  </tbody>\n",
       "</table>\n",
       "</div>"
      ],
      "text/plain": [
       "     Test       PC1       PC2       PC3  Sex       PRS\n",
       "IID                                                   \n",
       "1       0  0.009527 -0.009397  0.018013    1 -0.000608\n",
       "2       0  0.011700 -0.011119  0.007663    2 -0.000380\n",
       "3       0 -0.051658  0.175381 -0.008953    1 -0.001026\n",
       "4       0  0.011943 -0.014508  0.030367    1 -0.000254\n",
       "5       0  0.001568 -0.007269 -0.040122    1 -0.000781"
      ]
     },
     "execution_count": 41,
     "metadata": {},
     "output_type": "execute_result"
    }
   ],
   "source": [
    "train.head()"
   ]
  },
  {
   "cell_type": "markdown",
   "metadata": {},
   "source": [
    "## Linear Model by gender"
   ]
  },
  {
   "cell_type": "code",
   "execution_count": 53,
   "metadata": {},
   "outputs": [],
   "source": [
    "from sklearn import linear_model\n",
    "import crowdai"
   ]
  },
  {
   "cell_type": "code",
   "execution_count": 74,
   "metadata": {},
   "outputs": [
    {
     "name": "stderr",
     "output_type": "stream",
     "text": [
      "/home/ahmadA/anaconda3/envs/fastai/lib/python3.6/site-packages/ipykernel_launcher.py:1: FutureWarning: reshape is deprecated and will raise in a subsequent release. Please use .values.reshape(...) instead\n",
      "  \"\"\"Entry point for launching an IPython kernel.\n",
      "/home/ahmadA/anaconda3/envs/fastai/lib/python3.6/site-packages/ipykernel_launcher.py:5: FutureWarning: reshape is deprecated and will raise in a subsequent release. Please use .values.reshape(...) instead\n",
      "  \"\"\"\n"
     ]
    },
    {
     "name": "stdout",
     "output_type": "stream",
     "text": [
      "\u001b[1m\u001b[36mCrowdAI.Event.Authentication\u001b[0m : Authenticating for challenge = \u001b[4m\u001b[1m\u001b[34mOpenSNPChallenge2017\u001b[0m\n",
      "\u001b[1m\u001b[32mCrowdAI.Event.Connection.CONNECTED\u001b[0m\u001b[1m\u001b[32m\u001b[0m\n"
     ]
    },
    {
     "name": "stderr",
     "output_type": "stream",
     "text": [
      "\r",
      "  0% |          |[00:00<?]  ?% /s] "
     ]
    },
    {
     "name": "stdout",
     "output_type": "stream",
     "text": [
      "\u001b[1m\u001b[32mCrowdAI.Event.Authentication.SUCCESS\u001b[0m : \u001b[1m\u001b[32mAuthentication Successful\u001b[0m\n"
     ]
    },
    {
     "name": "stderr",
     "output_type": "stream",
     "text": [
      "\r",
      "          \r",
      "\r",
      "          \r",
      "  0% |          |[00:00<?]  ?% /s] "
     ]
    },
    {
     "name": "stdout",
     "output_type": "stream",
     "text": [
      "\u001b[1m\u001b[33mCrowdAI.Event.Job.ENQUEUED\u001b[0m : 3526c400-ae24-44d5-b790-68051c0c655b\n"
     ]
    },
    {
     "name": "stderr",
     "output_type": "stream",
     "text": [
      "\r",
      "          \r",
      "\r",
      "          \r",
      "  0% |          |[00:00<?]  ?% /s] "
     ]
    },
    {
     "name": "stdout",
     "output_type": "stream",
     "text": [
      "\u001b[1m\u001b[34mCrowdAI.Event.Job.RUNNING\u001b[0m : 3526c400-ae24-44d5-b790-68051c0c655b\n"
     ]
    },
    {
     "name": "stderr",
     "output_type": "stream",
     "text": [
      "100% |██████████|[00:00<00:00]  101.40% /s] \n"
     ]
    },
    {
     "name": "stdout",
     "output_type": "stream",
     "text": [
      "\u001b[1m\u001b[36mCrowdAI.Event.Job.INFO\u001b[0m : (3526c400-ae24-44d5-b790-68051c0c655b) Scores Submitted Successfully ! Coefficient of Determination(R^2) : 0.421175599356 ; MSE : 58.8403843506\n",
      "\u001b[1m\u001b[32mCrowdAI.Event.Job.COMPLETE\u001b[0m : \u001b[1m\u001b[32m3526c400-ae24-44d5-b790-68051c0c655b\u001b[0m\t   🍺 \n"
     ]
    }
   ],
   "source": [
    "x_train = train['Sex'].reshape(761,1)\n",
    "y_train = height['Height']\n",
    "x_test = test['Sex'].reshape(137,1)\n",
    "\n",
    "# Instantiate a linear model\n",
    "regr = linear_model.LinearRegression()\n",
    "regr.fit(x_train, y_train)\n",
    "\n",
    "# Predict the heights for the test set\n",
    "heights = regr.predict(x_test)\n",
    "#Convert heights from np.array to a list (to ensure it is JSON serializable)\n",
    "heights = heights.tolist()\n",
    "\n",
    "# Create the challenge object by authentication with crowdAI with your API_KEY\n",
    "challenge = crowdai.Challenge(\"OpenSNPChallenge2017\", \"02f5a9824254b85a068fbdfbb1298b8e\")\n",
    "challenge.submit(heights)\n",
    "challenge.disconnect()"
   ]
  },
  {
   "cell_type": "markdown",
   "metadata": {},
   "source": [
    "## Linear Model by gender + PCs"
   ]
  },
  {
   "cell_type": "code",
   "execution_count": 78,
   "metadata": {},
   "outputs": [
    {
     "name": "stdout",
     "output_type": "stream",
     "text": [
      "\u001b[1m\u001b[36mCrowdAI.Event.Authentication\u001b[0m : Authenticating for challenge = \u001b[4m\u001b[1m\u001b[34mOpenSNPChallenge2017\u001b[0m\n",
      "\u001b[1m\u001b[32mCrowdAI.Event.Connection.CONNECTED\u001b[0m\u001b[1m\u001b[32m\u001b[0m\n"
     ]
    },
    {
     "name": "stderr",
     "output_type": "stream",
     "text": [
      "\r",
      "  0% |          |[00:00<?]  ?% /s] "
     ]
    },
    {
     "name": "stdout",
     "output_type": "stream",
     "text": [
      "\u001b[1m\u001b[32mCrowdAI.Event.Authentication.SUCCESS\u001b[0m : \u001b[1m\u001b[32mAuthentication Successful\u001b[0m\n"
     ]
    },
    {
     "name": "stderr",
     "output_type": "stream",
     "text": [
      "\r",
      "          \r",
      "\r",
      "          \r",
      "  0% |          |[00:00<?]  ?% /s] "
     ]
    },
    {
     "name": "stdout",
     "output_type": "stream",
     "text": [
      "\u001b[1m\u001b[33mCrowdAI.Event.Job.ENQUEUED\u001b[0m : cb6cf503-7d50-4477-aeda-f995fb19b7b5\n"
     ]
    },
    {
     "name": "stderr",
     "output_type": "stream",
     "text": [
      "\r",
      "          \r",
      "\r",
      "          \r",
      "  0% |          |[00:00<?]  ?% /s] "
     ]
    },
    {
     "name": "stdout",
     "output_type": "stream",
     "text": [
      "\u001b[1m\u001b[34mCrowdAI.Event.Job.RUNNING\u001b[0m : cb6cf503-7d50-4477-aeda-f995fb19b7b5\n"
     ]
    },
    {
     "name": "stderr",
     "output_type": "stream",
     "text": [
      "100% |██████████|[00:00<00:00]  106.14% /s] \n"
     ]
    },
    {
     "name": "stdout",
     "output_type": "stream",
     "text": [
      "\u001b[1m\u001b[36mCrowdAI.Event.Job.INFO\u001b[0m : (cb6cf503-7d50-4477-aeda-f995fb19b7b5) Scores Submitted Successfully ! Coefficient of Determination(R^2) : 0.432761910646 ; MSE : 57.6625780786\n",
      "\u001b[1m\u001b[32mCrowdAI.Event.Job.COMPLETE\u001b[0m : \u001b[1m\u001b[32mcb6cf503-7d50-4477-aeda-f995fb19b7b5\u001b[0m\t   🍺 \n"
     ]
    }
   ],
   "source": [
    "x_train = train.iloc[:,1:5]\n",
    "y_train = height['Height']\n",
    "x_test = test.iloc[:,1:5]\n",
    "\n",
    "# Instantiate a linear model\n",
    "regr = linear_model.LinearRegression()\n",
    "regr.fit(x_train, y_train)\n",
    "\n",
    "# Predict the heights for the test set\n",
    "heights = regr.predict(x_test)\n",
    "#Convert heights from np.array to a list (to ensure it is JSON serializable)\n",
    "heights = heights.tolist()\n",
    "\n",
    "# Create the challenge object by authentication with crowdAI with your API_KEY\n",
    "challenge = crowdai.Challenge(\"OpenSNPChallenge2017\", \"02f5a9824254b85a068fbdfbb1298b8e\")\n",
    "challenge.submit(heights)\n",
    "challenge.disconnect()"
   ]
  },
  {
   "cell_type": "markdown",
   "metadata": {},
   "source": [
    "## Linear Model by gender +PCs+PRS"
   ]
  },
  {
   "cell_type": "code",
   "execution_count": 79,
   "metadata": {},
   "outputs": [
    {
     "name": "stdout",
     "output_type": "stream",
     "text": [
      "\u001b[1m\u001b[36mCrowdAI.Event.Authentication\u001b[0m : Authenticating for challenge = \u001b[4m\u001b[1m\u001b[34mOpenSNPChallenge2017\u001b[0m\n",
      "\u001b[1m\u001b[32mCrowdAI.Event.Connection.CONNECTED\u001b[0m\u001b[1m\u001b[32m\u001b[0m\n"
     ]
    },
    {
     "name": "stderr",
     "output_type": "stream",
     "text": [
      "\r",
      "  0% |          |[00:00<?]  ?% /s] "
     ]
    },
    {
     "name": "stdout",
     "output_type": "stream",
     "text": [
      "\u001b[1m\u001b[32mCrowdAI.Event.Authentication.SUCCESS\u001b[0m : \u001b[1m\u001b[32mAuthentication Successful\u001b[0m\n"
     ]
    },
    {
     "name": "stderr",
     "output_type": "stream",
     "text": [
      "\r",
      "          \r",
      "\r",
      "          \r",
      "  0% |          |[00:00<?]  ?% /s] "
     ]
    },
    {
     "name": "stdout",
     "output_type": "stream",
     "text": [
      "\u001b[1m\u001b[33mCrowdAI.Event.Job.ENQUEUED\u001b[0m : ebcc8c3f-5df9-4856-8737-2bbc5ea3d7be\n"
     ]
    },
    {
     "name": "stderr",
     "output_type": "stream",
     "text": [
      "\r",
      "          \r",
      "\r",
      "          \r",
      "  0% |          |[00:00<?]  ?% /s] "
     ]
    },
    {
     "name": "stdout",
     "output_type": "stream",
     "text": [
      "\u001b[1m\u001b[34mCrowdAI.Event.Job.RUNNING\u001b[0m : ebcc8c3f-5df9-4856-8737-2bbc5ea3d7be\n"
     ]
    },
    {
     "name": "stderr",
     "output_type": "stream",
     "text": [
      "100% |██████████|[00:01<00:00]  96.75% /s] \n"
     ]
    },
    {
     "name": "stdout",
     "output_type": "stream",
     "text": [
      "\u001b[1m\u001b[36mCrowdAI.Event.Job.INFO\u001b[0m : (ebcc8c3f-5df9-4856-8737-2bbc5ea3d7be) Scores Submitted Successfully ! Coefficient of Determination(R^2) : 0.534577998454 ; MSE : 47.3124654485\n",
      "\u001b[1m\u001b[32mCrowdAI.Event.Job.COMPLETE\u001b[0m : \u001b[1m\u001b[32mebcc8c3f-5df9-4856-8737-2bbc5ea3d7be\u001b[0m\t   🍺 \n"
     ]
    }
   ],
   "source": [
    "x_train = train.iloc[:,1:6]\n",
    "y_train = height['Height']\n",
    "x_test = test.iloc[:,1:6]\n",
    "\n",
    "# Instantiate a linear model\n",
    "regr = linear_model.LinearRegression()\n",
    "regr.fit(x_train, y_train)\n",
    "\n",
    "# Predict the heights for the test set\n",
    "heights = regr.predict(x_test)\n",
    "#Convert heights from np.array to a list (to ensure it is JSON serializable)\n",
    "heights = heights.tolist()\n",
    "\n",
    "# Create the challenge object by authentication with crowdAI with your API_KEY\n",
    "challenge = crowdai.Challenge(\"OpenSNPChallenge2017\", \"02f5a9824254b85a068fbdfbb1298b8e\")\n",
    "challenge.submit(heights)\n",
    "challenge.disconnect()"
   ]
  },
  {
   "cell_type": "code",
   "execution_count": 83,
   "metadata": {},
   "outputs": [
    {
     "name": "stdout",
     "output_type": "stream",
     "text": [
      "\u001b[1m\u001b[36mCrowdAI.Event.Authentication\u001b[0m : Authenticating for challenge = \u001b[4m\u001b[1m\u001b[34mOpenSNPChallenge2017\u001b[0m\n",
      "\u001b[1m\u001b[32mCrowdAI.Event.Connection.CONNECTED\u001b[0m\u001b[1m\u001b[32m\u001b[0m\n"
     ]
    },
    {
     "name": "stderr",
     "output_type": "stream",
     "text": [
      "\r",
      "  0% |          |[00:00<?]  ?% /s] "
     ]
    },
    {
     "name": "stdout",
     "output_type": "stream",
     "text": [
      "\u001b[1m\u001b[32mCrowdAI.Event.Authentication.SUCCESS\u001b[0m : \u001b[1m\u001b[32mAuthentication Successful\u001b[0m\n"
     ]
    },
    {
     "name": "stderr",
     "output_type": "stream",
     "text": [
      "\r",
      "          \r",
      "\r",
      "          \r",
      "  0% |          |[00:00<?]  ?% /s] "
     ]
    },
    {
     "name": "stdout",
     "output_type": "stream",
     "text": [
      "\u001b[1m\u001b[33mCrowdAI.Event.Job.ENQUEUED\u001b[0m : 1e2259cc-3966-4da0-8ba6-c0bef30e447c\n"
     ]
    },
    {
     "name": "stderr",
     "output_type": "stream",
     "text": [
      "\r",
      "          \r",
      "\r",
      "          \r",
      "  0% |          |[00:00<?]  ?% /s] "
     ]
    },
    {
     "name": "stdout",
     "output_type": "stream",
     "text": [
      "\u001b[1m\u001b[34mCrowdAI.Event.Job.RUNNING\u001b[0m : 1e2259cc-3966-4da0-8ba6-c0bef30e447c\n"
     ]
    },
    {
     "name": "stderr",
     "output_type": "stream",
     "text": [
      "100% |██████████|[00:00<00:00]  108.23% /s] \n"
     ]
    },
    {
     "name": "stdout",
     "output_type": "stream",
     "text": [
      "\u001b[1m\u001b[36mCrowdAI.Event.Job.INFO\u001b[0m : (1e2259cc-3966-4da0-8ba6-c0bef30e447c) Scores Submitted Successfully ! Coefficient of Determination(R^2) : -1.91950561829 ; MSE : 296.782292701\n",
      "\u001b[1m\u001b[32mCrowdAI.Event.Job.COMPLETE\u001b[0m : \u001b[1m\u001b[32m1e2259cc-3966-4da0-8ba6-c0bef30e447c\u001b[0m\t   🍺 \n"
     ]
    }
   ],
   "source": [
    "import random\n",
    "# Create the challenge object by authentication with crowdAI with your API_KEY\n",
    "challenge = crowdai.Challenge(\"OpenSNPChallenge2017\", \"02f5a9824254b85a068fbdfbb1298b8e\")\n",
    "\n",
    "# Create a list of 137 randomly predicted heights\n",
    "data = [random.randint(150, 200) for x in range(137)]\n",
    "\n",
    "# Submit to crowdAI\n",
    "challenge.submit(data)\n",
    "challenge.disconnect()"
   ]
  },
  {
   "cell_type": "markdown",
   "metadata": {},
   "source": [
    "## Data Explore"
   ]
  },
  {
   "cell_type": "markdown",
   "metadata": {},
   "source": [
    "## Make Phenotypes File"
   ]
  },
  {
   "cell_type": "code",
   "execution_count": 13,
   "metadata": {},
   "outputs": [],
   "source": [
    "import pandas as pd"
   ]
  },
  {
   "cell_type": "code",
   "execution_count": 7,
   "metadata": {},
   "outputs": [
    {
     "name": "stderr",
     "output_type": "stream",
     "text": [
      "Mapping files: 100%|██████████| 3/3 [00:11<00:00,  5.27s/it]\n"
     ]
    }
   ],
   "source": [
    "from pandas_plink import read_plink\n",
    "(bim, fam, G) = read_plink('ddat/crowdAI/OpenSNP_train')"
   ]
  },
  {
   "cell_type": "code",
   "execution_count": 22,
   "metadata": {},
   "outputs": [],
   "source": [
    "tmp=pd.DataFrame({\"IID\":np.array(fam.iid),\"Height\":trn_h})"
   ]
  },
  {
   "cell_type": "code",
   "execution_count": 35,
   "metadata": {},
   "outputs": [],
   "source": [
    "tmp.to_csv(f\"{PATH}/phenotypes.csv\")"
   ]
  },
  {
   "cell_type": "code",
   "execution_count": null,
   "metadata": {},
   "outputs": [],
   "source": []
  }
 ],
 "metadata": {
  "kernelspec": {
   "display_name": "Python 3",
   "language": "python",
   "name": "python3"
  },
  "language_info": {
   "codemirror_mode": {
    "name": "ipython",
    "version": 3
   },
   "file_extension": ".py",
   "mimetype": "text/x-python",
   "name": "python",
   "nbconvert_exporter": "python",
   "pygments_lexer": "ipython3",
   "version": "3.6.7"
  }
 },
 "nbformat": 4,
 "nbformat_minor": 2
}
